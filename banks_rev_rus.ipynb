{
 "cells": [
  {
   "cell_type": "markdown",
   "metadata": {},
   "source": []
  },
  {
   "cell_type": "code",
   "execution_count": 50,
   "metadata": {},
   "outputs": [
    {
     "name": "stdout",
     "output_type": "stream",
     "text": [
      "Requirement already satisfied: pymorphy2 in /Users/sna/opt/anaconda3/lib/python3.9/site-packages (0.9.1)\n",
      "Requirement already satisfied: pymorphy2-dicts-ru<3.0,>=2.4 in /Users/sna/opt/anaconda3/lib/python3.9/site-packages (from pymorphy2) (2.4.417127.4579844)\n",
      "Requirement already satisfied: dawg-python>=0.7.1 in /Users/sna/opt/anaconda3/lib/python3.9/site-packages (from pymorphy2) (0.7.2)\n",
      "Requirement already satisfied: docopt>=0.6 in /Users/sna/opt/anaconda3/lib/python3.9/site-packages (from pymorphy2) (0.6.2)\n",
      "Note: you may need to restart the kernel to use updated packages.\n",
      "Requirement already satisfied: pandas in /Users/sna/opt/anaconda3/lib/python3.9/site-packages (1.4.4)\n",
      "Requirement already satisfied: python-dateutil>=2.8.1 in /Users/sna/opt/anaconda3/lib/python3.9/site-packages (from pandas) (2.8.2)\n",
      "Requirement already satisfied: pytz>=2020.1 in /Users/sna/opt/anaconda3/lib/python3.9/site-packages (from pandas) (2022.1)\n",
      "Requirement already satisfied: numpy>=1.20.0 in /Users/sna/opt/anaconda3/lib/python3.9/site-packages (from pandas) (1.21.5)\n",
      "Requirement already satisfied: six>=1.5 in /Users/sna/opt/anaconda3/lib/python3.9/site-packages (from python-dateutil>=2.8.1->pandas) (1.16.0)\n",
      "Note: you may need to restart the kernel to use updated packages.\n",
      "Requirement already satisfied: seaborn in /Users/sna/opt/anaconda3/lib/python3.9/site-packages (0.12.1)\n",
      "Requirement already satisfied: numpy>=1.17 in /Users/sna/opt/anaconda3/lib/python3.9/site-packages (from seaborn) (1.21.5)\n",
      "Requirement already satisfied: matplotlib!=3.6.1,>=3.1 in /Users/sna/opt/anaconda3/lib/python3.9/site-packages (from seaborn) (3.6.2)\n",
      "Requirement already satisfied: pandas>=0.25 in /Users/sna/opt/anaconda3/lib/python3.9/site-packages (from seaborn) (1.4.4)\n",
      "Requirement already satisfied: contourpy>=1.0.1 in /Users/sna/opt/anaconda3/lib/python3.9/site-packages (from matplotlib!=3.6.1,>=3.1->seaborn) (1.0.5)\n",
      "Requirement already satisfied: python-dateutil>=2.7 in /Users/sna/opt/anaconda3/lib/python3.9/site-packages (from matplotlib!=3.6.1,>=3.1->seaborn) (2.8.2)\n",
      "Requirement already satisfied: fonttools>=4.22.0 in /Users/sna/opt/anaconda3/lib/python3.9/site-packages (from matplotlib!=3.6.1,>=3.1->seaborn) (4.25.0)\n",
      "Requirement already satisfied: pyparsing>=2.2.1 in /Users/sna/opt/anaconda3/lib/python3.9/site-packages (from matplotlib!=3.6.1,>=3.1->seaborn) (3.0.9)\n",
      "Requirement already satisfied: cycler>=0.10 in /Users/sna/opt/anaconda3/lib/python3.9/site-packages (from matplotlib!=3.6.1,>=3.1->seaborn) (0.11.0)\n",
      "Requirement already satisfied: pillow>=6.2.0 in /Users/sna/opt/anaconda3/lib/python3.9/site-packages (from matplotlib!=3.6.1,>=3.1->seaborn) (9.2.0)\n",
      "Requirement already satisfied: packaging>=20.0 in /Users/sna/opt/anaconda3/lib/python3.9/site-packages (from matplotlib!=3.6.1,>=3.1->seaborn) (21.3)\n",
      "Requirement already satisfied: kiwisolver>=1.0.1 in /Users/sna/opt/anaconda3/lib/python3.9/site-packages (from matplotlib!=3.6.1,>=3.1->seaborn) (1.4.2)\n",
      "Requirement already satisfied: pytz>=2020.1 in /Users/sna/opt/anaconda3/lib/python3.9/site-packages (from pandas>=0.25->seaborn) (2022.1)\n",
      "Requirement already satisfied: six>=1.5 in /Users/sna/opt/anaconda3/lib/python3.9/site-packages (from python-dateutil>=2.7->matplotlib!=3.6.1,>=3.1->seaborn) (1.16.0)\n",
      "Note: you may need to restart the kernel to use updated packages.\n",
      "Requirement already satisfied: nltk in /Users/sna/opt/anaconda3/lib/python3.9/site-packages (3.7)\n",
      "Requirement already satisfied: regex>=2021.8.3 in /Users/sna/opt/anaconda3/lib/python3.9/site-packages (from nltk) (2022.7.9)\n",
      "Requirement already satisfied: tqdm in /Users/sna/opt/anaconda3/lib/python3.9/site-packages (from nltk) (4.64.1)\n",
      "Requirement already satisfied: joblib in /Users/sna/opt/anaconda3/lib/python3.9/site-packages (from nltk) (1.1.1)\n",
      "Requirement already satisfied: click in /Users/sna/opt/anaconda3/lib/python3.9/site-packages (from nltk) (8.0.4)\n",
      "Note: you may need to restart the kernel to use updated packages.\n"
     ]
    }
   ],
   "source": [
    "%pip install pymorphy2\n",
    "%pip install pandas\n",
    "%pip install seaborn\n",
    "%pip install nltk\n"
   ]
  },
  {
   "cell_type": "code",
   "execution_count": 51,
   "metadata": {},
   "outputs": [
    {
     "name": "stderr",
     "output_type": "stream",
     "text": [
      "[nltk_data] Downloading package punkt to /Users/sna/nltk_data...\n",
      "[nltk_data]   Package punkt is already up-to-date!\n"
     ]
    },
    {
     "data": {
      "text/plain": [
       "True"
      ]
     },
     "execution_count": 51,
     "metadata": {},
     "output_type": "execute_result"
    }
   ],
   "source": [
    "import pandas as pd\n",
    "pd.set_option('display.max_columns', None)\n",
    "pd.options.display.max_colwidth = 150\n",
    "\n",
    "\n",
    "#import math as mth\n",
    "#import matplotlib.pyplot as plt\n",
    "#from scipy import stats as st\n",
    "#from statsmodels.stats.weightstats import ttest_ind\n",
    "#from scipy.stats import ttest_ind_from_stats\n",
    "\n",
    "import numpy as np\n",
    "import seaborn as sns; sns.set()\n",
    "cm = sns.light_palette(\"green\", as_cmap=True)\n",
    "\n",
    "import nltk\n",
    "import pymorphy2\n",
    "from nltk.tokenize import word_tokenize\n",
    "from nltk.corpus import stopwords\n",
    "nltk.download('punkt')\n",
    "#import os\n",
    "\n"
   ]
  },
  {
   "cell_type": "code",
   "execution_count": 52,
   "metadata": {},
   "outputs": [
    {
     "data": {
      "text/plain": [
       "'\\nROOT = os.path.abspath(\"/Users/sna/Dropbox/git/banks/datasets/\")\\ndirectories = os.listdir(ROOT)\\nfor dir in directories:\\n    print(dir)\\n'"
      ]
     },
     "execution_count": 52,
     "metadata": {},
     "output_type": "execute_result"
    }
   ],
   "source": [
    "data = pd.read_csv('/Users/sna/Dropbox/git/banks/datasets/banks.csv', sep='\\t', on_bad_lines='skip')\n",
    "'''\n",
    "path = os.path.join('/' + os.sep, 'Users', 'sna', 'Dropbox', 'git', 'banks', 'datasets', 'banks.csv')\n",
    "data = pd.read_csv(path, sep='\\t')\n",
    "'''\n",
    "#data = pd.read_csv('/sna/Dropbox/git/banks/datasets/banks.csv')\n",
    "\n",
    "#path = './datasets/banks.csv'\n",
    "\n",
    "'''\n",
    "ROOT = os.path.abspath(\"/Users/sna/Dropbox/git/banks/datasets/\")\n",
    "directories = os.listdir(ROOT)\n",
    "for dir in directories:\n",
    "    print(dir)\n",
    "'''\n"
   ]
  },
  {
   "cell_type": "code",
   "execution_count": 53,
   "metadata": {},
   "outputs": [
    {
     "name": "stdout",
     "output_type": "stream",
     "text": [
      "\u001b[31m______________info_____________________\u001b[0m\n",
      "<class 'pandas.core.frame.DataFrame'>\n",
      "RangeIndex: 13999 entries, 0 to 13998\n",
      "Data columns (total 3 columns):\n",
      " #   Column  Non-Null Count  Dtype \n",
      "---  ------  --------------  ----- \n",
      " 0   idx     13999 non-null  int64 \n",
      " 1   Score   13999 non-null  object\n",
      " 2   Text    13999 non-null  object\n",
      "dtypes: int64(1), object(2)\n",
      "memory usage: 328.2+ KB\n"
     ]
    },
    {
     "data": {
      "text/plain": [
       "None"
      ]
     },
     "metadata": {},
     "output_type": "display_data"
    },
    {
     "name": "stdout",
     "output_type": "stream",
     "text": [
      "\u001b[31m______________describe_________________\u001b[0m\n"
     ]
    },
    {
     "data": {
      "text/html": [
       "<div>\n",
       "<style scoped>\n",
       "    .dataframe tbody tr th:only-of-type {\n",
       "        vertical-align: middle;\n",
       "    }\n",
       "\n",
       "    .dataframe tbody tr th {\n",
       "        vertical-align: top;\n",
       "    }\n",
       "\n",
       "    .dataframe thead th {\n",
       "        text-align: right;\n",
       "    }\n",
       "</style>\n",
       "<table border=\"1\" class=\"dataframe\">\n",
       "  <thead>\n",
       "    <tr style=\"text-align: right;\">\n",
       "      <th></th>\n",
       "      <th>count</th>\n",
       "      <th>mean</th>\n",
       "      <th>std</th>\n",
       "      <th>min</th>\n",
       "      <th>25%</th>\n",
       "      <th>50%</th>\n",
       "      <th>75%</th>\n",
       "      <th>max</th>\n",
       "    </tr>\n",
       "  </thead>\n",
       "  <tbody>\n",
       "    <tr>\n",
       "      <th>idx</th>\n",
       "      <td>13999.0</td>\n",
       "      <td>6999.0</td>\n",
       "      <td>4041.307544</td>\n",
       "      <td>0.0</td>\n",
       "      <td>3499.5</td>\n",
       "      <td>6999.0</td>\n",
       "      <td>10498.5</td>\n",
       "      <td>13998.0</td>\n",
       "    </tr>\n",
       "  </tbody>\n",
       "</table>\n",
       "</div>"
      ],
      "text/plain": [
       "       count    mean          std  min     25%     50%      75%      max\n",
       "idx  13999.0  6999.0  4041.307544  0.0  3499.5  6999.0  10498.5  13998.0"
      ]
     },
     "metadata": {},
     "output_type": "display_data"
    },
    {
     "name": "stdout",
     "output_type": "stream",
     "text": [
      "\u001b[31m______________head_____________________\u001b[0m\n"
     ]
    },
    {
     "data": {
      "text/html": [
       "<div>\n",
       "<style scoped>\n",
       "    .dataframe tbody tr th:only-of-type {\n",
       "        vertical-align: middle;\n",
       "    }\n",
       "\n",
       "    .dataframe tbody tr th {\n",
       "        vertical-align: top;\n",
       "    }\n",
       "\n",
       "    .dataframe thead th {\n",
       "        text-align: right;\n",
       "    }\n",
       "</style>\n",
       "<table border=\"1\" class=\"dataframe\">\n",
       "  <thead>\n",
       "    <tr style=\"text-align: right;\">\n",
       "      <th></th>\n",
       "      <th>idx</th>\n",
       "      <th>Score</th>\n",
       "      <th>Text</th>\n",
       "    </tr>\n",
       "  </thead>\n",
       "  <tbody>\n",
       "    <tr>\n",
       "      <th>0</th>\n",
       "      <td>0</td>\n",
       "      <td>Positive</td>\n",
       "      <td>В Альфа-Банке работает замечательная девушка - Ильясова Орна, вежливая, отзывчивая, действительно участвует в запросе клиента, я приходила к ней п...</td>\n",
       "    </tr>\n",
       "    <tr>\n",
       "      <th>1</th>\n",
       "      <td>1</td>\n",
       "      <td>Negative</td>\n",
       "      <td>Оформляя рассрочку в м. Видео в меге тёплый стан. Попросила менеджера, чтобы заявка была без страховки. В итоге, когда подписывала договор, в дого...</td>\n",
       "    </tr>\n",
       "    <tr>\n",
       "      <th>2</th>\n",
       "      <td>2</td>\n",
       "      <td>Positive</td>\n",
       "      <td>Очень порадовала оперативность работы в банке. Заказал через интернет карту visa classic, потребовалось подойти в банк для подписания заявления. В...</td>\n",
       "    </tr>\n",
       "    <tr>\n",
       "      <th>3</th>\n",
       "      <td>3</td>\n",
       "      <td>Negative</td>\n",
       "      <td>Имела неосторожность оформить потреб. кредит в Альфа-банке - очень жалею. Во-первых, карту при оформлении кредита мне не выдали (объяснили тем, чт...</td>\n",
       "    </tr>\n",
       "    <tr>\n",
       "      <th>4</th>\n",
       "      <td>4</td>\n",
       "      <td>Negative</td>\n",
       "      <td>Небольшая предыстория: Нашел на сайте MDM банка интересную ко-бренд карту «Техносила – MDM банк», подал заявку на нее, и скоро позвонили с горячей...</td>\n",
       "    </tr>\n",
       "    <tr>\n",
       "      <th>5</th>\n",
       "      <td>5</td>\n",
       "      <td>Positive</td>\n",
       "      <td>В конце февраля оформила кредитную карту банка Авангард в качестве страховки, на всякий непредвиденный случай, и уже тогда была удивлена скоростны...</td>\n",
       "    </tr>\n",
       "    <tr>\n",
       "      <th>6</th>\n",
       "      <td>6</td>\n",
       "      <td>Negative</td>\n",
       "      <td>Месяц назад взял автокредит. До этого ходили по разным салонам Форд, присматривая машину. Исходил из конкретной суммы автомобиля и конкретного пер...</td>\n",
       "    </tr>\n",
       "    <tr>\n",
       "      <th>7</th>\n",
       "      <td>7</td>\n",
       "      <td>Negative</td>\n",
       "      <td>Не говоря про махинации с бонусами, остановлюсь на процентах по среднемесячному остатку средств на карте. Пару месяцев, усыпляя бдительность, начи...</td>\n",
       "    </tr>\n",
       "    <tr>\n",
       "      <th>8</th>\n",
       "      <td>8</td>\n",
       "      <td>Negative</td>\n",
       "      <td>День добрый, моя мама С-на В.А.,1932г рождения, пенсионерка. Является клиентом Бинбанка. С октября 2015 года не может снять свою пенсию с карты, т...</td>\n",
       "    </tr>\n",
       "    <tr>\n",
       "      <th>9</th>\n",
       "      <td>9</td>\n",
       "      <td>Negative</td>\n",
       "      <td>Всех приветствую.Я являюсь клиентом этого чудо-банка. Договор 04101473481, брал в кредит автомобиль с сентября 2015 года.При заключении договора к...</td>\n",
       "    </tr>\n",
       "  </tbody>\n",
       "</table>\n",
       "</div>"
      ],
      "text/plain": [
       "   idx     Score  \\\n",
       "0    0  Positive   \n",
       "1    1  Negative   \n",
       "2    2  Positive   \n",
       "3    3  Negative   \n",
       "4    4  Negative   \n",
       "5    5  Positive   \n",
       "6    6  Negative   \n",
       "7    7  Negative   \n",
       "8    8  Negative   \n",
       "9    9  Negative   \n",
       "\n",
       "                                                                                                                                                    Text  \n",
       "0  В Альфа-Банке работает замечательная девушка - Ильясова Орна, вежливая, отзывчивая, действительно участвует в запросе клиента, я приходила к ней п...  \n",
       "1  Оформляя рассрочку в м. Видео в меге тёплый стан. Попросила менеджера, чтобы заявка была без страховки. В итоге, когда подписывала договор, в дого...  \n",
       "2  Очень порадовала оперативность работы в банке. Заказал через интернет карту visa classic, потребовалось подойти в банк для подписания заявления. В...  \n",
       "3  Имела неосторожность оформить потреб. кредит в Альфа-банке - очень жалею. Во-первых, карту при оформлении кредита мне не выдали (объяснили тем, чт...  \n",
       "4  Небольшая предыстория: Нашел на сайте MDM банка интересную ко-бренд карту «Техносила – MDM банк», подал заявку на нее, и скоро позвонили с горячей...  \n",
       "5  В конце февраля оформила кредитную карту банка Авангард в качестве страховки, на всякий непредвиденный случай, и уже тогда была удивлена скоростны...  \n",
       "6  Месяц назад взял автокредит. До этого ходили по разным салонам Форд, присматривая машину. Исходил из конкретной суммы автомобиля и конкретного пер...  \n",
       "7  Не говоря про махинации с бонусами, остановлюсь на процентах по среднемесячному остатку средств на карте. Пару месяцев, усыпляя бдительность, начи...  \n",
       "8  День добрый, моя мама С-на В.А.,1932г рождения, пенсионерка. Является клиентом Бинбанка. С октября 2015 года не может снять свою пенсию с карты, т...  \n",
       "9  Всех приветствую.Я являюсь клиентом этого чудо-банка. Договор 04101473481, брал в кредит автомобиль с сентября 2015 года.При заключении договора к...  "
      ]
     },
     "metadata": {},
     "output_type": "display_data"
    },
    {
     "name": "stdout",
     "output_type": "stream",
     "text": [
      "\u001b[31m______________sample___________________\u001b[0m\n"
     ]
    },
    {
     "data": {
      "text/html": [
       "<div>\n",
       "<style scoped>\n",
       "    .dataframe tbody tr th:only-of-type {\n",
       "        vertical-align: middle;\n",
       "    }\n",
       "\n",
       "    .dataframe tbody tr th {\n",
       "        vertical-align: top;\n",
       "    }\n",
       "\n",
       "    .dataframe thead th {\n",
       "        text-align: right;\n",
       "    }\n",
       "</style>\n",
       "<table border=\"1\" class=\"dataframe\">\n",
       "  <thead>\n",
       "    <tr style=\"text-align: right;\">\n",
       "      <th></th>\n",
       "      <th>idx</th>\n",
       "      <th>Score</th>\n",
       "      <th>Text</th>\n",
       "    </tr>\n",
       "  </thead>\n",
       "  <tbody>\n",
       "    <tr>\n",
       "      <th>6225</th>\n",
       "      <td>6225</td>\n",
       "      <td>Positive</td>\n",
       "      <td>Добрый день!Ситуация следующая: произошла смена директора, начались проволочки по смене в самом банке - этот документ не тот, в решении не та дата...</td>\n",
       "    </tr>\n",
       "    <tr>\n",
       "      <th>13902</th>\n",
       "      <td>13902</td>\n",
       "      <td>Positive</td>\n",
       "      <td>Обращаюсь в Банк Ренессанс Кредит не первый раз. В основном были потребительские кредиты в магазинах.Очень рад видеть, что со временем обслуживани...</td>\n",
       "    </tr>\n",
       "    <tr>\n",
       "      <th>8694</th>\n",
       "      <td>8694</td>\n",
       "      <td>Negative</td>\n",
       "      <td>Забыл в пятницу кинуть денег на кредитную карту, т.е. ежемесячный платеж. В субботу утром проснулся, смотрю - на телефоне больше десятка пропущенн...</td>\n",
       "    </tr>\n",
       "    <tr>\n",
       "      <th>6991</th>\n",
       "      <td>6991</td>\n",
       "      <td>Positive</td>\n",
       "      <td>Здравствуйте... а я хочу похвалить работников банка Хоум кредит. Особенно хочу выразить благодарность Светлане Вельможиной директора департамента ...</td>\n",
       "    </tr>\n",
       "    <tr>\n",
       "      <th>12872</th>\n",
       "      <td>12872</td>\n",
       "      <td>Negative</td>\n",
       "      <td>Решил на свою голову воспользоваться услугами данного банка. И за 3 месяца пользования их так называемыми услугами - ничего кроме геморроя не прио...</td>\n",
       "    </tr>\n",
       "    <tr>\n",
       "      <th>13355</th>\n",
       "      <td>13355</td>\n",
       "      <td>Positive</td>\n",
       "      <td>Есть у меня карта зарплатная СБРФ. Через некоторое время после пользования данной картой предложили кредитную, с неплохими условиями, немного поду...</td>\n",
       "    </tr>\n",
       "    <tr>\n",
       "      <th>1512</th>\n",
       "      <td>1512</td>\n",
       "      <td>Negative</td>\n",
       "      <td>Далеко не в первый раз сталкиваюсь с кредитами, да и по работе с банками приходится общаться, но ТАКОГО еще не встречала. Некомпетентность (я узна...</td>\n",
       "    </tr>\n",
       "    <tr>\n",
       "      <th>8276</th>\n",
       "      <td>8276</td>\n",
       "      <td>Negative</td>\n",
       "      <td>Являюсь клиенткой старого МДМ Банка... как и многие тут пишут... теперь, увы, нового. Сервис упал просто до ужаса. У меня КК банка с 2008 года. Пл...</td>\n",
       "    </tr>\n",
       "    <tr>\n",
       "      <th>9597</th>\n",
       "      <td>9597</td>\n",
       "      <td>Negative</td>\n",
       "      <td>23 декабря 2014 года из Альфа-Банка пришло письмо о том, что я оформила кредит и не оплачиваю его. Я никогда не оформляла кредит в Альфа-Банке и н...</td>\n",
       "    </tr>\n",
       "    <tr>\n",
       "      <th>4153</th>\n",
       "      <td>4153</td>\n",
       "      <td>Negative</td>\n",
       "      <td>Пользуюсь 3 месяц картой БинБанка с Кэш Бэком и в целом положительно. БУДЬТЕ ВНИМАТЕЛЬНЫ! В договоре на получение карты, на первой странице, если ...</td>\n",
       "    </tr>\n",
       "  </tbody>\n",
       "</table>\n",
       "</div>"
      ],
      "text/plain": [
       "         idx     Score  \\\n",
       "6225    6225  Positive   \n",
       "13902  13902  Positive   \n",
       "8694    8694  Negative   \n",
       "6991    6991  Positive   \n",
       "12872  12872  Negative   \n",
       "13355  13355  Positive   \n",
       "1512    1512  Negative   \n",
       "8276    8276  Negative   \n",
       "9597    9597  Negative   \n",
       "4153    4153  Negative   \n",
       "\n",
       "                                                                                                                                                        Text  \n",
       "6225   Добрый день!Ситуация следующая: произошла смена директора, начались проволочки по смене в самом банке - этот документ не тот, в решении не та дата...  \n",
       "13902  Обращаюсь в Банк Ренессанс Кредит не первый раз. В основном были потребительские кредиты в магазинах.Очень рад видеть, что со временем обслуживани...  \n",
       "8694   Забыл в пятницу кинуть денег на кредитную карту, т.е. ежемесячный платеж. В субботу утром проснулся, смотрю - на телефоне больше десятка пропущенн...  \n",
       "6991   Здравствуйте... а я хочу похвалить работников банка Хоум кредит. Особенно хочу выразить благодарность Светлане Вельможиной директора департамента ...  \n",
       "12872  Решил на свою голову воспользоваться услугами данного банка. И за 3 месяца пользования их так называемыми услугами - ничего кроме геморроя не прио...  \n",
       "13355  Есть у меня карта зарплатная СБРФ. Через некоторое время после пользования данной картой предложили кредитную, с неплохими условиями, немного поду...  \n",
       "1512   Далеко не в первый раз сталкиваюсь с кредитами, да и по работе с банками приходится общаться, но ТАКОГО еще не встречала. Некомпетентность (я узна...  \n",
       "8276   Являюсь клиенткой старого МДМ Банка... как и многие тут пишут... теперь, увы, нового. Сервис упал просто до ужаса. У меня КК банка с 2008 года. Пл...  \n",
       "9597   23 декабря 2014 года из Альфа-Банка пришло письмо о том, что я оформила кредит и не оплачиваю его. Я никогда не оформляла кредит в Альфа-Банке и н...  \n",
       "4153   Пользуюсь 3 месяц картой БинБанка с Кэш Бэком и в целом положительно. БУДЬТЕ ВНИМАТЕЛЬНЫ! В договоре на получение карты, на первой странице, если ...  "
      ]
     },
     "metadata": {},
     "output_type": "display_data"
    },
    {
     "name": "stdout",
     "output_type": "stream",
     "text": [
      "\u001b[31m______________tail_____________________\u001b[0m\n"
     ]
    },
    {
     "data": {
      "text/html": [
       "<div>\n",
       "<style scoped>\n",
       "    .dataframe tbody tr th:only-of-type {\n",
       "        vertical-align: middle;\n",
       "    }\n",
       "\n",
       "    .dataframe tbody tr th {\n",
       "        vertical-align: top;\n",
       "    }\n",
       "\n",
       "    .dataframe thead th {\n",
       "        text-align: right;\n",
       "    }\n",
       "</style>\n",
       "<table border=\"1\" class=\"dataframe\">\n",
       "  <thead>\n",
       "    <tr style=\"text-align: right;\">\n",
       "      <th></th>\n",
       "      <th>idx</th>\n",
       "      <th>Score</th>\n",
       "      <th>Text</th>\n",
       "    </tr>\n",
       "  </thead>\n",
       "  <tbody>\n",
       "    <tr>\n",
       "      <th>13989</th>\n",
       "      <td>13989</td>\n",
       "      <td>Negative</td>\n",
       "      <td>В марте этого года мною через сайт Банка была оформлена заявка на кредитную карту (КК). Выпуск карты был одобрен. Через некоторое время пришла смс...</td>\n",
       "    </tr>\n",
       "    <tr>\n",
       "      <th>13990</th>\n",
       "      <td>13990</td>\n",
       "      <td>Positive</td>\n",
       "      <td>Брала в ноябре ипотеку в Абсолют Банке. Хочу выразить благодарность моему кредитному менеджеру из отдела новостроек Новиковой Наталье и менеджеру,...</td>\n",
       "    </tr>\n",
       "    <tr>\n",
       "      <th>13991</th>\n",
       "      <td>13991</td>\n",
       "      <td>Negative</td>\n",
       "      <td>А все остальное так и осталось. Началось все конечно смешно, сотрудник, принимавший от меня заявку на кредит, стал по сути соучастником единственн...</td>\n",
       "    </tr>\n",
       "    <tr>\n",
       "      <th>13992</th>\n",
       "      <td>13992</td>\n",
       "      <td>Negative</td>\n",
       "      <td>Приветствую Всех!Рассказываю о сложившейся ситуации с LiqPay.Ровно 21 день назад совершил покупку и отправил платеж получателю через liqpay. Обычн...</td>\n",
       "    </tr>\n",
       "    <tr>\n",
       "      <th>13993</th>\n",
       "      <td>13993</td>\n",
       "      <td>Positive</td>\n",
       "      <td>Здравствуйте! Мое знакомство с Хоум Кредит Банком только начинается. И уже на  начальном этапе складывается очень хорошее впечатление об этом банк...</td>\n",
       "    </tr>\n",
       "    <tr>\n",
       "      <th>13994</th>\n",
       "      <td>13994</td>\n",
       "      <td>Positive</td>\n",
       "      <td>О высокой надёжности МКБ, порядочности и добросовестности его сотрудников. Кратко: 19.6.12 г., открывая счёт, я, по рассеянности внёс в кассу сумм...</td>\n",
       "    </tr>\n",
       "    <tr>\n",
       "      <th>13995</th>\n",
       "      <td>13995</td>\n",
       "      <td>Positive</td>\n",
       "      <td>Обслуживаюсь в офисе на Чернореченской 42а, как физ. лицо уже год. В офисе на самом деле никогда нет очереди, всегда есть свободный сотрудник, кот...</td>\n",
       "    </tr>\n",
       "    <tr>\n",
       "      <th>13996</th>\n",
       "      <td>13996</td>\n",
       "      <td>Positive</td>\n",
       "      <td>Попала сегодня в очень неприятную ситуацию. Решила погасить долг по карте. Пришла в банкомат (пр. Дзержинского, 1/4/). Банкомат деньги принял, выд...</td>\n",
       "    </tr>\n",
       "    <tr>\n",
       "      <th>13997</th>\n",
       "      <td>13997</td>\n",
       "      <td>Positive</td>\n",
       "      <td>Добрый день! Давно являюсь клиентом банка Русский Стандарт имею зарплатную карту. 7 октября обратилась в отделение на свободном проспекте возле ст...</td>\n",
       "    </tr>\n",
       "    <tr>\n",
       "      <th>13998</th>\n",
       "      <td>13998</td>\n",
       "      <td>Negative</td>\n",
       "      <td>Сначала было все банально. Взял в кредит mp3 плеер на 6 мес. Всегда платил заранее до наступления срока платежа и, причем несколько больше, чем бы...</td>\n",
       "    </tr>\n",
       "  </tbody>\n",
       "</table>\n",
       "</div>"
      ],
      "text/plain": [
       "         idx     Score  \\\n",
       "13989  13989  Negative   \n",
       "13990  13990  Positive   \n",
       "13991  13991  Negative   \n",
       "13992  13992  Negative   \n",
       "13993  13993  Positive   \n",
       "13994  13994  Positive   \n",
       "13995  13995  Positive   \n",
       "13996  13996  Positive   \n",
       "13997  13997  Positive   \n",
       "13998  13998  Negative   \n",
       "\n",
       "                                                                                                                                                        Text  \n",
       "13989  В марте этого года мною через сайт Банка была оформлена заявка на кредитную карту (КК). Выпуск карты был одобрен. Через некоторое время пришла смс...  \n",
       "13990  Брала в ноябре ипотеку в Абсолют Банке. Хочу выразить благодарность моему кредитному менеджеру из отдела новостроек Новиковой Наталье и менеджеру,...  \n",
       "13991  А все остальное так и осталось. Началось все конечно смешно, сотрудник, принимавший от меня заявку на кредит, стал по сути соучастником единственн...  \n",
       "13992  Приветствую Всех!Рассказываю о сложившейся ситуации с LiqPay.Ровно 21 день назад совершил покупку и отправил платеж получателю через liqpay. Обычн...  \n",
       "13993  Здравствуйте! Мое знакомство с Хоум Кредит Банком только начинается. И уже на  начальном этапе складывается очень хорошее впечатление об этом банк...  \n",
       "13994  О высокой надёжности МКБ, порядочности и добросовестности его сотрудников. Кратко: 19.6.12 г., открывая счёт, я, по рассеянности внёс в кассу сумм...  \n",
       "13995  Обслуживаюсь в офисе на Чернореченской 42а, как физ. лицо уже год. В офисе на самом деле никогда нет очереди, всегда есть свободный сотрудник, кот...  \n",
       "13996  Попала сегодня в очень неприятную ситуацию. Решила погасить долг по карте. Пришла в банкомат (пр. Дзержинского, 1/4/). Банкомат деньги принял, выд...  \n",
       "13997  Добрый день! Давно являюсь клиентом банка Русский Стандарт имею зарплатную карту. 7 октября обратилась в отделение на свободном проспекте возле ст...  \n",
       "13998  Сначала было все банально. Взял в кредит mp3 плеер на 6 мес. Всегда платил заранее до наступления срока платежа и, причем несколько больше, чем бы...  "
      ]
     },
     "metadata": {},
     "output_type": "display_data"
    },
    {
     "name": "stdout",
     "output_type": "stream",
     "text": [
      "\u001b[31m_____________isna______________________\u001b[0m\n"
     ]
    },
    {
     "data": {
      "text/html": [
       "<div>\n",
       "<style scoped>\n",
       "    .dataframe tbody tr th:only-of-type {\n",
       "        vertical-align: middle;\n",
       "    }\n",
       "\n",
       "    .dataframe tbody tr th {\n",
       "        vertical-align: top;\n",
       "    }\n",
       "\n",
       "    .dataframe thead th {\n",
       "        text-align: right;\n",
       "    }\n",
       "</style>\n",
       "<table border=\"1\" class=\"dataframe\">\n",
       "  <thead>\n",
       "    <tr style=\"text-align: right;\">\n",
       "      <th></th>\n",
       "      <th>index</th>\n",
       "      <th>0</th>\n",
       "    </tr>\n",
       "  </thead>\n",
       "  <tbody>\n",
       "    <tr>\n",
       "      <th>0</th>\n",
       "      <td>idx</td>\n",
       "      <td>0</td>\n",
       "    </tr>\n",
       "    <tr>\n",
       "      <th>1</th>\n",
       "      <td>Score</td>\n",
       "      <td>0</td>\n",
       "    </tr>\n",
       "    <tr>\n",
       "      <th>2</th>\n",
       "      <td>Text</td>\n",
       "      <td>0</td>\n",
       "    </tr>\n",
       "  </tbody>\n",
       "</table>\n",
       "</div>"
      ],
      "text/plain": [
       "   index  0\n",
       "0    idx  0\n",
       "1  Score  0\n",
       "2   Text  0"
      ]
     },
     "metadata": {},
     "output_type": "display_data"
    },
    {
     "name": "stdout",
     "output_type": "stream",
     "text": [
      "\u001b[31m_____________duplicated________________\u001b[0m\n"
     ]
    },
    {
     "data": {
      "text/plain": [
       "0"
      ]
     },
     "metadata": {},
     "output_type": "display_data"
    },
    {
     "name": "stdout",
     "output_type": "stream",
     "text": [
      "\u001b[31m__количество пропущенных значений по каждому из столбцов__\u001b[0m\n"
     ]
    },
    {
     "data": {
      "text/html": [
       "<div>\n",
       "<style scoped>\n",
       "    .dataframe tbody tr th:only-of-type {\n",
       "        vertical-align: middle;\n",
       "    }\n",
       "\n",
       "    .dataframe tbody tr th {\n",
       "        vertical-align: top;\n",
       "    }\n",
       "\n",
       "    .dataframe thead th {\n",
       "        text-align: right;\n",
       "    }\n",
       "</style>\n",
       "<table border=\"1\" class=\"dataframe\">\n",
       "  <thead>\n",
       "    <tr style=\"text-align: right;\">\n",
       "      <th></th>\n",
       "      <th>index</th>\n",
       "      <th>0</th>\n",
       "    </tr>\n",
       "  </thead>\n",
       "  <tbody>\n",
       "    <tr>\n",
       "      <th>0</th>\n",
       "      <td>idx</td>\n",
       "      <td>0.0</td>\n",
       "    </tr>\n",
       "    <tr>\n",
       "      <th>1</th>\n",
       "      <td>Score</td>\n",
       "      <td>0.0</td>\n",
       "    </tr>\n",
       "    <tr>\n",
       "      <th>2</th>\n",
       "      <td>Text</td>\n",
       "      <td>0.0</td>\n",
       "    </tr>\n",
       "  </tbody>\n",
       "</table>\n",
       "</div>"
      ],
      "text/plain": [
       "   index    0\n",
       "0    idx  0.0\n",
       "1  Score  0.0\n",
       "2   Text  0.0"
      ]
     },
     "metadata": {},
     "output_type": "display_data"
    }
   ],
   "source": [
    "list_df = (data,)\n",
    "for list_df in list_df:\n",
    "    print('\\033[31m' + '______________info_____________________' + '\\033[0m')\n",
    "    display(list_df.info())\n",
    "    print('\\033[31m' + '______________describe_________________' + '\\033[0m')\n",
    "    display(list_df.describe().T)\n",
    "    print('\\033[31m' + '______________head_____________________' + '\\033[0m')\n",
    "    display(list_df.head(10))\n",
    "    print('\\033[31m' + '______________sample___________________' + '\\033[0m')\n",
    "    display(list_df.sample(10))\n",
    "    print('\\033[31m' + '______________tail_____________________' + '\\033[0m')\n",
    "    display(list_df.tail(10))\n",
    "    print('\\033[31m' + '_____________isna______________________' + '\\033[0m')\n",
    "    display(list_df.isna().sum().reset_index())\n",
    "    print('\\033[31m' + '_____________duplicated________________' + '\\033[0m')\n",
    "    display(list_df.duplicated().sum())\n",
    "    print('\\033[31m' + '__количество пропущенных значений по каждому из столбцов__' + '\\033[0m')\n",
    "    display(list_df.isnull().mean().reset_index())\n"
   ]
  },
  {
   "attachments": {},
   "cell_type": "markdown",
   "metadata": {},
   "source": [
    "Переведем `Score` в нижний регистр"
   ]
  },
  {
   "cell_type": "code",
   "execution_count": 54,
   "metadata": {},
   "outputs": [],
   "source": [
    "data['Text'] = data['Text'].str.lower()"
   ]
  },
  {
   "cell_type": "code",
   "execution_count": 55,
   "metadata": {},
   "outputs": [],
   "source": [
    "data['Text']=data['Text'].apply(str)"
   ]
  },
  {
   "attachments": {},
   "cell_type": "markdown",
   "metadata": {},
   "source": [
    "Определим количество негативных и позитивных оценок"
   ]
  },
  {
   "cell_type": "code",
   "execution_count": 56,
   "metadata": {},
   "outputs": [
    {
     "data": {
      "text/html": [
       "<div>\n",
       "<style scoped>\n",
       "    .dataframe tbody tr th:only-of-type {\n",
       "        vertical-align: middle;\n",
       "    }\n",
       "\n",
       "    .dataframe tbody tr th {\n",
       "        vertical-align: top;\n",
       "    }\n",
       "\n",
       "    .dataframe thead th {\n",
       "        text-align: right;\n",
       "    }\n",
       "</style>\n",
       "<table border=\"1\" class=\"dataframe\">\n",
       "  <thead>\n",
       "    <tr style=\"text-align: right;\">\n",
       "      <th></th>\n",
       "      <th>Оценка</th>\n",
       "      <th>Количество</th>\n",
       "    </tr>\n",
       "  </thead>\n",
       "  <tbody>\n",
       "    <tr>\n",
       "      <th>0</th>\n",
       "      <td>Positive</td>\n",
       "      <td>7000</td>\n",
       "    </tr>\n",
       "    <tr>\n",
       "      <th>1</th>\n",
       "      <td>Negative</td>\n",
       "      <td>6999</td>\n",
       "    </tr>\n",
       "  </tbody>\n",
       "</table>\n",
       "</div>"
      ],
      "text/plain": [
       "     Оценка  Количество\n",
       "0  Positive        7000\n",
       "1  Negative        6999"
      ]
     },
     "execution_count": 56,
     "metadata": {},
     "output_type": "execute_result"
    }
   ],
   "source": [
    "count_score= data.groupby(['Score']).agg({'idx':'count'})\\\n",
    "                                    .sort_values(ascending=False, by='Score').reset_index()\n",
    "count_score.columns = ['Оценка', 'Количество']\n",
    "count_score\n",
    "\n"
   ]
  },
  {
   "attachments": {},
   "cell_type": "markdown",
   "metadata": {},
   "source": [
    "Выберем текст 100 оценок для токенизации"
   ]
  },
  {
   "cell_type": "code",
   "execution_count": 57,
   "metadata": {},
   "outputs": [],
   "source": [
    "text = data.iloc[0:99]['Text']"
   ]
  },
  {
   "cell_type": "code",
   "execution_count": 58,
   "metadata": {},
   "outputs": [
    {
     "data": {
      "text/plain": [
       "0    в альфа-банке работает замечательная девушка - ильясова орна, вежливая, отзывчивая, действительно участвует в запросе клиента, я приходила к ней п...\n",
       "1    оформляя рассрочку в м. видео в меге тёплый стан. попросила менеджера, чтобы заявка была без страховки. в итоге, когда подписывала договор, в дого...\n",
       "2    очень порадовала оперативность работы в банке. заказал через интернет карту visa classic, потребовалось подойти в банк для подписания заявления. в...\n",
       "3    имела неосторожность оформить потреб. кредит в альфа-банке - очень жалею. во-первых, карту при оформлении кредита мне не выдали (объяснили тем, чт...\n",
       "4    небольшая предыстория: нашел на сайте mdm банка интересную ко-бренд карту «техносила – mdm банк», подал заявку на нее, и скоро позвонили с горячей...\n",
       "Name: Text, dtype: object"
      ]
     },
     "execution_count": 58,
     "metadata": {},
     "output_type": "execute_result"
    }
   ],
   "source": [
    "text.head()"
   ]
  },
  {
   "cell_type": "code",
   "execution_count": 59,
   "metadata": {},
   "outputs": [
    {
     "data": {
      "text/plain": [
       "0     в альфа-банке работает замечательная девушка - ильясова орна, вежливая, отзывчивая, действительно участвует в запросе клиента, я приходила к ней п...\n",
       "1     оформляя рассрочку в м. видео в меге тёплый стан. попросила менеджера, чтобы заявка была без страховки. в итоге, когда подписывала договор, в дого...\n",
       "2     очень порадовала оперативность работы в банке. заказал через интернет карту visa classic, потребовалось подойти в банк для подписания заявления. в...\n",
       "3     имела неосторожность оформить потреб. кредит в альфа-банке - очень жалею. во-первых, карту при оформлении кредита мне не выдали (объяснили тем, чт...\n",
       "4     небольшая предыстория: нашел на сайте mdm банка интересную ко-бренд карту «техносила – mdm банк», подал заявку на нее, и скоро позвонили с горячей...\n",
       "                                                                              ...                                                                          \n",
       "94    я клиент банка. регулярно слышу рекламу альфа-банка о погашении кредитов через интернет. обычно погашаю кредит наличными, сегодня решил из личного...\n",
       "95    17.10.2007 г., в офисе банка по адресу: владивосток, ул. фокина 19, операционист-кассир планида а.в, по приходному кассовому ордеру № 15, приняла ...\n",
       "96    у меня получилась слегка нестандартная ситуация со сбербанком, которая была-таки успешно решена! я сторонник фонда дикой природы, обычно оплачиваю...\n",
       "97    могу сказать, что скб-банк один из самых лояльных банков по требованиям к заемщикам с учетом невысоких процентных ставок по кредитам. кредитуюсь в...\n",
       "98    добрый день! в декабре 2013 г. взяли автокредит в сетелем банке в санкт-петербурге. сначала было все хорошо: быстро одобрили, быстро оформили, опл...\n",
       "Name: Text, Length: 99, dtype: object"
      ]
     },
     "execution_count": 59,
     "metadata": {},
     "output_type": "execute_result"
    }
   ],
   "source": [
    "text"
   ]
  },
  {
   "cell_type": "code",
   "execution_count": 64,
   "metadata": {},
   "outputs": [],
   "source": [
    "tokens = text.astype(str).apply(word_tokenize)"
   ]
  },
  {
   "cell_type": "code",
   "execution_count": 65,
   "metadata": {},
   "outputs": [],
   "source": [
    "#tokens = word_tokenize(text)\n"
   ]
  },
  {
   "attachments": {},
   "cell_type": "markdown",
   "metadata": {},
   "source": [
    "Удалим знаки препинания"
   ]
  },
  {
   "cell_type": "code",
   "execution_count": 66,
   "metadata": {},
   "outputs": [],
   "source": [
    "punctuation_marks = ['!', ',', '(', ')', ':', '-', '?', '.', '..', '...']"
   ]
  },
  {
   "cell_type": "code",
   "execution_count": 67,
   "metadata": {},
   "outputs": [],
   "source": [
    "only_words = []\n",
    "for token in tokens:\n",
    "    if token not in punctuation_marks:\n",
    "        only_words.append(token)"
   ]
  },
  {
   "cell_type": "code",
   "execution_count": null,
   "metadata": {},
   "outputs": [],
   "source": []
  },
  {
   "cell_type": "code",
   "execution_count": null,
   "metadata": {},
   "outputs": [],
   "source": []
  },
  {
   "cell_type": "code",
   "execution_count": null,
   "metadata": {},
   "outputs": [],
   "source": []
  },
  {
   "cell_type": "code",
   "execution_count": null,
   "metadata": {},
   "outputs": [],
   "source": []
  },
  {
   "cell_type": "code",
   "execution_count": null,
   "metadata": {},
   "outputs": [],
   "source": []
  },
  {
   "cell_type": "code",
   "execution_count": null,
   "metadata": {},
   "outputs": [],
   "source": []
  },
  {
   "cell_type": "code",
   "execution_count": null,
   "metadata": {},
   "outputs": [],
   "source": []
  },
  {
   "cell_type": "code",
   "execution_count": null,
   "metadata": {},
   "outputs": [],
   "source": []
  }
 ],
 "metadata": {
  "kernelspec": {
   "display_name": "base",
   "language": "python",
   "name": "python3"
  },
  "language_info": {
   "codemirror_mode": {
    "name": "ipython",
    "version": 3
   },
   "file_extension": ".py",
   "mimetype": "text/x-python",
   "name": "python",
   "nbconvert_exporter": "python",
   "pygments_lexer": "ipython3",
   "version": "3.9.12"
  },
  "orig_nbformat": 4,
  "vscode": {
   "interpreter": {
    "hash": "93b519a33c7b9c18f394fb9ccbe51984c6623684928c4d9fd53b2a8ee8911f5e"
   }
  }
 },
 "nbformat": 4,
 "nbformat_minor": 2
}
