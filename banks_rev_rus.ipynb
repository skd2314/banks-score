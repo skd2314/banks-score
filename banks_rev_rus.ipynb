{
 "cells": [
  {
   "attachments": {},
   "cell_type": "markdown",
   "metadata": {},
   "source": [
    "# Предварительная обработка текста на Python"
   ]
  },
  {
   "cell_type": "code",
   "execution_count": 59,
   "metadata": {},
   "outputs": [
    {
     "data": {
      "text/plain": [
       "'\\n%pip install pymorphy2\\n%pip install pandas\\n%pip install seaborn\\n%pip install nltk\\n'"
      ]
     },
     "execution_count": 59,
     "metadata": {},
     "output_type": "execute_result"
    }
   ],
   "source": [
    "'''\n",
    "%pip install pymorphy2\n",
    "%pip install pandas\n",
    "%pip install seaborn\n",
    "%pip install nltk\n",
    "'''"
   ]
  },
  {
   "attachments": {},
   "cell_type": "markdown",
   "metadata": {},
   "source": [
    "Загружаем библиотеки"
   ]
  },
  {
   "cell_type": "code",
   "execution_count": 60,
   "metadata": {},
   "outputs": [
    {
     "name": "stderr",
     "output_type": "stream",
     "text": [
      "[nltk_data] Downloading package punkt to /Users/sna/nltk_data...\n",
      "[nltk_data]   Package punkt is already up-to-date!\n"
     ]
    },
    {
     "data": {
      "text/plain": [
       "True"
      ]
     },
     "execution_count": 60,
     "metadata": {},
     "output_type": "execute_result"
    }
   ],
   "source": [
    "import pandas as pd\n",
    "pd.set_option('display.max_columns', None)\n",
    "pd.options.display.max_colwidth = 200\n",
    "pd.set_option('display.max_rows', 500)\n",
    "pd.set_option('display.width', 1000)\n",
    "\n",
    "#import math as mth\n",
    "#import matplotlib.pyplot as plt\n",
    "#from scipy import stats as st\n",
    "#from statsmodels.stats.weightstats import ttest_ind\n",
    "#from scipy.stats import ttest_ind_from_stats\n",
    "\n",
    "#import numpy as np\n",
    "#import seaborn as sns; sns.set()\n",
    "#cm = sns.light_palette(\"green\", as_cmap=True)\n",
    "\n",
    "import nltk\n",
    "import pymorphy2\n",
    "from nltk.tokenize import word_tokenize\n",
    "from nltk.corpus import stopwords\n",
    "nltk.download('punkt')\n",
    "#import os\n",
    "#import io\n",
    "#import re\n"
   ]
  },
  {
   "attachments": {},
   "cell_type": "markdown",
   "metadata": {},
   "source": [
    "Загружаем датасет"
   ]
  },
  {
   "cell_type": "code",
   "execution_count": 61,
   "metadata": {},
   "outputs": [
    {
     "data": {
      "text/plain": [
       "'\\nROOT = os.path.abspath(\"/Users/sna/Dropbox/git/banks/datasets/\")\\ndirectories = os.listdir(ROOT)\\nfor dir in directories:\\n    print(dir)\\n'"
      ]
     },
     "execution_count": 61,
     "metadata": {},
     "output_type": "execute_result"
    }
   ],
   "source": [
    "#data = pd.read_csv('/Users/sna/Dropbox/git/banks/datasets/banks.csv', sep='\\t', index_col='idx', on_bad_lines='skip')\n",
    "\n",
    "\n",
    "\n",
    "try:\n",
    "    data = pd.read_csv('/Users/sna/Dropbox/git/banks/datasets/banks.csv', sep='\\t', index_col='idx', on_bad_lines='skip')\n",
    "except:\n",
    "    data = pd.read_csv(r'C:\\Users\\skd23\\Dropbox\\git\\banks\\datasets\\banks.csv', sep='\\t', index_col='idx', on_bad_lines='skip')\n",
    "\n",
    "\n",
    "'''\n",
    "path = os.path.join('/' + os.sep, 'Users', 'sna', 'Dropbox', 'git', 'banks', 'datasets', 'banks.csv')\n",
    "data = pd.read_csv(path, sep='\\t')\n",
    "'''\n",
    "#data = pd.read_csv('/sna/Dropbox/git/banks/datasets/banks.csv')\n",
    "\n",
    "#path = './datasets/banks.csv'\n",
    "\n",
    "'''\n",
    "ROOT = os.path.abspath(\"/Users/sna/Dropbox/git/banks/datasets/\")\n",
    "directories = os.listdir(ROOT)\n",
    "for dir in directories:\n",
    "    print(dir)\n",
    "'''\n"
   ]
  },
  {
   "attachments": {},
   "cell_type": "markdown",
   "metadata": {},
   "source": [
    "Изучим датасет"
   ]
  },
  {
   "cell_type": "code",
   "execution_count": 62,
   "metadata": {},
   "outputs": [
    {
     "name": "stdout",
     "output_type": "stream",
     "text": [
      "\u001b[31m______________info_____________________\u001b[0m\n",
      "<class 'pandas.core.frame.DataFrame'>\n",
      "Int64Index: 13999 entries, 0 to 13998\n",
      "Data columns (total 2 columns):\n",
      " #   Column  Non-Null Count  Dtype \n",
      "---  ------  --------------  ----- \n",
      " 0   Score   13999 non-null  object\n",
      " 1   Text    13999 non-null  object\n",
      "dtypes: object(2)\n",
      "memory usage: 328.1+ KB\n"
     ]
    },
    {
     "data": {
      "text/plain": [
       "None"
      ]
     },
     "metadata": {},
     "output_type": "display_data"
    },
    {
     "name": "stdout",
     "output_type": "stream",
     "text": [
      "\u001b[31m______________describe_________________\u001b[0m\n"
     ]
    },
    {
     "data": {
      "text/html": [
       "<div>\n",
       "<style scoped>\n",
       "    .dataframe tbody tr th:only-of-type {\n",
       "        vertical-align: middle;\n",
       "    }\n",
       "\n",
       "    .dataframe tbody tr th {\n",
       "        vertical-align: top;\n",
       "    }\n",
       "\n",
       "    .dataframe thead th {\n",
       "        text-align: right;\n",
       "    }\n",
       "</style>\n",
       "<table border=\"1\" class=\"dataframe\">\n",
       "  <thead>\n",
       "    <tr style=\"text-align: right;\">\n",
       "      <th></th>\n",
       "      <th>count</th>\n",
       "      <th>unique</th>\n",
       "      <th>top</th>\n",
       "      <th>freq</th>\n",
       "    </tr>\n",
       "  </thead>\n",
       "  <tbody>\n",
       "    <tr>\n",
       "      <th>Score</th>\n",
       "      <td>13999</td>\n",
       "      <td>2</td>\n",
       "      <td>Positive</td>\n",
       "      <td>7000</td>\n",
       "    </tr>\n",
       "    <tr>\n",
       "      <th>Text</th>\n",
       "      <td>13999</td>\n",
       "      <td>13998</td>\n",
       "      <td>В свое время коллега оставил мой телефон как контактное лицо при получении кредита.Что-то с кредитом не заладилось и теперь каждый раз, когда у него просрочка и не удается дозвониться до него — он...</td>\n",
       "      <td>2</td>\n",
       "    </tr>\n",
       "  </tbody>\n",
       "</table>\n",
       "</div>"
      ],
      "text/plain": [
       "       count unique                                                                                                                                                                                                      top  freq\n",
       "Score  13999      2                                                                                                                                                                                                 Positive  7000\n",
       "Text   13999  13998  В свое время коллега оставил мой телефон как контактное лицо при получении кредита.Что-то с кредитом не заладилось и теперь каждый раз, когда у него просрочка и не удается дозвониться до него — он...     2"
      ]
     },
     "metadata": {},
     "output_type": "display_data"
    },
    {
     "name": "stdout",
     "output_type": "stream",
     "text": [
      "\u001b[31m______________head_____________________\u001b[0m\n"
     ]
    },
    {
     "data": {
      "text/html": [
       "<div>\n",
       "<style scoped>\n",
       "    .dataframe tbody tr th:only-of-type {\n",
       "        vertical-align: middle;\n",
       "    }\n",
       "\n",
       "    .dataframe tbody tr th {\n",
       "        vertical-align: top;\n",
       "    }\n",
       "\n",
       "    .dataframe thead th {\n",
       "        text-align: right;\n",
       "    }\n",
       "</style>\n",
       "<table border=\"1\" class=\"dataframe\">\n",
       "  <thead>\n",
       "    <tr style=\"text-align: right;\">\n",
       "      <th></th>\n",
       "      <th>Score</th>\n",
       "      <th>Text</th>\n",
       "    </tr>\n",
       "    <tr>\n",
       "      <th>idx</th>\n",
       "      <th></th>\n",
       "      <th></th>\n",
       "    </tr>\n",
       "  </thead>\n",
       "  <tbody>\n",
       "    <tr>\n",
       "      <th>0</th>\n",
       "      <td>Positive</td>\n",
       "      <td>В Альфа-Банке работает замечательная девушка - Ильясова Орна, вежливая, отзывчивая, действительно участвует в запросе клиента, я приходила к ней подряд ровно три дня, каждый день она помнила время...</td>\n",
       "    </tr>\n",
       "    <tr>\n",
       "      <th>1</th>\n",
       "      <td>Negative</td>\n",
       "      <td>Оформляя рассрочку в м. Видео в меге тёплый стан. Попросила менеджера, чтобы заявка была без страховки. В итоге, когда подписывала договор, в договоре оказались лишние почти 6 тысяч, когда менедже...</td>\n",
       "    </tr>\n",
       "    <tr>\n",
       "      <th>2</th>\n",
       "      <td>Positive</td>\n",
       "      <td>Очень порадовала оперативность работы в банке. Заказал через интернет карту visa classic, потребовалось подойти в банк для подписания заявления. В тот же день мне открыли текущий счет с доступом ч...</td>\n",
       "    </tr>\n",
       "    <tr>\n",
       "      <th>3</th>\n",
       "      <td>Negative</td>\n",
       "      <td>Имела неосторожность оформить потреб. кредит в Альфа-банке - очень жалею. Во-первых, карту при оформлении кредита мне не выдали (объяснили тем, что их сейчас нет в наличии). Во-вторых, никакую инф...</td>\n",
       "    </tr>\n",
       "    <tr>\n",
       "      <th>4</th>\n",
       "      <td>Negative</td>\n",
       "      <td>Небольшая предыстория: Нашел на сайте MDM банка интересную ко-бренд карту «Техносила – MDM банк», подал заявку на нее, и скоро позвонили с горячей линии. Предложили кредитную карту, на что я в при...</td>\n",
       "    </tr>\n",
       "    <tr>\n",
       "      <th>5</th>\n",
       "      <td>Positive</td>\n",
       "      <td>В конце февраля оформила кредитную карту банка Авангард в качестве страховки, на всякий непредвиденный случай, и уже тогда была удивлена скоростным и профессиональным обслуживанием в мини-офисе в ...</td>\n",
       "    </tr>\n",
       "    <tr>\n",
       "      <th>6</th>\n",
       "      <td>Negative</td>\n",
       "      <td>Месяц назад взял автокредит. До этого ходили по разным салонам Форд, присматривая машину. Исходил из конкретной суммы автомобиля и конкретного первоначального взноса. Во всех автосалонах навязываю...</td>\n",
       "    </tr>\n",
       "    <tr>\n",
       "      <th>7</th>\n",
       "      <td>Negative</td>\n",
       "      <td>Не говоря про махинации с бонусами, остановлюсь на процентах по среднемесячному остатку средств на карте. Пару месяцев, усыпляя бдительность, начисляли правильно, согласно договору, по 6%. На трет...</td>\n",
       "    </tr>\n",
       "    <tr>\n",
       "      <th>8</th>\n",
       "      <td>Negative</td>\n",
       "      <td>День добрый, моя мама С-на В.А.,1932г рождения, пенсионерка. Является клиентом Бинбанка. С октября 2015 года не может снять свою пенсию с карты, так как срок карты закончился и её необходимо перев...</td>\n",
       "    </tr>\n",
       "    <tr>\n",
       "      <th>9</th>\n",
       "      <td>Negative</td>\n",
       "      <td>Всех приветствую.Я являюсь клиентом этого чудо-банка. Договор 04101473481, брал в кредит автомобиль с сентября 2015 года.При заключении договора кредитный эксперт сказал, что я могу без проблем за...</td>\n",
       "    </tr>\n",
       "  </tbody>\n",
       "</table>\n",
       "</div>"
      ],
      "text/plain": [
       "        Score                                                                                                                                                                                                     Text\n",
       "idx                                                                                                                                                                                                                   \n",
       "0    Positive  В Альфа-Банке работает замечательная девушка - Ильясова Орна, вежливая, отзывчивая, действительно участвует в запросе клиента, я приходила к ней подряд ровно три дня, каждый день она помнила время...\n",
       "1    Negative  Оформляя рассрочку в м. Видео в меге тёплый стан. Попросила менеджера, чтобы заявка была без страховки. В итоге, когда подписывала договор, в договоре оказались лишние почти 6 тысяч, когда менедже...\n",
       "2    Positive  Очень порадовала оперативность работы в банке. Заказал через интернет карту visa classic, потребовалось подойти в банк для подписания заявления. В тот же день мне открыли текущий счет с доступом ч...\n",
       "3    Negative  Имела неосторожность оформить потреб. кредит в Альфа-банке - очень жалею. Во-первых, карту при оформлении кредита мне не выдали (объяснили тем, что их сейчас нет в наличии). Во-вторых, никакую инф...\n",
       "4    Negative  Небольшая предыстория: Нашел на сайте MDM банка интересную ко-бренд карту «Техносила – MDM банк», подал заявку на нее, и скоро позвонили с горячей линии. Предложили кредитную карту, на что я в при...\n",
       "5    Positive  В конце февраля оформила кредитную карту банка Авангард в качестве страховки, на всякий непредвиденный случай, и уже тогда была удивлена скоростным и профессиональным обслуживанием в мини-офисе в ...\n",
       "6    Negative  Месяц назад взял автокредит. До этого ходили по разным салонам Форд, присматривая машину. Исходил из конкретной суммы автомобиля и конкретного первоначального взноса. Во всех автосалонах навязываю...\n",
       "7    Negative  Не говоря про махинации с бонусами, остановлюсь на процентах по среднемесячному остатку средств на карте. Пару месяцев, усыпляя бдительность, начисляли правильно, согласно договору, по 6%. На трет...\n",
       "8    Negative  День добрый, моя мама С-на В.А.,1932г рождения, пенсионерка. Является клиентом Бинбанка. С октября 2015 года не может снять свою пенсию с карты, так как срок карты закончился и её необходимо перев...\n",
       "9    Negative  Всех приветствую.Я являюсь клиентом этого чудо-банка. Договор 04101473481, брал в кредит автомобиль с сентября 2015 года.При заключении договора кредитный эксперт сказал, что я могу без проблем за..."
      ]
     },
     "metadata": {},
     "output_type": "display_data"
    },
    {
     "name": "stdout",
     "output_type": "stream",
     "text": [
      "\u001b[31m______________sample___________________\u001b[0m\n"
     ]
    },
    {
     "data": {
      "text/html": [
       "<div>\n",
       "<style scoped>\n",
       "    .dataframe tbody tr th:only-of-type {\n",
       "        vertical-align: middle;\n",
       "    }\n",
       "\n",
       "    .dataframe tbody tr th {\n",
       "        vertical-align: top;\n",
       "    }\n",
       "\n",
       "    .dataframe thead th {\n",
       "        text-align: right;\n",
       "    }\n",
       "</style>\n",
       "<table border=\"1\" class=\"dataframe\">\n",
       "  <thead>\n",
       "    <tr style=\"text-align: right;\">\n",
       "      <th></th>\n",
       "      <th>Score</th>\n",
       "      <th>Text</th>\n",
       "    </tr>\n",
       "    <tr>\n",
       "      <th>idx</th>\n",
       "      <th></th>\n",
       "      <th></th>\n",
       "    </tr>\n",
       "  </thead>\n",
       "  <tbody>\n",
       "    <tr>\n",
       "      <th>1210</th>\n",
       "      <td>Negative</td>\n",
       "      <td>Добрый день! Я являюсь бывшим сотрудником этого банка, уволилась в 2014 году, всю эту систему знаю изнутри. Но такого бардака и бережного отношения  к клиентам не припомню. Дозвонившись в службу к...</td>\n",
       "    </tr>\n",
       "    <tr>\n",
       "      <th>3395</th>\n",
       "      <td>Positive</td>\n",
       "      <td>На днях подключился к Точке для своего ИП и был потрясен оперативностью и информативностью всего процесса. Все готово для моего бизнеса менее, чем за сутки.Пришел на этот сайт написать негативный ...</td>\n",
       "    </tr>\n",
       "    <tr>\n",
       "      <th>12222</th>\n",
       "      <td>Positive</td>\n",
       "      <td>Хочу выразить признательность и благодарность сотруднику Банка К-ну С.П. за проявленную инициативу и профессионализм! 08.04.16 взяла талон Решить проблему и зависла в ожидании своей очереди. Ждала...</td>\n",
       "    </tr>\n",
       "    <tr>\n",
       "      <th>1437</th>\n",
       "      <td>Negative</td>\n",
       "      <td>Побывал тут я давеча в отделении Альфы для оформления пакета Максимум +. На самом деле интересовал только один пункт из всего этого - Защита покупок для премиум карт Visa. Очень удивился, когда та...</td>\n",
       "    </tr>\n",
       "    <tr>\n",
       "      <th>1511</th>\n",
       "      <td>Negative</td>\n",
       "      <td>Обратился в банк за кредитом в размере 300 000 руб. 28 октября 2014 года и 29 октября получил одобрение. При оформлении в офисе банка Санкт Петербург, Невский 87\\2, мне был навязан договор страхов...</td>\n",
       "    </tr>\n",
       "    <tr>\n",
       "      <th>8144</th>\n",
       "      <td>Positive</td>\n",
       "      <td>Начало ситуации описано ниже (http://www.banki.ru/services/responses/bank/response/7866305/).На следующий день в обед деньги были зачислены на карту, переведены на счет кредита и я направилась в г...</td>\n",
       "    </tr>\n",
       "    <tr>\n",
       "      <th>9534</th>\n",
       "      <td>Negative</td>\n",
       "      <td>В апреле закрыл кредит досрочно и решил сразу закрыть кредитную карту. В кц и в отделении банка назвали одну и ту же сумму для полного погашения. Пришёл в этот же день и оплатил, закрыл карту. Чер...</td>\n",
       "    </tr>\n",
       "    <tr>\n",
       "      <th>12016</th>\n",
       "      <td>Negative</td>\n",
       "      <td>Жалоба на работу сотрудников Альфа-банка. Обратилась в банк с просьбой выдать мне кредитную карту в начале марта, заполнила на сайте заявление. Мне перезвонили, сказали, что нужно приехать и подпи...</td>\n",
       "    </tr>\n",
       "    <tr>\n",
       "      <th>7167</th>\n",
       "      <td>Positive</td>\n",
       "      <td>Имел вклад на полмиллиона с конца марта 2009 по март 2010. Процентные ставки тогда были отличные, 17% + капитализация ежемесячная. Вклады были потенциал и капитал. Нашел банк через данный сайт (бо...</td>\n",
       "    </tr>\n",
       "    <tr>\n",
       "      <th>1515</th>\n",
       "      <td>Positive</td>\n",
       "      <td>Хочу поблагодарить сотрудников Банка ТКС за клиентоориентированность и гибкость в решении проблем.Суть проблемы: кредитной картой All Airlines я оплачивал билеты в Театр Римской оперы (г.Рим) чере...</td>\n",
       "    </tr>\n",
       "  </tbody>\n",
       "</table>\n",
       "</div>"
      ],
      "text/plain": [
       "          Score                                                                                                                                                                                                     Text\n",
       "idx                                                                                                                                                                                                                     \n",
       "1210   Negative  Добрый день! Я являюсь бывшим сотрудником этого банка, уволилась в 2014 году, всю эту систему знаю изнутри. Но такого бардака и бережного отношения  к клиентам не припомню. Дозвонившись в службу к...\n",
       "3395   Positive  На днях подключился к Точке для своего ИП и был потрясен оперативностью и информативностью всего процесса. Все готово для моего бизнеса менее, чем за сутки.Пришел на этот сайт написать негативный ...\n",
       "12222  Positive  Хочу выразить признательность и благодарность сотруднику Банка К-ну С.П. за проявленную инициативу и профессионализм! 08.04.16 взяла талон Решить проблему и зависла в ожидании своей очереди. Ждала...\n",
       "1437   Negative  Побывал тут я давеча в отделении Альфы для оформления пакета Максимум +. На самом деле интересовал только один пункт из всего этого - Защита покупок для премиум карт Visa. Очень удивился, когда та...\n",
       "1511   Negative  Обратился в банк за кредитом в размере 300 000 руб. 28 октября 2014 года и 29 октября получил одобрение. При оформлении в офисе банка Санкт Петербург, Невский 87\\2, мне был навязан договор страхов...\n",
       "8144   Positive  Начало ситуации описано ниже (http://www.banki.ru/services/responses/bank/response/7866305/).На следующий день в обед деньги были зачислены на карту, переведены на счет кредита и я направилась в г...\n",
       "9534   Negative  В апреле закрыл кредит досрочно и решил сразу закрыть кредитную карту. В кц и в отделении банка назвали одну и ту же сумму для полного погашения. Пришёл в этот же день и оплатил, закрыл карту. Чер...\n",
       "12016  Negative  Жалоба на работу сотрудников Альфа-банка. Обратилась в банк с просьбой выдать мне кредитную карту в начале марта, заполнила на сайте заявление. Мне перезвонили, сказали, что нужно приехать и подпи...\n",
       "7167   Positive  Имел вклад на полмиллиона с конца марта 2009 по март 2010. Процентные ставки тогда были отличные, 17% + капитализация ежемесячная. Вклады были потенциал и капитал. Нашел банк через данный сайт (бо...\n",
       "1515   Positive  Хочу поблагодарить сотрудников Банка ТКС за клиентоориентированность и гибкость в решении проблем.Суть проблемы: кредитной картой All Airlines я оплачивал билеты в Театр Римской оперы (г.Рим) чере..."
      ]
     },
     "metadata": {},
     "output_type": "display_data"
    },
    {
     "name": "stdout",
     "output_type": "stream",
     "text": [
      "\u001b[31m______________tail_____________________\u001b[0m\n"
     ]
    },
    {
     "data": {
      "text/html": [
       "<div>\n",
       "<style scoped>\n",
       "    .dataframe tbody tr th:only-of-type {\n",
       "        vertical-align: middle;\n",
       "    }\n",
       "\n",
       "    .dataframe tbody tr th {\n",
       "        vertical-align: top;\n",
       "    }\n",
       "\n",
       "    .dataframe thead th {\n",
       "        text-align: right;\n",
       "    }\n",
       "</style>\n",
       "<table border=\"1\" class=\"dataframe\">\n",
       "  <thead>\n",
       "    <tr style=\"text-align: right;\">\n",
       "      <th></th>\n",
       "      <th>Score</th>\n",
       "      <th>Text</th>\n",
       "    </tr>\n",
       "    <tr>\n",
       "      <th>idx</th>\n",
       "      <th></th>\n",
       "      <th></th>\n",
       "    </tr>\n",
       "  </thead>\n",
       "  <tbody>\n",
       "    <tr>\n",
       "      <th>13989</th>\n",
       "      <td>Negative</td>\n",
       "      <td>В марте этого года мною через сайт Банка была оформлена заявка на кредитную карту (КК). Выпуск карты был одобрен. Через некоторое время пришла смс, что я могу получить КК в выбранном отделении бан...</td>\n",
       "    </tr>\n",
       "    <tr>\n",
       "      <th>13990</th>\n",
       "      <td>Positive</td>\n",
       "      <td>Брала в ноябре ипотеку в Абсолют Банке. Хочу выразить благодарность моему кредитному менеджеру из отдела новостроек Новиковой Наталье и менеджеру, сопровождавшую сделку в Люберцах, Виктории Муллер...</td>\n",
       "    </tr>\n",
       "    <tr>\n",
       "      <th>13991</th>\n",
       "      <td>Negative</td>\n",
       "      <td>А все остальное так и осталось. Началось все конечно смешно, сотрудник, принимавший от меня заявку на кредит, стал по сути соучастником единственного отзыва месяца, которой БинБанк и МДМ Банк имею...</td>\n",
       "    </tr>\n",
       "    <tr>\n",
       "      <th>13992</th>\n",
       "      <td>Negative</td>\n",
       "      <td>Приветствую Всех!Рассказываю о сложившейся ситуации с LiqPay.Ровно 21 день назад совершил покупку и отправил платеж получателю через liqpay. Обычно деньги поступали в течение 24 часов. Спустя неск...</td>\n",
       "    </tr>\n",
       "    <tr>\n",
       "      <th>13993</th>\n",
       "      <td>Positive</td>\n",
       "      <td>Здравствуйте! Мое знакомство с Хоум Кредит Банком только начинается. И уже на  начальном этапе складывается очень хорошее впечатление об этом банке. Я очень часто пользуюсь кредитами, но в основно...</td>\n",
       "    </tr>\n",
       "    <tr>\n",
       "      <th>13994</th>\n",
       "      <td>Positive</td>\n",
       "      <td>О высокой надёжности МКБ, порядочности и добросовестности его сотрудников. Кратко: 19.6.12 г., открывая счёт, я, по рассеянности внёс в кассу сумму на 25000 р. больше величины счёта. Переплату обн...</td>\n",
       "    </tr>\n",
       "    <tr>\n",
       "      <th>13995</th>\n",
       "      <td>Positive</td>\n",
       "      <td>Обслуживаюсь в офисе на Чернореченской 42а, как физ. лицо уже год. В офисе на самом деле никогда нет очереди, всегда есть свободный сотрудник, который готов помочь в любом вопросе. При дистанционн...</td>\n",
       "    </tr>\n",
       "    <tr>\n",
       "      <th>13996</th>\n",
       "      <td>Positive</td>\n",
       "      <td>Попала сегодня в очень неприятную ситуацию. Решила погасить долг по карте. Пришла в банкомат (пр. Дзержинского, 1/4/). Банкомат деньги принял, выдал чек о зачислении, вернул карту, а напоследок пр...</td>\n",
       "    </tr>\n",
       "    <tr>\n",
       "      <th>13997</th>\n",
       "      <td>Positive</td>\n",
       "      <td>Добрый день! Давно являюсь клиентом банка Русский Стандарт имею зарплатную карту. 7 октября обратилась в отделение на свободном проспекте возле станции метро Новогиреево с проблемой, не могла полу...</td>\n",
       "    </tr>\n",
       "    <tr>\n",
       "      <th>13998</th>\n",
       "      <td>Negative</td>\n",
       "      <td>Сначала было все банально. Взял в кредит mp3 плеер на 6 мес. Всегда платил заранее до наступления срока платежа и, причем несколько больше, чем было предписано в договоре.Последний платеж должен б...</td>\n",
       "    </tr>\n",
       "  </tbody>\n",
       "</table>\n",
       "</div>"
      ],
      "text/plain": [
       "          Score                                                                                                                                                                                                     Text\n",
       "idx                                                                                                                                                                                                                     \n",
       "13989  Negative  В марте этого года мною через сайт Банка была оформлена заявка на кредитную карту (КК). Выпуск карты был одобрен. Через некоторое время пришла смс, что я могу получить КК в выбранном отделении бан...\n",
       "13990  Positive  Брала в ноябре ипотеку в Абсолют Банке. Хочу выразить благодарность моему кредитному менеджеру из отдела новостроек Новиковой Наталье и менеджеру, сопровождавшую сделку в Люберцах, Виктории Муллер...\n",
       "13991  Negative  А все остальное так и осталось. Началось все конечно смешно, сотрудник, принимавший от меня заявку на кредит, стал по сути соучастником единственного отзыва месяца, которой БинБанк и МДМ Банк имею...\n",
       "13992  Negative  Приветствую Всех!Рассказываю о сложившейся ситуации с LiqPay.Ровно 21 день назад совершил покупку и отправил платеж получателю через liqpay. Обычно деньги поступали в течение 24 часов. Спустя неск...\n",
       "13993  Positive  Здравствуйте! Мое знакомство с Хоум Кредит Банком только начинается. И уже на  начальном этапе складывается очень хорошее впечатление об этом банке. Я очень часто пользуюсь кредитами, но в основно...\n",
       "13994  Positive  О высокой надёжности МКБ, порядочности и добросовестности его сотрудников. Кратко: 19.6.12 г., открывая счёт, я, по рассеянности внёс в кассу сумму на 25000 р. больше величины счёта. Переплату обн...\n",
       "13995  Positive  Обслуживаюсь в офисе на Чернореченской 42а, как физ. лицо уже год. В офисе на самом деле никогда нет очереди, всегда есть свободный сотрудник, который готов помочь в любом вопросе. При дистанционн...\n",
       "13996  Positive  Попала сегодня в очень неприятную ситуацию. Решила погасить долг по карте. Пришла в банкомат (пр. Дзержинского, 1/4/). Банкомат деньги принял, выдал чек о зачислении, вернул карту, а напоследок пр...\n",
       "13997  Positive  Добрый день! Давно являюсь клиентом банка Русский Стандарт имею зарплатную карту. 7 октября обратилась в отделение на свободном проспекте возле станции метро Новогиреево с проблемой, не могла полу...\n",
       "13998  Negative  Сначала было все банально. Взял в кредит mp3 плеер на 6 мес. Всегда платил заранее до наступления срока платежа и, причем несколько больше, чем было предписано в договоре.Последний платеж должен б..."
      ]
     },
     "metadata": {},
     "output_type": "display_data"
    },
    {
     "name": "stdout",
     "output_type": "stream",
     "text": [
      "\u001b[31m_____________isna______________________\u001b[0m\n"
     ]
    },
    {
     "data": {
      "text/html": [
       "<div>\n",
       "<style scoped>\n",
       "    .dataframe tbody tr th:only-of-type {\n",
       "        vertical-align: middle;\n",
       "    }\n",
       "\n",
       "    .dataframe tbody tr th {\n",
       "        vertical-align: top;\n",
       "    }\n",
       "\n",
       "    .dataframe thead th {\n",
       "        text-align: right;\n",
       "    }\n",
       "</style>\n",
       "<table border=\"1\" class=\"dataframe\">\n",
       "  <thead>\n",
       "    <tr style=\"text-align: right;\">\n",
       "      <th></th>\n",
       "      <th>index</th>\n",
       "      <th>0</th>\n",
       "    </tr>\n",
       "  </thead>\n",
       "  <tbody>\n",
       "    <tr>\n",
       "      <th>0</th>\n",
       "      <td>Score</td>\n",
       "      <td>0</td>\n",
       "    </tr>\n",
       "    <tr>\n",
       "      <th>1</th>\n",
       "      <td>Text</td>\n",
       "      <td>0</td>\n",
       "    </tr>\n",
       "  </tbody>\n",
       "</table>\n",
       "</div>"
      ],
      "text/plain": [
       "   index  0\n",
       "0  Score  0\n",
       "1   Text  0"
      ]
     },
     "metadata": {},
     "output_type": "display_data"
    },
    {
     "name": "stdout",
     "output_type": "stream",
     "text": [
      "\u001b[31m_____________duplicated________________\u001b[0m\n"
     ]
    },
    {
     "data": {
      "text/plain": [
       "1"
      ]
     },
     "metadata": {},
     "output_type": "display_data"
    },
    {
     "name": "stdout",
     "output_type": "stream",
     "text": [
      "\u001b[31m__количество пропущенных значений по каждому из столбцов__\u001b[0m\n"
     ]
    },
    {
     "data": {
      "text/html": [
       "<div>\n",
       "<style scoped>\n",
       "    .dataframe tbody tr th:only-of-type {\n",
       "        vertical-align: middle;\n",
       "    }\n",
       "\n",
       "    .dataframe tbody tr th {\n",
       "        vertical-align: top;\n",
       "    }\n",
       "\n",
       "    .dataframe thead th {\n",
       "        text-align: right;\n",
       "    }\n",
       "</style>\n",
       "<table border=\"1\" class=\"dataframe\">\n",
       "  <thead>\n",
       "    <tr style=\"text-align: right;\">\n",
       "      <th></th>\n",
       "      <th>index</th>\n",
       "      <th>0</th>\n",
       "    </tr>\n",
       "  </thead>\n",
       "  <tbody>\n",
       "    <tr>\n",
       "      <th>0</th>\n",
       "      <td>Score</td>\n",
       "      <td>0.0</td>\n",
       "    </tr>\n",
       "    <tr>\n",
       "      <th>1</th>\n",
       "      <td>Text</td>\n",
       "      <td>0.0</td>\n",
       "    </tr>\n",
       "  </tbody>\n",
       "</table>\n",
       "</div>"
      ],
      "text/plain": [
       "   index    0\n",
       "0  Score  0.0\n",
       "1   Text  0.0"
      ]
     },
     "metadata": {},
     "output_type": "display_data"
    }
   ],
   "source": [
    "list_df = (data,)\n",
    "for list_df in list_df:\n",
    "    print('\\033[31m' + '______________info_____________________' + '\\033[0m')\n",
    "    display(list_df.info())\n",
    "    print('\\033[31m' + '______________describe_________________' + '\\033[0m')\n",
    "    display(list_df.describe().T)\n",
    "    print('\\033[31m' + '______________head_____________________' + '\\033[0m')\n",
    "    display(list_df.head(10))\n",
    "    print('\\033[31m' + '______________sample___________________' + '\\033[0m')\n",
    "    display(list_df.sample(10))\n",
    "    print('\\033[31m' + '______________tail_____________________' + '\\033[0m')\n",
    "    display(list_df.tail(10))\n",
    "    print('\\033[31m' + '_____________isna______________________' + '\\033[0m')\n",
    "    display(list_df.isna().sum().reset_index())\n",
    "    print('\\033[31m' + '_____________duplicated________________' + '\\033[0m')\n",
    "    display(list_df.duplicated().sum())\n",
    "    print('\\033[31m' + '__количество пропущенных значений по каждому из столбцов__' + '\\033[0m')\n",
    "    display(list_df.isnull().mean().reset_index())\n"
   ]
  },
  {
   "cell_type": "code",
   "execution_count": 63,
   "metadata": {},
   "outputs": [
    {
     "data": {
      "text/plain": [
       "Index(['Score', 'Text'], dtype='object')"
      ]
     },
     "execution_count": 63,
     "metadata": {},
     "output_type": "execute_result"
    }
   ],
   "source": [
    "data.columns"
   ]
  },
  {
   "attachments": {},
   "cell_type": "markdown",
   "metadata": {},
   "source": [
    "Переведем `Text` в нижний регистр"
   ]
  },
  {
   "cell_type": "code",
   "execution_count": 64,
   "metadata": {},
   "outputs": [],
   "source": [
    "data['Text'] = data['Text'].str.lower()"
   ]
  },
  {
   "cell_type": "code",
   "execution_count": 65,
   "metadata": {},
   "outputs": [],
   "source": [
    "data['Text']=data['Text'].apply(str)"
   ]
  },
  {
   "attachments": {},
   "cell_type": "markdown",
   "metadata": {},
   "source": [
    "Определим количество негативных и позитивных оценок"
   ]
  },
  {
   "cell_type": "code",
   "execution_count": 66,
   "metadata": {},
   "outputs": [
    {
     "data": {
      "text/html": [
       "<div>\n",
       "<style scoped>\n",
       "    .dataframe tbody tr th:only-of-type {\n",
       "        vertical-align: middle;\n",
       "    }\n",
       "\n",
       "    .dataframe tbody tr th {\n",
       "        vertical-align: top;\n",
       "    }\n",
       "\n",
       "    .dataframe thead th {\n",
       "        text-align: right;\n",
       "    }\n",
       "</style>\n",
       "<table border=\"1\" class=\"dataframe\">\n",
       "  <thead>\n",
       "    <tr style=\"text-align: right;\">\n",
       "      <th></th>\n",
       "      <th>Оценка</th>\n",
       "      <th>Количество</th>\n",
       "    </tr>\n",
       "  </thead>\n",
       "  <tbody>\n",
       "    <tr>\n",
       "      <th>0</th>\n",
       "      <td>Positive</td>\n",
       "      <td>7000</td>\n",
       "    </tr>\n",
       "    <tr>\n",
       "      <th>1</th>\n",
       "      <td>Negative</td>\n",
       "      <td>6999</td>\n",
       "    </tr>\n",
       "  </tbody>\n",
       "</table>\n",
       "</div>"
      ],
      "text/plain": [
       "     Оценка  Количество\n",
       "0  Positive        7000\n",
       "1  Negative        6999"
      ]
     },
     "execution_count": 66,
     "metadata": {},
     "output_type": "execute_result"
    }
   ],
   "source": [
    "count_score= data.groupby(['Score']).agg({'Text':'count'})\\\n",
    "                                    .sort_values(ascending=False, by='Score').reset_index()\n",
    "count_score.columns = ['Оценка', 'Количество']\n",
    "count_score\n",
    "\n"
   ]
  },
  {
   "attachments": {},
   "cell_type": "markdown",
   "metadata": {},
   "source": [
    "Выберем текст для токенизации"
   ]
  },
  {
   "cell_type": "code",
   "execution_count": 67,
   "metadata": {},
   "outputs": [],
   "source": [
    "text = data.iloc[0]['Text']"
   ]
  },
  {
   "cell_type": "code",
   "execution_count": 68,
   "metadata": {},
   "outputs": [
    {
     "data": {
      "text/plain": [
       "'в альфа-банке работает замечательная девушка - ильясова орна, вежливая, отзывчивая, действительно участвует в запросе клиента, я приходила к ней подряд ровно три дня, каждый день она помнила время моего прихода, помогла оформить кредит в размере 1млн рублей, когда я пришла с партнером (передавать ей полученный кредит за покупаемый мною авто), специалист ильясова орна помогла нам вывести всю сумму в один день (а это было непросто), так что сделка состоялась и все остались довольны! моя знакомая в конце всего добавила: теперь я \\xa0поняла, почему мы пришли в это отделение, к этой девушке..побольше бы таких замечательных специалистов! приобретать программу здоровье, и вообще все, что связано с альфа-банком, теперь буду только у нее!'"
      ]
     },
     "execution_count": 68,
     "metadata": {},
     "output_type": "execute_result"
    }
   ],
   "source": [
    "text"
   ]
  },
  {
   "cell_type": "code",
   "execution_count": 69,
   "metadata": {},
   "outputs": [],
   "source": [
    "#tokens = text.astype(str).apply(word_tokenize)"
   ]
  },
  {
   "cell_type": "code",
   "execution_count": 70,
   "metadata": {},
   "outputs": [],
   "source": [
    "tokens = word_tokenize(text)\n"
   ]
  },
  {
   "cell_type": "code",
   "execution_count": 71,
   "metadata": {},
   "outputs": [
    {
     "data": {
      "text/plain": [
       "['в',\n",
       " 'альфа-банке',\n",
       " 'работает',\n",
       " 'замечательная',\n",
       " 'девушка',\n",
       " '-',\n",
       " 'ильясова',\n",
       " 'орна',\n",
       " ',',\n",
       " 'вежливая']"
      ]
     },
     "execution_count": 71,
     "metadata": {},
     "output_type": "execute_result"
    }
   ],
   "source": [
    "tokens[:10]"
   ]
  },
  {
   "attachments": {},
   "cell_type": "markdown",
   "metadata": {},
   "source": [
    "Удалим знаки препинания"
   ]
  },
  {
   "cell_type": "code",
   "execution_count": 72,
   "metadata": {},
   "outputs": [],
   "source": [
    "punctuation_marks = ['!', ',', '(', ')', ':', '-', '?', '.', '..', '...']"
   ]
  },
  {
   "cell_type": "code",
   "execution_count": 73,
   "metadata": {},
   "outputs": [],
   "source": [
    "only_words = []\n",
    "for token in tokens:\n",
    "    if token not in punctuation_marks:\n",
    "        only_words.append(token)"
   ]
  },
  {
   "cell_type": "code",
   "execution_count": 74,
   "metadata": {},
   "outputs": [
    {
     "data": {
      "text/plain": [
       "['в',\n",
       " 'альфа-банке',\n",
       " 'работает',\n",
       " 'замечательная',\n",
       " 'девушка',\n",
       " 'ильясова',\n",
       " 'орна',\n",
       " 'вежливая',\n",
       " 'отзывчивая',\n",
       " 'действительно']"
      ]
     },
     "execution_count": 74,
     "metadata": {},
     "output_type": "execute_result"
    }
   ],
   "source": [
    "only_words[:10]"
   ]
  },
  {
   "attachments": {},
   "cell_type": "markdown",
   "metadata": {},
   "source": [
    "Приводим слова к нормальной форме"
   ]
  },
  {
   "cell_type": "code",
   "execution_count": 75,
   "metadata": {},
   "outputs": [],
   "source": [
    "morph = pymorphy2.MorphAnalyzer()"
   ]
  },
  {
   "cell_type": "code",
   "execution_count": 76,
   "metadata": {},
   "outputs": [],
   "source": [
    "lemmas = []\n",
    "for token in only_words:\n",
    "    lemmas.append(morph.parse(token)[0].normal_form)"
   ]
  },
  {
   "cell_type": "code",
   "execution_count": 77,
   "metadata": {},
   "outputs": [
    {
     "data": {
      "text/plain": [
       "['в',\n",
       " 'альфа-банк',\n",
       " 'работать',\n",
       " 'замечательный',\n",
       " 'девушка',\n",
       " 'ильясова',\n",
       " 'орный',\n",
       " 'вежливый',\n",
       " 'отзывчивый',\n",
       " 'действительно']"
      ]
     },
     "execution_count": 77,
     "metadata": {},
     "output_type": "execute_result"
    }
   ],
   "source": [
    "lemmas[:10]"
   ]
  },
  {
   "attachments": {},
   "cell_type": "markdown",
   "metadata": {},
   "source": [
    "удалим стоп-слова"
   ]
  },
  {
   "cell_type": "code",
   "execution_count": 78,
   "metadata": {},
   "outputs": [
    {
     "name": "stderr",
     "output_type": "stream",
     "text": [
      "[nltk_data] Downloading package stopwords to /Users/sna/nltk_data...\n",
      "[nltk_data]   Package stopwords is already up-to-date!\n"
     ]
    },
    {
     "data": {
      "text/plain": [
       "True"
      ]
     },
     "execution_count": 78,
     "metadata": {},
     "output_type": "execute_result"
    }
   ],
   "source": [
    "nltk.download('stopwords')"
   ]
  },
  {
   "cell_type": "code",
   "execution_count": 79,
   "metadata": {},
   "outputs": [],
   "source": [
    "stop_words = stopwords.words('russian')"
   ]
  },
  {
   "cell_type": "code",
   "execution_count": 80,
   "metadata": {},
   "outputs": [
    {
     "data": {
      "text/plain": [
       "['и', 'в', 'во', 'не', 'что', 'он', 'на', 'я', 'с', 'со']"
      ]
     },
     "execution_count": 80,
     "metadata": {},
     "output_type": "execute_result"
    }
   ],
   "source": [
    "stop_words[:10]"
   ]
  },
  {
   "attachments": {},
   "cell_type": "markdown",
   "metadata": {},
   "source": [
    "Функция предварительной обработки"
   ]
  },
  {
   "cell_type": "code",
   "execution_count": 81,
   "metadata": {},
   "outputs": [],
   "source": [
    "def preprocess(text, stop_words, punctuation_marks, morph):\n",
    "    tokens = word_tokenize(text.lower())\n",
    "    preprocessed_text = []\n",
    "    for token in tokens:\n",
    "        if token not in punctuation_marks:\n",
    "            lemma = morph.parse(token)[0].normal_form\n",
    "            if lemma not in stop_words:\n",
    "                preprocessed_text.append(lemma)\n",
    "    return preprocessed_text"
   ]
  },
  {
   "cell_type": "code",
   "execution_count": 82,
   "metadata": {},
   "outputs": [],
   "source": [
    "punctuation_marks = ['!', ',', '(', ')', ':', '-', '?', '.', '..', '...']\n",
    "stop_words = stopwords.words(\"russian\")\n",
    "morph = pymorphy2.MorphAnalyzer()"
   ]
  },
  {
   "cell_type": "code",
   "execution_count": 83,
   "metadata": {},
   "outputs": [],
   "source": [
    "#data[0:10].apply(lambda row: preprocess(row['Text'], punctuation_marks, stop_words, morph), axis=1)"
   ]
  },
  {
   "cell_type": "code",
   "execution_count": 84,
   "metadata": {},
   "outputs": [],
   "source": [
    "data['Preprocessed_texts'] = data.apply(lambda row: preprocess(row['Text'], punctuation_marks, stop_words, morph), axis=1)"
   ]
  },
  {
   "cell_type": "code",
   "execution_count": 85,
   "metadata": {},
   "outputs": [
    {
     "data": {
      "text/html": [
       "<div>\n",
       "<style scoped>\n",
       "    .dataframe tbody tr th:only-of-type {\n",
       "        vertical-align: middle;\n",
       "    }\n",
       "\n",
       "    .dataframe tbody tr th {\n",
       "        vertical-align: top;\n",
       "    }\n",
       "\n",
       "    .dataframe thead th {\n",
       "        text-align: right;\n",
       "    }\n",
       "</style>\n",
       "<table border=\"1\" class=\"dataframe\">\n",
       "  <thead>\n",
       "    <tr style=\"text-align: right;\">\n",
       "      <th></th>\n",
       "      <th>Score</th>\n",
       "      <th>Text</th>\n",
       "      <th>Preprocessed_texts</th>\n",
       "    </tr>\n",
       "    <tr>\n",
       "      <th>idx</th>\n",
       "      <th></th>\n",
       "      <th></th>\n",
       "      <th></th>\n",
       "    </tr>\n",
       "  </thead>\n",
       "  <tbody>\n",
       "    <tr>\n",
       "      <th>0</th>\n",
       "      <td>Positive</td>\n",
       "      <td>в альфа-банке работает замечательная девушка - ильясова орна, вежливая, отзывчивая, действительно участвует в запросе клиента, я приходила к ней подряд ровно три дня, каждый день она помнила время...</td>\n",
       "      <td>[альфа-банк, работать, замечательный, девушка, ильясова, орный, вежливый, отзывчивый, действительно, участвовать, запрос, клиент, приходить, подряд, ровно, день, каждый, день, помнить, время, мой,...</td>\n",
       "    </tr>\n",
       "    <tr>\n",
       "      <th>1</th>\n",
       "      <td>Negative</td>\n",
       "      <td>оформляя рассрочку в м. видео в меге тёплый стан. попросила менеджера, чтобы заявка была без страховки. в итоге, когда подписывала договор, в договоре оказались лишние почти 6 тысяч, когда менедже...</td>\n",
       "      <td>[оформлять, рассрочка, м., видео, мег, тёплый, стан, попросить, менеджер, заявка, страховка, итог, подписывать, договор, договор, оказаться, лишний, 6, тысяча, менеджер, стать, спрашивать, это, 6,...</td>\n",
       "    </tr>\n",
       "    <tr>\n",
       "      <th>2</th>\n",
       "      <td>Positive</td>\n",
       "      <td>очень порадовала оперативность работы в банке. заказал через интернет карту visa classic, потребовалось подойти в банк для подписания заявления. в тот же день мне открыли текущий счет с доступом ч...</td>\n",
       "      <td>[очень, порадовать, оперативность, работа, банк, заказать, интернет, карта, visa, classic, потребоваться, подойти, банк, подписание, заявление, день, открыть, текущий, счёт, доступ, интернет, услу...</td>\n",
       "    </tr>\n",
       "    <tr>\n",
       "      <th>3</th>\n",
       "      <td>Negative</td>\n",
       "      <td>имела неосторожность оформить потреб. кредит в альфа-банке - очень жалею. во-первых, карту при оформлении кредита мне не выдали (объяснили тем, что их сейчас нет в наличии). во-вторых, никакую инф...</td>\n",
       "      <td>[иметь, неосторожность, оформить, потреба, кредит, альфа-банк, очень, жалеть, во-первых, карта, оформление, кредит, выдать, объяснить, наличие, во-вторых, никакой, информация, телефон, предоставля...</td>\n",
       "    </tr>\n",
       "    <tr>\n",
       "      <th>4</th>\n",
       "      <td>Negative</td>\n",
       "      <td>небольшая предыстория: нашел на сайте mdm банка интересную ко-бренд карту «техносила – mdm банк», подал заявку на нее, и скоро позвонили с горячей линии. предложили кредитную карту, на что я в при...</td>\n",
       "      <td>[небольшой, предыстория, найти, сайт, mdm, банк, интересный, ко-бренд, карта, «, техносить, –, mdm, банк, », подать, заявка, скоро, позвонить, горячий, линия, предложить, кредитный, карта, принцип...</td>\n",
       "    </tr>\n",
       "    <tr>\n",
       "      <th>...</th>\n",
       "      <td>...</td>\n",
       "      <td>...</td>\n",
       "      <td>...</td>\n",
       "    </tr>\n",
       "    <tr>\n",
       "      <th>13994</th>\n",
       "      <td>Positive</td>\n",
       "      <td>о высокой надёжности мкб, порядочности и добросовестности его сотрудников. кратко: 19.6.12 г., открывая счёт, я, по рассеянности внёс в кассу сумму на 25000 р. больше величины счёта. переплату обн...</td>\n",
       "      <td>[высокий, надёжность, мкб, порядочность, добросовестность, сотрудник, кратко, 19.6.12, г., открывать, счёт, рассеянность, внести, касса, сумма, 25000, р., величина, счёт, переплата, обнаружить, ли...</td>\n",
       "    </tr>\n",
       "    <tr>\n",
       "      <th>13995</th>\n",
       "      <td>Positive</td>\n",
       "      <td>обслуживаюсь в офисе на чернореченской 42а, как физ. лицо уже год. в офисе на самом деле никогда нет очереди, всегда есть свободный сотрудник, который готов помочь в любом вопросе. при дистанционн...</td>\n",
       "      <td>[обслуживаться, офис, чернореченский, 42а, физ, лицо, год, офис, сам, дело, очередь, свободный, сотрудник, который, готовый, помочь, любой, вопрос, дистанционный, обслуживание, трудность, никакой,...</td>\n",
       "    </tr>\n",
       "    <tr>\n",
       "      <th>13996</th>\n",
       "      <td>Positive</td>\n",
       "      <td>попала сегодня в очень неприятную ситуацию. решила погасить долг по карте. пришла в банкомат (пр. дзержинского, 1/4/). банкомат деньги принял, выдал чек о зачислении, вернул карту, а напоследок пр...</td>\n",
       "      <td>[попасть, сегодня, очень, неприятный, ситуация, решить, погасить, долг, карта, прийти, банкомат, пр, дзержинский, 1/4/, банкомат, деньга, принять, выдать, чек, зачисление, вернуть, карта, напослед...</td>\n",
       "    </tr>\n",
       "    <tr>\n",
       "      <th>13997</th>\n",
       "      <td>Positive</td>\n",
       "      <td>добрый день! давно являюсь клиентом банка русский стандарт имею зарплатную карту. 7 октября обратилась в отделение на свободном проспекте возле станции метро новогиреево с проблемой, не могла полу...</td>\n",
       "      <td>[добрый, день, давно, являться, клиент, банк, русский, стандарт, иметь, зарплатный, карта, 7, октябрь, обратиться, отделение, свободный, проспект, возле, станция, метро, новогиреево, проблема, моч...</td>\n",
       "    </tr>\n",
       "    <tr>\n",
       "      <th>13998</th>\n",
       "      <td>Negative</td>\n",
       "      <td>сначала было все банально. взял в кредит mp3 плеер на 6 мес. всегда платил заранее до наступления срока платежа и, причем несколько больше, чем было предписано в договоре.последний платеж должен б...</td>\n",
       "      <td>[сначала, банально, взять, кредит, mp3, плеер, 6, мес, платить, заранее, наступление, срок, платёж, причём, несколько, предписать, договоре.последний, платёж, должный, поступить, 13.11.06, включит...</td>\n",
       "    </tr>\n",
       "  </tbody>\n",
       "</table>\n",
       "<p>13999 rows × 3 columns</p>\n",
       "</div>"
      ],
      "text/plain": [
       "          Score                                                                                                                                                                                                     Text                                                                                                                                                                                       Preprocessed_texts\n",
       "idx                                                                                                                                                                                                                                                                                                                                                                                                                              \n",
       "0      Positive  в альфа-банке работает замечательная девушка - ильясова орна, вежливая, отзывчивая, действительно участвует в запросе клиента, я приходила к ней подряд ровно три дня, каждый день она помнила время...  [альфа-банк, работать, замечательный, девушка, ильясова, орный, вежливый, отзывчивый, действительно, участвовать, запрос, клиент, приходить, подряд, ровно, день, каждый, день, помнить, время, мой,...\n",
       "1      Negative  оформляя рассрочку в м. видео в меге тёплый стан. попросила менеджера, чтобы заявка была без страховки. в итоге, когда подписывала договор, в договоре оказались лишние почти 6 тысяч, когда менедже...  [оформлять, рассрочка, м., видео, мег, тёплый, стан, попросить, менеджер, заявка, страховка, итог, подписывать, договор, договор, оказаться, лишний, 6, тысяча, менеджер, стать, спрашивать, это, 6,...\n",
       "2      Positive  очень порадовала оперативность работы в банке. заказал через интернет карту visa classic, потребовалось подойти в банк для подписания заявления. в тот же день мне открыли текущий счет с доступом ч...  [очень, порадовать, оперативность, работа, банк, заказать, интернет, карта, visa, classic, потребоваться, подойти, банк, подписание, заявление, день, открыть, текущий, счёт, доступ, интернет, услу...\n",
       "3      Negative  имела неосторожность оформить потреб. кредит в альфа-банке - очень жалею. во-первых, карту при оформлении кредита мне не выдали (объяснили тем, что их сейчас нет в наличии). во-вторых, никакую инф...  [иметь, неосторожность, оформить, потреба, кредит, альфа-банк, очень, жалеть, во-первых, карта, оформление, кредит, выдать, объяснить, наличие, во-вторых, никакой, информация, телефон, предоставля...\n",
       "4      Negative  небольшая предыстория: нашел на сайте mdm банка интересную ко-бренд карту «техносила – mdm банк», подал заявку на нее, и скоро позвонили с горячей линии. предложили кредитную карту, на что я в при...  [небольшой, предыстория, найти, сайт, mdm, банк, интересный, ко-бренд, карта, «, техносить, –, mdm, банк, », подать, заявка, скоро, позвонить, горячий, линия, предложить, кредитный, карта, принцип...\n",
       "...         ...                                                                                                                                                                                                      ...                                                                                                                                                                                                      ...\n",
       "13994  Positive  о высокой надёжности мкб, порядочности и добросовестности его сотрудников. кратко: 19.6.12 г., открывая счёт, я, по рассеянности внёс в кассу сумму на 25000 р. больше величины счёта. переплату обн...  [высокий, надёжность, мкб, порядочность, добросовестность, сотрудник, кратко, 19.6.12, г., открывать, счёт, рассеянность, внести, касса, сумма, 25000, р., величина, счёт, переплата, обнаружить, ли...\n",
       "13995  Positive  обслуживаюсь в офисе на чернореченской 42а, как физ. лицо уже год. в офисе на самом деле никогда нет очереди, всегда есть свободный сотрудник, который готов помочь в любом вопросе. при дистанционн...  [обслуживаться, офис, чернореченский, 42а, физ, лицо, год, офис, сам, дело, очередь, свободный, сотрудник, который, готовый, помочь, любой, вопрос, дистанционный, обслуживание, трудность, никакой,...\n",
       "13996  Positive  попала сегодня в очень неприятную ситуацию. решила погасить долг по карте. пришла в банкомат (пр. дзержинского, 1/4/). банкомат деньги принял, выдал чек о зачислении, вернул карту, а напоследок пр...  [попасть, сегодня, очень, неприятный, ситуация, решить, погасить, долг, карта, прийти, банкомат, пр, дзержинский, 1/4/, банкомат, деньга, принять, выдать, чек, зачисление, вернуть, карта, напослед...\n",
       "13997  Positive  добрый день! давно являюсь клиентом банка русский стандарт имею зарплатную карту. 7 октября обратилась в отделение на свободном проспекте возле станции метро новогиреево с проблемой, не могла полу...  [добрый, день, давно, являться, клиент, банк, русский, стандарт, иметь, зарплатный, карта, 7, октябрь, обратиться, отделение, свободный, проспект, возле, станция, метро, новогиреево, проблема, моч...\n",
       "13998  Negative  сначала было все банально. взял в кредит mp3 плеер на 6 мес. всегда платил заранее до наступления срока платежа и, причем несколько больше, чем было предписано в договоре.последний платеж должен б...  [сначала, банально, взять, кредит, mp3, плеер, 6, мес, платить, заранее, наступление, срок, платёж, причём, несколько, предписать, договоре.последний, платёж, должный, поступить, 13.11.06, включит...\n",
       "\n",
       "[13999 rows x 3 columns]"
      ]
     },
     "execution_count": 85,
     "metadata": {},
     "output_type": "execute_result"
    }
   ],
   "source": [
    "data"
   ]
  },
  {
   "cell_type": "code",
   "execution_count": 86,
   "metadata": {},
   "outputs": [
    {
     "data": {
      "text/plain": [
       "Index(['Score', 'Text', 'Preprocessed_texts'], dtype='object')"
      ]
     },
     "execution_count": 86,
     "metadata": {},
     "output_type": "execute_result"
    }
   ],
   "source": [
    "data.columns"
   ]
  },
  {
   "cell_type": "code",
   "execution_count": 87,
   "metadata": {},
   "outputs": [],
   "source": [
    "prep_text = data['Preprocessed_texts']"
   ]
  },
  {
   "cell_type": "code",
   "execution_count": 88,
   "metadata": {},
   "outputs": [
    {
     "data": {
      "text/html": [
       "<div>\n",
       "<style scoped>\n",
       "    .dataframe tbody tr th:only-of-type {\n",
       "        vertical-align: middle;\n",
       "    }\n",
       "\n",
       "    .dataframe tbody tr th {\n",
       "        vertical-align: top;\n",
       "    }\n",
       "\n",
       "    .dataframe thead th {\n",
       "        text-align: right;\n",
       "    }\n",
       "</style>\n",
       "<table border=\"1\" class=\"dataframe\">\n",
       "  <thead>\n",
       "    <tr style=\"text-align: right;\">\n",
       "      <th></th>\n",
       "      <th>Preprocessed_texts</th>\n",
       "    </tr>\n",
       "    <tr>\n",
       "      <th>idx</th>\n",
       "      <th></th>\n",
       "    </tr>\n",
       "  </thead>\n",
       "  <tbody>\n",
       "    <tr>\n",
       "      <th>0</th>\n",
       "      <td>[альфа-банк, работать, замечательный, девушка, ильясова, орный, вежливый, отзывчивый, действительно, участвовать, запрос, клиент, приходить, подряд, ровно, день, каждый, день, помнить, время, мой,...</td>\n",
       "    </tr>\n",
       "    <tr>\n",
       "      <th>1</th>\n",
       "      <td>[оформлять, рассрочка, м., видео, мег, тёплый, стан, попросить, менеджер, заявка, страховка, итог, подписывать, договор, договор, оказаться, лишний, 6, тысяча, менеджер, стать, спрашивать, это, 6,...</td>\n",
       "    </tr>\n",
       "    <tr>\n",
       "      <th>2</th>\n",
       "      <td>[очень, порадовать, оперативность, работа, банк, заказать, интернет, карта, visa, classic, потребоваться, подойти, банк, подписание, заявление, день, открыть, текущий, счёт, доступ, интернет, услу...</td>\n",
       "    </tr>\n",
       "    <tr>\n",
       "      <th>3</th>\n",
       "      <td>[иметь, неосторожность, оформить, потреба, кредит, альфа-банк, очень, жалеть, во-первых, карта, оформление, кредит, выдать, объяснить, наличие, во-вторых, никакой, информация, телефон, предоставля...</td>\n",
       "    </tr>\n",
       "    <tr>\n",
       "      <th>4</th>\n",
       "      <td>[небольшой, предыстория, найти, сайт, mdm, банк, интересный, ко-бренд, карта, «, техносить, –, mdm, банк, », подать, заявка, скоро, позвонить, горячий, линия, предложить, кредитный, карта, принцип...</td>\n",
       "    </tr>\n",
       "    <tr>\n",
       "      <th>...</th>\n",
       "      <td>...</td>\n",
       "    </tr>\n",
       "    <tr>\n",
       "      <th>13994</th>\n",
       "      <td>[высокий, надёжность, мкб, порядочность, добросовестность, сотрудник, кратко, 19.6.12, г., открывать, счёт, рассеянность, внести, касса, сумма, 25000, р., величина, счёт, переплата, обнаружить, ли...</td>\n",
       "    </tr>\n",
       "    <tr>\n",
       "      <th>13995</th>\n",
       "      <td>[обслуживаться, офис, чернореченский, 42а, физ, лицо, год, офис, сам, дело, очередь, свободный, сотрудник, который, готовый, помочь, любой, вопрос, дистанционный, обслуживание, трудность, никакой,...</td>\n",
       "    </tr>\n",
       "    <tr>\n",
       "      <th>13996</th>\n",
       "      <td>[попасть, сегодня, очень, неприятный, ситуация, решить, погасить, долг, карта, прийти, банкомат, пр, дзержинский, 1/4/, банкомат, деньга, принять, выдать, чек, зачисление, вернуть, карта, напослед...</td>\n",
       "    </tr>\n",
       "    <tr>\n",
       "      <th>13997</th>\n",
       "      <td>[добрый, день, давно, являться, клиент, банк, русский, стандарт, иметь, зарплатный, карта, 7, октябрь, обратиться, отделение, свободный, проспект, возле, станция, метро, новогиреево, проблема, моч...</td>\n",
       "    </tr>\n",
       "    <tr>\n",
       "      <th>13998</th>\n",
       "      <td>[сначала, банально, взять, кредит, mp3, плеер, 6, мес, платить, заранее, наступление, срок, платёж, причём, несколько, предписать, договоре.последний, платёж, должный, поступить, 13.11.06, включит...</td>\n",
       "    </tr>\n",
       "  </tbody>\n",
       "</table>\n",
       "<p>13999 rows × 1 columns</p>\n",
       "</div>"
      ],
      "text/plain": [
       "                                                                                                                                                                                            Preprocessed_texts\n",
       "idx                                                                                                                                                                                                           \n",
       "0      [альфа-банк, работать, замечательный, девушка, ильясова, орный, вежливый, отзывчивый, действительно, участвовать, запрос, клиент, приходить, подряд, ровно, день, каждый, день, помнить, время, мой,...\n",
       "1      [оформлять, рассрочка, м., видео, мег, тёплый, стан, попросить, менеджер, заявка, страховка, итог, подписывать, договор, договор, оказаться, лишний, 6, тысяча, менеджер, стать, спрашивать, это, 6,...\n",
       "2      [очень, порадовать, оперативность, работа, банк, заказать, интернет, карта, visa, classic, потребоваться, подойти, банк, подписание, заявление, день, открыть, текущий, счёт, доступ, интернет, услу...\n",
       "3      [иметь, неосторожность, оформить, потреба, кредит, альфа-банк, очень, жалеть, во-первых, карта, оформление, кредит, выдать, объяснить, наличие, во-вторых, никакой, информация, телефон, предоставля...\n",
       "4      [небольшой, предыстория, найти, сайт, mdm, банк, интересный, ко-бренд, карта, «, техносить, –, mdm, банк, », подать, заявка, скоро, позвонить, горячий, линия, предложить, кредитный, карта, принцип...\n",
       "...                                                                                                                                                                                                        ...\n",
       "13994  [высокий, надёжность, мкб, порядочность, добросовестность, сотрудник, кратко, 19.6.12, г., открывать, счёт, рассеянность, внести, касса, сумма, 25000, р., величина, счёт, переплата, обнаружить, ли...\n",
       "13995  [обслуживаться, офис, чернореченский, 42а, физ, лицо, год, офис, сам, дело, очередь, свободный, сотрудник, который, готовый, помочь, любой, вопрос, дистанционный, обслуживание, трудность, никакой,...\n",
       "13996  [попасть, сегодня, очень, неприятный, ситуация, решить, погасить, долг, карта, прийти, банкомат, пр, дзержинский, 1/4/, банкомат, деньга, принять, выдать, чек, зачисление, вернуть, карта, напослед...\n",
       "13997  [добрый, день, давно, являться, клиент, банк, русский, стандарт, иметь, зарплатный, карта, 7, октябрь, обратиться, отделение, свободный, проспект, возле, станция, метро, новогиреево, проблема, моч...\n",
       "13998  [сначала, банально, взять, кредит, mp3, плеер, 6, мес, платить, заранее, наступление, срок, платёж, причём, несколько, предписать, договоре.последний, платёж, должный, поступить, 13.11.06, включит...\n",
       "\n",
       "[13999 rows x 1 columns]"
      ]
     },
     "execution_count": 88,
     "metadata": {},
     "output_type": "execute_result"
    }
   ],
   "source": [
    "prep_text.to_frame()"
   ]
  },
  {
   "attachments": {},
   "cell_type": "markdown",
   "metadata": {},
   "source": []
  },
  {
   "cell_type": "code",
   "execution_count": 89,
   "metadata": {},
   "outputs": [],
   "source": [
    "clean_df = data[data['Preprocessed_texts'].str.len() >= 100]"
   ]
  },
  {
   "cell_type": "code",
   "execution_count": 90,
   "metadata": {},
   "outputs": [
    {
     "data": {
      "text/html": [
       "<div>\n",
       "<style scoped>\n",
       "    .dataframe tbody tr th:only-of-type {\n",
       "        vertical-align: middle;\n",
       "    }\n",
       "\n",
       "    .dataframe tbody tr th {\n",
       "        vertical-align: top;\n",
       "    }\n",
       "\n",
       "    .dataframe thead th {\n",
       "        text-align: right;\n",
       "    }\n",
       "</style>\n",
       "<table border=\"1\" class=\"dataframe\">\n",
       "  <thead>\n",
       "    <tr style=\"text-align: right;\">\n",
       "      <th></th>\n",
       "      <th>Preprocessed_texts</th>\n",
       "    </tr>\n",
       "    <tr>\n",
       "      <th>idx</th>\n",
       "      <th></th>\n",
       "    </tr>\n",
       "  </thead>\n",
       "  <tbody>\n",
       "    <tr>\n",
       "      <th>1</th>\n",
       "      <td>[оформлять, рассрочка, м., видео, мег, тёплый, стан, попросить, менеджер, заявка, страховка, итог, подписывать, договор, договор, оказаться, лишний, 6, тысяча, менеджер, стать, спрашивать, это, 6,...</td>\n",
       "    </tr>\n",
       "    <tr>\n",
       "      <th>2</th>\n",
       "      <td>[очень, порадовать, оперативность, работа, банк, заказать, интернет, карта, visa, classic, потребоваться, подойти, банк, подписание, заявление, день, открыть, текущий, счёт, доступ, интернет, услу...</td>\n",
       "    </tr>\n",
       "    <tr>\n",
       "      <th>4</th>\n",
       "      <td>[небольшой, предыстория, найти, сайт, mdm, банк, интересный, ко-бренд, карта, «, техносить, –, mdm, банк, », подать, заявка, скоро, позвонить, горячий, линия, предложить, кредитный, карта, принцип...</td>\n",
       "    </tr>\n",
       "    <tr>\n",
       "      <th>6</th>\n",
       "      <td>[месяц, назад, взять, автокредит, ходить, разный, салон, форд, присматривать, машина, исходить, конкретный, сумма, автомобиль, конкретный, первоначальный, взнос, автосалон, навязывать, именно, кре...</td>\n",
       "    </tr>\n",
       "    <tr>\n",
       "      <th>8</th>\n",
       "      <td>[день, добрый, мама, с-на, в.а.,1932г, рождение, пенсионерка, являться, клиент, бинбанка, октябрь, 2015, год, снять, пенсия, карта, срок, карта, закончиться, её, необходимо, перевыпустить, с-ин, г...</td>\n",
       "    </tr>\n",
       "    <tr>\n",
       "      <th>...</th>\n",
       "      <td>...</td>\n",
       "    </tr>\n",
       "    <tr>\n",
       "      <th>13991</th>\n",
       "      <td>[остальной, остаться, начаться, смешно, сотрудник, принимать, заявка, кредит, стать, суть, соучастник, единственный, отзыв, месяц, который, бинбанк, мдм, банк, иметь, двое, практически, сразу, вст...</td>\n",
       "    </tr>\n",
       "    <tr>\n",
       "      <th>13993</th>\n",
       "      <td>[здравствуйте, мой, знакомство, хоум, кредит, банк, начинаться, начальный, этап, складываться, очень, хороший, впечатление, банк, очень, часто, пользоваться, кредит, основное, это, товарный, креди...</td>\n",
       "    </tr>\n",
       "    <tr>\n",
       "      <th>13996</th>\n",
       "      <td>[попасть, сегодня, очень, неприятный, ситуация, решить, погасить, долг, карта, прийти, банкомат, пр, дзержинский, 1/4/, банкомат, деньга, принять, выдать, чек, зачисление, вернуть, карта, напослед...</td>\n",
       "    </tr>\n",
       "    <tr>\n",
       "      <th>13997</th>\n",
       "      <td>[добрый, день, давно, являться, клиент, банк, русский, стандарт, иметь, зарплатный, карта, 7, октябрь, обратиться, отделение, свободный, проспект, возле, станция, метро, новогиреево, проблема, моч...</td>\n",
       "    </tr>\n",
       "    <tr>\n",
       "      <th>13998</th>\n",
       "      <td>[сначала, банально, взять, кредит, mp3, плеер, 6, мес, платить, заранее, наступление, срок, платёж, причём, несколько, предписать, договоре.последний, платёж, должный, поступить, 13.11.06, включит...</td>\n",
       "    </tr>\n",
       "  </tbody>\n",
       "</table>\n",
       "<p>8749 rows × 1 columns</p>\n",
       "</div>"
      ],
      "text/plain": [
       "                                                                                                                                                                                            Preprocessed_texts\n",
       "idx                                                                                                                                                                                                           \n",
       "1      [оформлять, рассрочка, м., видео, мег, тёплый, стан, попросить, менеджер, заявка, страховка, итог, подписывать, договор, договор, оказаться, лишний, 6, тысяча, менеджер, стать, спрашивать, это, 6,...\n",
       "2      [очень, порадовать, оперативность, работа, банк, заказать, интернет, карта, visa, classic, потребоваться, подойти, банк, подписание, заявление, день, открыть, текущий, счёт, доступ, интернет, услу...\n",
       "4      [небольшой, предыстория, найти, сайт, mdm, банк, интересный, ко-бренд, карта, «, техносить, –, mdm, банк, », подать, заявка, скоро, позвонить, горячий, линия, предложить, кредитный, карта, принцип...\n",
       "6      [месяц, назад, взять, автокредит, ходить, разный, салон, форд, присматривать, машина, исходить, конкретный, сумма, автомобиль, конкретный, первоначальный, взнос, автосалон, навязывать, именно, кре...\n",
       "8      [день, добрый, мама, с-на, в.а.,1932г, рождение, пенсионерка, являться, клиент, бинбанка, октябрь, 2015, год, снять, пенсия, карта, срок, карта, закончиться, её, необходимо, перевыпустить, с-ин, г...\n",
       "...                                                                                                                                                                                                        ...\n",
       "13991  [остальной, остаться, начаться, смешно, сотрудник, принимать, заявка, кредит, стать, суть, соучастник, единственный, отзыв, месяц, который, бинбанк, мдм, банк, иметь, двое, практически, сразу, вст...\n",
       "13993  [здравствуйте, мой, знакомство, хоум, кредит, банк, начинаться, начальный, этап, складываться, очень, хороший, впечатление, банк, очень, часто, пользоваться, кредит, основное, это, товарный, креди...\n",
       "13996  [попасть, сегодня, очень, неприятный, ситуация, решить, погасить, долг, карта, прийти, банкомат, пр, дзержинский, 1/4/, банкомат, деньга, принять, выдать, чек, зачисление, вернуть, карта, напослед...\n",
       "13997  [добрый, день, давно, являться, клиент, банк, русский, стандарт, иметь, зарплатный, карта, 7, октябрь, обратиться, отделение, свободный, проспект, возле, станция, метро, новогиреево, проблема, моч...\n",
       "13998  [сначала, банально, взять, кредит, mp3, плеер, 6, мес, платить, заранее, наступление, срок, платёж, причём, несколько, предписать, договоре.последний, платёж, должный, поступить, 13.11.06, включит...\n",
       "\n",
       "[8749 rows x 1 columns]"
      ]
     },
     "execution_count": 90,
     "metadata": {},
     "output_type": "execute_result"
    }
   ],
   "source": [
    "clean_df.Preprocessed_texts.to_frame()"
   ]
  },
  {
   "cell_type": "code",
   "execution_count": null,
   "metadata": {},
   "outputs": [],
   "source": []
  }
 ],
 "metadata": {
  "kernelspec": {
   "display_name": "base",
   "language": "python",
   "name": "python3"
  },
  "language_info": {
   "codemirror_mode": {
    "name": "ipython",
    "version": 3
   },
   "file_extension": ".py",
   "mimetype": "text/x-python",
   "name": "python",
   "nbconvert_exporter": "python",
   "pygments_lexer": "ipython3",
   "version": "3.9.12"
  },
  "orig_nbformat": 4,
  "vscode": {
   "interpreter": {
    "hash": "93b519a33c7b9c18f394fb9ccbe51984c6623684928c4d9fd53b2a8ee8911f5e"
   }
  }
 },
 "nbformat": 4,
 "nbformat_minor": 2
}
