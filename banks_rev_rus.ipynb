{
 "cells": [
  {
   "attachments": {},
   "cell_type": "markdown",
   "metadata": {},
   "source": [
    "# Предварительная обработка текста на Python"
   ]
  },
  {
   "cell_type": "code",
   "execution_count": 1,
   "metadata": {},
   "outputs": [
    {
     "data": {
      "text/plain": [
       "'\\n%pip install pymorphy2\\n%pip install pandas\\n%pip install seaborn\\n%pip install nltk\\n'"
      ]
     },
     "execution_count": 1,
     "metadata": {},
     "output_type": "execute_result"
    }
   ],
   "source": [
    "'''\n",
    "%pip install pymorphy2\n",
    "%pip install pandas\n",
    "%pip install seaborn\n",
    "%pip install nltk\n",
    "'''"
   ]
  },
  {
   "attachments": {},
   "cell_type": "markdown",
   "metadata": {},
   "source": [
    "Загружаем библиотеки"
   ]
  },
  {
   "cell_type": "code",
   "execution_count": 2,
   "metadata": {},
   "outputs": [
    {
     "name": "stderr",
     "output_type": "stream",
     "text": [
      "[nltk_data] Downloading package punkt to /Users/sna/nltk_data...\n",
      "[nltk_data]   Package punkt is already up-to-date!\n",
      "[nltk_data] Downloading package stopwords to /Users/sna/nltk_data...\n",
      "[nltk_data]   Package stopwords is already up-to-date!\n"
     ]
    },
    {
     "data": {
      "text/plain": [
       "True"
      ]
     },
     "execution_count": 2,
     "metadata": {},
     "output_type": "execute_result"
    }
   ],
   "source": [
    "import pandas as pd\n",
    "pd.set_option('display.max_columns', None)\n",
    "pd.options.display.max_colwidth = 200\n",
    "pd.set_option('display.max_rows', 500)\n",
    "pd.set_option('display.width', 1000)\n",
    "\n",
    "#import math as mth\n",
    "#import matplotlib.pyplot as plt\n",
    "#from scipy import stats as st\n",
    "#from statsmodels.stats.weightstats import ttest_ind\n",
    "#from scipy.stats import ttest_ind_from_stats\n",
    "\n",
    "import numpy as np\n",
    "#import seaborn as sns; sns.set()\n",
    "#cm = sns.light_palette(\"green\", as_cmap=True)\n",
    "#1\n",
    "import nltk\n",
    "import pymorphy2\n",
    "from nltk.tokenize import word_tokenize\n",
    "from nltk.corpus import stopwords\n",
    "nltk.download('punkt')\n",
    "#2\n",
    "from sklearn.linear_model import LogisticRegression\n",
    "from sklearn.model_selection import train_test_split\n",
    "from collections import Counter\n",
    "nltk.download('stopwords')\n",
    "\n",
    "\n",
    "#import os\n",
    "#import io\n",
    "#import re\n"
   ]
  },
  {
   "attachments": {},
   "cell_type": "markdown",
   "metadata": {},
   "source": [
    "Константы"
   ]
  },
  {
   "cell_type": "code",
   "execution_count": 3,
   "metadata": {},
   "outputs": [],
   "source": [
    "max_words = 1000\n",
    "random_state = 42\n"
   ]
  },
  {
   "attachments": {},
   "cell_type": "markdown",
   "metadata": {},
   "source": [
    "Загружаем датасет"
   ]
  },
  {
   "cell_type": "code",
   "execution_count": 4,
   "metadata": {},
   "outputs": [
    {
     "data": {
      "text/plain": [
       "'\\nROOT = os.path.abspath(\"/Users/sna/Dropbox/git/banks/datasets/\")\\ndirectories = os.listdir(ROOT)\\nfor dir in directories:\\n    print(dir)\\n'"
      ]
     },
     "execution_count": 4,
     "metadata": {},
     "output_type": "execute_result"
    }
   ],
   "source": [
    "#data = pd.read_csv('/Users/sna/Dropbox/git/banks/datasets/banks.csv', sep='\\t', index_col='idx', on_bad_lines='skip')\n",
    "\n",
    "\n",
    "\n",
    "try:\n",
    "    data = pd.read_csv('/Users/sna/Dropbox/git/banks/datasets/banks.csv', sep='\\t', index_col='idx', on_bad_lines='skip')\n",
    "except:\n",
    "    data = pd.read_csv(r'C:\\Users\\skd23\\Dropbox\\git\\banks\\datasets\\banks.csv', sep='\\t', index_col='idx', on_bad_lines='skip')\n",
    "\n",
    "\n",
    "'''\n",
    "path = os.path.join('/' + os.sep, 'Users', 'sna', 'Dropbox', 'git', 'banks', 'datasets', 'banks.csv')\n",
    "data = pd.read_csv(path, sep='\\t')\n",
    "'''\n",
    "#data = pd.read_csv('/sna/Dropbox/git/banks/datasets/banks.csv')\n",
    "\n",
    "#path = './datasets/banks.csv'\n",
    "\n",
    "'''\n",
    "ROOT = os.path.abspath(\"/Users/sna/Dropbox/git/banks/datasets/\")\n",
    "directories = os.listdir(ROOT)\n",
    "for dir in directories:\n",
    "    print(dir)\n",
    "'''\n"
   ]
  },
  {
   "attachments": {},
   "cell_type": "markdown",
   "metadata": {},
   "source": [
    "Изучим датасет"
   ]
  },
  {
   "cell_type": "code",
   "execution_count": 5,
   "metadata": {},
   "outputs": [
    {
     "name": "stdout",
     "output_type": "stream",
     "text": [
      "\u001b[31m______________info_____________________\u001b[0m\n",
      "<class 'pandas.core.frame.DataFrame'>\n",
      "Int64Index: 13999 entries, 0 to 13998\n",
      "Data columns (total 2 columns):\n",
      " #   Column  Non-Null Count  Dtype \n",
      "---  ------  --------------  ----- \n",
      " 0   Score   13999 non-null  object\n",
      " 1   Text    13999 non-null  object\n",
      "dtypes: object(2)\n",
      "memory usage: 328.1+ KB\n"
     ]
    },
    {
     "data": {
      "text/plain": [
       "None"
      ]
     },
     "metadata": {},
     "output_type": "display_data"
    },
    {
     "name": "stdout",
     "output_type": "stream",
     "text": [
      "\u001b[31m______________describe_________________\u001b[0m\n"
     ]
    },
    {
     "data": {
      "text/html": [
       "<div>\n",
       "<style scoped>\n",
       "    .dataframe tbody tr th:only-of-type {\n",
       "        vertical-align: middle;\n",
       "    }\n",
       "\n",
       "    .dataframe tbody tr th {\n",
       "        vertical-align: top;\n",
       "    }\n",
       "\n",
       "    .dataframe thead th {\n",
       "        text-align: right;\n",
       "    }\n",
       "</style>\n",
       "<table border=\"1\" class=\"dataframe\">\n",
       "  <thead>\n",
       "    <tr style=\"text-align: right;\">\n",
       "      <th></th>\n",
       "      <th>count</th>\n",
       "      <th>unique</th>\n",
       "      <th>top</th>\n",
       "      <th>freq</th>\n",
       "    </tr>\n",
       "  </thead>\n",
       "  <tbody>\n",
       "    <tr>\n",
       "      <th>Score</th>\n",
       "      <td>13999</td>\n",
       "      <td>2</td>\n",
       "      <td>Positive</td>\n",
       "      <td>7000</td>\n",
       "    </tr>\n",
       "    <tr>\n",
       "      <th>Text</th>\n",
       "      <td>13999</td>\n",
       "      <td>13998</td>\n",
       "      <td>В свое время коллега оставил мой телефон как контактное лицо при получении кредита.Что-то с кредитом не заладилось и теперь каждый раз, когда у него просрочка и не удается дозвониться до него — он...</td>\n",
       "      <td>2</td>\n",
       "    </tr>\n",
       "  </tbody>\n",
       "</table>\n",
       "</div>"
      ],
      "text/plain": [
       "       count unique                                                                                                                                                                                                      top  freq\n",
       "Score  13999      2                                                                                                                                                                                                 Positive  7000\n",
       "Text   13999  13998  В свое время коллега оставил мой телефон как контактное лицо при получении кредита.Что-то с кредитом не заладилось и теперь каждый раз, когда у него просрочка и не удается дозвониться до него — он...     2"
      ]
     },
     "metadata": {},
     "output_type": "display_data"
    },
    {
     "name": "stdout",
     "output_type": "stream",
     "text": [
      "\u001b[31m______________head_____________________\u001b[0m\n"
     ]
    },
    {
     "data": {
      "text/html": [
       "<div>\n",
       "<style scoped>\n",
       "    .dataframe tbody tr th:only-of-type {\n",
       "        vertical-align: middle;\n",
       "    }\n",
       "\n",
       "    .dataframe tbody tr th {\n",
       "        vertical-align: top;\n",
       "    }\n",
       "\n",
       "    .dataframe thead th {\n",
       "        text-align: right;\n",
       "    }\n",
       "</style>\n",
       "<table border=\"1\" class=\"dataframe\">\n",
       "  <thead>\n",
       "    <tr style=\"text-align: right;\">\n",
       "      <th></th>\n",
       "      <th>Score</th>\n",
       "      <th>Text</th>\n",
       "    </tr>\n",
       "    <tr>\n",
       "      <th>idx</th>\n",
       "      <th></th>\n",
       "      <th></th>\n",
       "    </tr>\n",
       "  </thead>\n",
       "  <tbody>\n",
       "    <tr>\n",
       "      <th>0</th>\n",
       "      <td>Positive</td>\n",
       "      <td>В Альфа-Банке работает замечательная девушка - Ильясова Орна, вежливая, отзывчивая, действительно участвует в запросе клиента, я приходила к ней подряд ровно три дня, каждый день она помнила время...</td>\n",
       "    </tr>\n",
       "    <tr>\n",
       "      <th>1</th>\n",
       "      <td>Negative</td>\n",
       "      <td>Оформляя рассрочку в м. Видео в меге тёплый стан. Попросила менеджера, чтобы заявка была без страховки. В итоге, когда подписывала договор, в договоре оказались лишние почти 6 тысяч, когда менедже...</td>\n",
       "    </tr>\n",
       "    <tr>\n",
       "      <th>2</th>\n",
       "      <td>Positive</td>\n",
       "      <td>Очень порадовала оперативность работы в банке. Заказал через интернет карту visa classic, потребовалось подойти в банк для подписания заявления. В тот же день мне открыли текущий счет с доступом ч...</td>\n",
       "    </tr>\n",
       "    <tr>\n",
       "      <th>3</th>\n",
       "      <td>Negative</td>\n",
       "      <td>Имела неосторожность оформить потреб. кредит в Альфа-банке - очень жалею. Во-первых, карту при оформлении кредита мне не выдали (объяснили тем, что их сейчас нет в наличии). Во-вторых, никакую инф...</td>\n",
       "    </tr>\n",
       "    <tr>\n",
       "      <th>4</th>\n",
       "      <td>Negative</td>\n",
       "      <td>Небольшая предыстория: Нашел на сайте MDM банка интересную ко-бренд карту «Техносила – MDM банк», подал заявку на нее, и скоро позвонили с горячей линии. Предложили кредитную карту, на что я в при...</td>\n",
       "    </tr>\n",
       "    <tr>\n",
       "      <th>5</th>\n",
       "      <td>Positive</td>\n",
       "      <td>В конце февраля оформила кредитную карту банка Авангард в качестве страховки, на всякий непредвиденный случай, и уже тогда была удивлена скоростным и профессиональным обслуживанием в мини-офисе в ...</td>\n",
       "    </tr>\n",
       "    <tr>\n",
       "      <th>6</th>\n",
       "      <td>Negative</td>\n",
       "      <td>Месяц назад взял автокредит. До этого ходили по разным салонам Форд, присматривая машину. Исходил из конкретной суммы автомобиля и конкретного первоначального взноса. Во всех автосалонах навязываю...</td>\n",
       "    </tr>\n",
       "    <tr>\n",
       "      <th>7</th>\n",
       "      <td>Negative</td>\n",
       "      <td>Не говоря про махинации с бонусами, остановлюсь на процентах по среднемесячному остатку средств на карте. Пару месяцев, усыпляя бдительность, начисляли правильно, согласно договору, по 6%. На трет...</td>\n",
       "    </tr>\n",
       "    <tr>\n",
       "      <th>8</th>\n",
       "      <td>Negative</td>\n",
       "      <td>День добрый, моя мама С-на В.А.,1932г рождения, пенсионерка. Является клиентом Бинбанка. С октября 2015 года не может снять свою пенсию с карты, так как срок карты закончился и её необходимо перев...</td>\n",
       "    </tr>\n",
       "    <tr>\n",
       "      <th>9</th>\n",
       "      <td>Negative</td>\n",
       "      <td>Всех приветствую.Я являюсь клиентом этого чудо-банка. Договор 04101473481, брал в кредит автомобиль с сентября 2015 года.При заключении договора кредитный эксперт сказал, что я могу без проблем за...</td>\n",
       "    </tr>\n",
       "  </tbody>\n",
       "</table>\n",
       "</div>"
      ],
      "text/plain": [
       "        Score                                                                                                                                                                                                     Text\n",
       "idx                                                                                                                                                                                                                   \n",
       "0    Positive  В Альфа-Банке работает замечательная девушка - Ильясова Орна, вежливая, отзывчивая, действительно участвует в запросе клиента, я приходила к ней подряд ровно три дня, каждый день она помнила время...\n",
       "1    Negative  Оформляя рассрочку в м. Видео в меге тёплый стан. Попросила менеджера, чтобы заявка была без страховки. В итоге, когда подписывала договор, в договоре оказались лишние почти 6 тысяч, когда менедже...\n",
       "2    Positive  Очень порадовала оперативность работы в банке. Заказал через интернет карту visa classic, потребовалось подойти в банк для подписания заявления. В тот же день мне открыли текущий счет с доступом ч...\n",
       "3    Negative  Имела неосторожность оформить потреб. кредит в Альфа-банке - очень жалею. Во-первых, карту при оформлении кредита мне не выдали (объяснили тем, что их сейчас нет в наличии). Во-вторых, никакую инф...\n",
       "4    Negative  Небольшая предыстория: Нашел на сайте MDM банка интересную ко-бренд карту «Техносила – MDM банк», подал заявку на нее, и скоро позвонили с горячей линии. Предложили кредитную карту, на что я в при...\n",
       "5    Positive  В конце февраля оформила кредитную карту банка Авангард в качестве страховки, на всякий непредвиденный случай, и уже тогда была удивлена скоростным и профессиональным обслуживанием в мини-офисе в ...\n",
       "6    Negative  Месяц назад взял автокредит. До этого ходили по разным салонам Форд, присматривая машину. Исходил из конкретной суммы автомобиля и конкретного первоначального взноса. Во всех автосалонах навязываю...\n",
       "7    Negative  Не говоря про махинации с бонусами, остановлюсь на процентах по среднемесячному остатку средств на карте. Пару месяцев, усыпляя бдительность, начисляли правильно, согласно договору, по 6%. На трет...\n",
       "8    Negative  День добрый, моя мама С-на В.А.,1932г рождения, пенсионерка. Является клиентом Бинбанка. С октября 2015 года не может снять свою пенсию с карты, так как срок карты закончился и её необходимо перев...\n",
       "9    Negative  Всех приветствую.Я являюсь клиентом этого чудо-банка. Договор 04101473481, брал в кредит автомобиль с сентября 2015 года.При заключении договора кредитный эксперт сказал, что я могу без проблем за..."
      ]
     },
     "metadata": {},
     "output_type": "display_data"
    },
    {
     "name": "stdout",
     "output_type": "stream",
     "text": [
      "\u001b[31m______________sample___________________\u001b[0m\n"
     ]
    },
    {
     "data": {
      "text/html": [
       "<div>\n",
       "<style scoped>\n",
       "    .dataframe tbody tr th:only-of-type {\n",
       "        vertical-align: middle;\n",
       "    }\n",
       "\n",
       "    .dataframe tbody tr th {\n",
       "        vertical-align: top;\n",
       "    }\n",
       "\n",
       "    .dataframe thead th {\n",
       "        text-align: right;\n",
       "    }\n",
       "</style>\n",
       "<table border=\"1\" class=\"dataframe\">\n",
       "  <thead>\n",
       "    <tr style=\"text-align: right;\">\n",
       "      <th></th>\n",
       "      <th>Score</th>\n",
       "      <th>Text</th>\n",
       "    </tr>\n",
       "    <tr>\n",
       "      <th>idx</th>\n",
       "      <th></th>\n",
       "      <th></th>\n",
       "    </tr>\n",
       "  </thead>\n",
       "  <tbody>\n",
       "    <tr>\n",
       "      <th>6398</th>\n",
       "      <td>Positive</td>\n",
       "      <td>Добрый день!Обратилась в отделения банка СПБ ул. Салова, искренне благодарна сотруднику отделения банка Поддубской Л.М, была очень искренна, пыталась решить все вопросы, выражаю свое искреннее при...</td>\n",
       "    </tr>\n",
       "    <tr>\n",
       "      <th>4239</th>\n",
       "      <td>Negative</td>\n",
       "      <td>Уважаемая Елена Соломатина, после вашего служебного расследования и принятия административных мер, а именно 20.12.2009г. в период времени с 18 ч.30 мин. до 19 ч.00 мин (время Московское) с тел. (4...</td>\n",
       "    </tr>\n",
       "    <tr>\n",
       "      <th>4799</th>\n",
       "      <td>Negative</td>\n",
       "      <td>19 января у меня заканчивается срок действия вклада. Несмотря на то, что по условиям договора у вкладчика нет никакой обязанности заказать денежные средства заранее, сегодня, 16 января, я все-таки...</td>\n",
       "    </tr>\n",
       "    <tr>\n",
       "      <th>8712</th>\n",
       "      <td>Negative</td>\n",
       "      <td>Добрый день. Хочу оставить отзыв о данном банке.Ранее оставлял вопрос на горячей линии Альфа-банка со своей проблемой: http://www.banki.ru/services/questions-answers/?questionId=421321115 августа ...</td>\n",
       "    </tr>\n",
       "    <tr>\n",
       "      <th>4783</th>\n",
       "      <td>Negative</td>\n",
       "      <td>Началось все с того, что в одном магазине по продаже эл.техники, была акция При покупке через карту бинбанка, скидка 3000. Мне нужен был фотоаппарат, и я решил этим воспользоваться. Как потом окаж...</td>\n",
       "    </tr>\n",
       "    <tr>\n",
       "      <th>3513</th>\n",
       "      <td>Positive</td>\n",
       "      <td>Обратился в отделение Крылатское МКБ за потребительским кредитом по совету коллеги. С моем более чем 15-летним опытом общения с коммерческими банками был приятно удивлен подходу, с которым рассмат...</td>\n",
       "    </tr>\n",
       "    <tr>\n",
       "      <th>1882</th>\n",
       "      <td>Positive</td>\n",
       "      <td>Считаю, что Банк Тинькофф - самый лояльный и клиентоориентированный! Воспользовалась продуктом кредитная карта 2 месяца назад и не пожалела: - во первых, не пришлось никуда идти и отстаивать очере...</td>\n",
       "    </tr>\n",
       "    <tr>\n",
       "      <th>4404</th>\n",
       "      <td>Positive</td>\n",
       "      <td>Пришел я в Абсолют банк по знакомству – хороший приятель, узнав, что я нуждаюсь в кредитной линии для бизнеса, сказал, что работает в Абсолюте (правда в другом подразделении). В общем, полчаса он ...</td>\n",
       "    </tr>\n",
       "    <tr>\n",
       "      <th>12527</th>\n",
       "      <td>Negative</td>\n",
       "      <td>В рамках Договора с клиентом № 04003421260 между мной и банком есть информация о подключенной услуге Смс-информатор, в рамках которой банк обязуется информировать клиента о поступлениях денежных с...</td>\n",
       "    </tr>\n",
       "    <tr>\n",
       "      <th>4141</th>\n",
       "      <td>Positive</td>\n",
       "      <td>Несколько раз брали кредиты в банке, проблем не было. Уже 4 года пользуемся кредитной картой. Вначале использования были небольшие проблемы по части выставления счета, он выставляется каждые 20 дн...</td>\n",
       "    </tr>\n",
       "  </tbody>\n",
       "</table>\n",
       "</div>"
      ],
      "text/plain": [
       "          Score                                                                                                                                                                                                     Text\n",
       "idx                                                                                                                                                                                                                     \n",
       "6398   Positive  Добрый день!Обратилась в отделения банка СПБ ул. Салова, искренне благодарна сотруднику отделения банка Поддубской Л.М, была очень искренна, пыталась решить все вопросы, выражаю свое искреннее при...\n",
       "4239   Negative  Уважаемая Елена Соломатина, после вашего служебного расследования и принятия административных мер, а именно 20.12.2009г. в период времени с 18 ч.30 мин. до 19 ч.00 мин (время Московское) с тел. (4...\n",
       "4799   Negative  19 января у меня заканчивается срок действия вклада. Несмотря на то, что по условиям договора у вкладчика нет никакой обязанности заказать денежные средства заранее, сегодня, 16 января, я все-таки...\n",
       "8712   Negative  Добрый день. Хочу оставить отзыв о данном банке.Ранее оставлял вопрос на горячей линии Альфа-банка со своей проблемой: http://www.banki.ru/services/questions-answers/?questionId=421321115 августа ...\n",
       "4783   Negative  Началось все с того, что в одном магазине по продаже эл.техники, была акция При покупке через карту бинбанка, скидка 3000. Мне нужен был фотоаппарат, и я решил этим воспользоваться. Как потом окаж...\n",
       "3513   Positive  Обратился в отделение Крылатское МКБ за потребительским кредитом по совету коллеги. С моем более чем 15-летним опытом общения с коммерческими банками был приятно удивлен подходу, с которым рассмат...\n",
       "1882   Positive  Считаю, что Банк Тинькофф - самый лояльный и клиентоориентированный! Воспользовалась продуктом кредитная карта 2 месяца назад и не пожалела: - во первых, не пришлось никуда идти и отстаивать очере...\n",
       "4404   Positive  Пришел я в Абсолют банк по знакомству – хороший приятель, узнав, что я нуждаюсь в кредитной линии для бизнеса, сказал, что работает в Абсолюте (правда в другом подразделении). В общем, полчаса он ...\n",
       "12527  Negative  В рамках Договора с клиентом № 04003421260 между мной и банком есть информация о подключенной услуге Смс-информатор, в рамках которой банк обязуется информировать клиента о поступлениях денежных с...\n",
       "4141   Positive  Несколько раз брали кредиты в банке, проблем не было. Уже 4 года пользуемся кредитной картой. Вначале использования были небольшие проблемы по части выставления счета, он выставляется каждые 20 дн..."
      ]
     },
     "metadata": {},
     "output_type": "display_data"
    },
    {
     "name": "stdout",
     "output_type": "stream",
     "text": [
      "\u001b[31m______________tail_____________________\u001b[0m\n"
     ]
    },
    {
     "data": {
      "text/html": [
       "<div>\n",
       "<style scoped>\n",
       "    .dataframe tbody tr th:only-of-type {\n",
       "        vertical-align: middle;\n",
       "    }\n",
       "\n",
       "    .dataframe tbody tr th {\n",
       "        vertical-align: top;\n",
       "    }\n",
       "\n",
       "    .dataframe thead th {\n",
       "        text-align: right;\n",
       "    }\n",
       "</style>\n",
       "<table border=\"1\" class=\"dataframe\">\n",
       "  <thead>\n",
       "    <tr style=\"text-align: right;\">\n",
       "      <th></th>\n",
       "      <th>Score</th>\n",
       "      <th>Text</th>\n",
       "    </tr>\n",
       "    <tr>\n",
       "      <th>idx</th>\n",
       "      <th></th>\n",
       "      <th></th>\n",
       "    </tr>\n",
       "  </thead>\n",
       "  <tbody>\n",
       "    <tr>\n",
       "      <th>13989</th>\n",
       "      <td>Negative</td>\n",
       "      <td>В марте этого года мною через сайт Банка была оформлена заявка на кредитную карту (КК). Выпуск карты был одобрен. Через некоторое время пришла смс, что я могу получить КК в выбранном отделении бан...</td>\n",
       "    </tr>\n",
       "    <tr>\n",
       "      <th>13990</th>\n",
       "      <td>Positive</td>\n",
       "      <td>Брала в ноябре ипотеку в Абсолют Банке. Хочу выразить благодарность моему кредитному менеджеру из отдела новостроек Новиковой Наталье и менеджеру, сопровождавшую сделку в Люберцах, Виктории Муллер...</td>\n",
       "    </tr>\n",
       "    <tr>\n",
       "      <th>13991</th>\n",
       "      <td>Negative</td>\n",
       "      <td>А все остальное так и осталось. Началось все конечно смешно, сотрудник, принимавший от меня заявку на кредит, стал по сути соучастником единственного отзыва месяца, которой БинБанк и МДМ Банк имею...</td>\n",
       "    </tr>\n",
       "    <tr>\n",
       "      <th>13992</th>\n",
       "      <td>Negative</td>\n",
       "      <td>Приветствую Всех!Рассказываю о сложившейся ситуации с LiqPay.Ровно 21 день назад совершил покупку и отправил платеж получателю через liqpay. Обычно деньги поступали в течение 24 часов. Спустя неск...</td>\n",
       "    </tr>\n",
       "    <tr>\n",
       "      <th>13993</th>\n",
       "      <td>Positive</td>\n",
       "      <td>Здравствуйте! Мое знакомство с Хоум Кредит Банком только начинается. И уже на  начальном этапе складывается очень хорошее впечатление об этом банке. Я очень часто пользуюсь кредитами, но в основно...</td>\n",
       "    </tr>\n",
       "    <tr>\n",
       "      <th>13994</th>\n",
       "      <td>Positive</td>\n",
       "      <td>О высокой надёжности МКБ, порядочности и добросовестности его сотрудников. Кратко: 19.6.12 г., открывая счёт, я, по рассеянности внёс в кассу сумму на 25000 р. больше величины счёта. Переплату обн...</td>\n",
       "    </tr>\n",
       "    <tr>\n",
       "      <th>13995</th>\n",
       "      <td>Positive</td>\n",
       "      <td>Обслуживаюсь в офисе на Чернореченской 42а, как физ. лицо уже год. В офисе на самом деле никогда нет очереди, всегда есть свободный сотрудник, который готов помочь в любом вопросе. При дистанционн...</td>\n",
       "    </tr>\n",
       "    <tr>\n",
       "      <th>13996</th>\n",
       "      <td>Positive</td>\n",
       "      <td>Попала сегодня в очень неприятную ситуацию. Решила погасить долг по карте. Пришла в банкомат (пр. Дзержинского, 1/4/). Банкомат деньги принял, выдал чек о зачислении, вернул карту, а напоследок пр...</td>\n",
       "    </tr>\n",
       "    <tr>\n",
       "      <th>13997</th>\n",
       "      <td>Positive</td>\n",
       "      <td>Добрый день! Давно являюсь клиентом банка Русский Стандарт имею зарплатную карту. 7 октября обратилась в отделение на свободном проспекте возле станции метро Новогиреево с проблемой, не могла полу...</td>\n",
       "    </tr>\n",
       "    <tr>\n",
       "      <th>13998</th>\n",
       "      <td>Negative</td>\n",
       "      <td>Сначала было все банально. Взял в кредит mp3 плеер на 6 мес. Всегда платил заранее до наступления срока платежа и, причем несколько больше, чем было предписано в договоре.Последний платеж должен б...</td>\n",
       "    </tr>\n",
       "  </tbody>\n",
       "</table>\n",
       "</div>"
      ],
      "text/plain": [
       "          Score                                                                                                                                                                                                     Text\n",
       "idx                                                                                                                                                                                                                     \n",
       "13989  Negative  В марте этого года мною через сайт Банка была оформлена заявка на кредитную карту (КК). Выпуск карты был одобрен. Через некоторое время пришла смс, что я могу получить КК в выбранном отделении бан...\n",
       "13990  Positive  Брала в ноябре ипотеку в Абсолют Банке. Хочу выразить благодарность моему кредитному менеджеру из отдела новостроек Новиковой Наталье и менеджеру, сопровождавшую сделку в Люберцах, Виктории Муллер...\n",
       "13991  Negative  А все остальное так и осталось. Началось все конечно смешно, сотрудник, принимавший от меня заявку на кредит, стал по сути соучастником единственного отзыва месяца, которой БинБанк и МДМ Банк имею...\n",
       "13992  Negative  Приветствую Всех!Рассказываю о сложившейся ситуации с LiqPay.Ровно 21 день назад совершил покупку и отправил платеж получателю через liqpay. Обычно деньги поступали в течение 24 часов. Спустя неск...\n",
       "13993  Positive  Здравствуйте! Мое знакомство с Хоум Кредит Банком только начинается. И уже на  начальном этапе складывается очень хорошее впечатление об этом банке. Я очень часто пользуюсь кредитами, но в основно...\n",
       "13994  Positive  О высокой надёжности МКБ, порядочности и добросовестности его сотрудников. Кратко: 19.6.12 г., открывая счёт, я, по рассеянности внёс в кассу сумму на 25000 р. больше величины счёта. Переплату обн...\n",
       "13995  Positive  Обслуживаюсь в офисе на Чернореченской 42а, как физ. лицо уже год. В офисе на самом деле никогда нет очереди, всегда есть свободный сотрудник, который готов помочь в любом вопросе. При дистанционн...\n",
       "13996  Positive  Попала сегодня в очень неприятную ситуацию. Решила погасить долг по карте. Пришла в банкомат (пр. Дзержинского, 1/4/). Банкомат деньги принял, выдал чек о зачислении, вернул карту, а напоследок пр...\n",
       "13997  Positive  Добрый день! Давно являюсь клиентом банка Русский Стандарт имею зарплатную карту. 7 октября обратилась в отделение на свободном проспекте возле станции метро Новогиреево с проблемой, не могла полу...\n",
       "13998  Negative  Сначала было все банально. Взял в кредит mp3 плеер на 6 мес. Всегда платил заранее до наступления срока платежа и, причем несколько больше, чем было предписано в договоре.Последний платеж должен б..."
      ]
     },
     "metadata": {},
     "output_type": "display_data"
    },
    {
     "name": "stdout",
     "output_type": "stream",
     "text": [
      "\u001b[31m_____________isna______________________\u001b[0m\n"
     ]
    },
    {
     "data": {
      "text/html": [
       "<div>\n",
       "<style scoped>\n",
       "    .dataframe tbody tr th:only-of-type {\n",
       "        vertical-align: middle;\n",
       "    }\n",
       "\n",
       "    .dataframe tbody tr th {\n",
       "        vertical-align: top;\n",
       "    }\n",
       "\n",
       "    .dataframe thead th {\n",
       "        text-align: right;\n",
       "    }\n",
       "</style>\n",
       "<table border=\"1\" class=\"dataframe\">\n",
       "  <thead>\n",
       "    <tr style=\"text-align: right;\">\n",
       "      <th></th>\n",
       "      <th>index</th>\n",
       "      <th>0</th>\n",
       "    </tr>\n",
       "  </thead>\n",
       "  <tbody>\n",
       "    <tr>\n",
       "      <th>0</th>\n",
       "      <td>Score</td>\n",
       "      <td>0</td>\n",
       "    </tr>\n",
       "    <tr>\n",
       "      <th>1</th>\n",
       "      <td>Text</td>\n",
       "      <td>0</td>\n",
       "    </tr>\n",
       "  </tbody>\n",
       "</table>\n",
       "</div>"
      ],
      "text/plain": [
       "   index  0\n",
       "0  Score  0\n",
       "1   Text  0"
      ]
     },
     "metadata": {},
     "output_type": "display_data"
    },
    {
     "name": "stdout",
     "output_type": "stream",
     "text": [
      "\u001b[31m_____________duplicated________________\u001b[0m\n"
     ]
    },
    {
     "data": {
      "text/plain": [
       "1"
      ]
     },
     "metadata": {},
     "output_type": "display_data"
    },
    {
     "name": "stdout",
     "output_type": "stream",
     "text": [
      "\u001b[31m__количество пропущенных значений по каждому из столбцов__\u001b[0m\n"
     ]
    },
    {
     "data": {
      "text/html": [
       "<div>\n",
       "<style scoped>\n",
       "    .dataframe tbody tr th:only-of-type {\n",
       "        vertical-align: middle;\n",
       "    }\n",
       "\n",
       "    .dataframe tbody tr th {\n",
       "        vertical-align: top;\n",
       "    }\n",
       "\n",
       "    .dataframe thead th {\n",
       "        text-align: right;\n",
       "    }\n",
       "</style>\n",
       "<table border=\"1\" class=\"dataframe\">\n",
       "  <thead>\n",
       "    <tr style=\"text-align: right;\">\n",
       "      <th></th>\n",
       "      <th>index</th>\n",
       "      <th>0</th>\n",
       "    </tr>\n",
       "  </thead>\n",
       "  <tbody>\n",
       "    <tr>\n",
       "      <th>0</th>\n",
       "      <td>Score</td>\n",
       "      <td>0.0</td>\n",
       "    </tr>\n",
       "    <tr>\n",
       "      <th>1</th>\n",
       "      <td>Text</td>\n",
       "      <td>0.0</td>\n",
       "    </tr>\n",
       "  </tbody>\n",
       "</table>\n",
       "</div>"
      ],
      "text/plain": [
       "   index    0\n",
       "0  Score  0.0\n",
       "1   Text  0.0"
      ]
     },
     "metadata": {},
     "output_type": "display_data"
    }
   ],
   "source": [
    "list_df = (data,)\n",
    "for list_df in list_df:\n",
    "    print('\\033[31m' + '______________info_____________________' + '\\033[0m')\n",
    "    display(list_df.info())\n",
    "    print('\\033[31m' + '______________describe_________________' + '\\033[0m')\n",
    "    display(list_df.describe().T)\n",
    "    print('\\033[31m' + '______________head_____________________' + '\\033[0m')\n",
    "    display(list_df.head(10))\n",
    "    print('\\033[31m' + '______________sample___________________' + '\\033[0m')\n",
    "    display(list_df.sample(10))\n",
    "    print('\\033[31m' + '______________tail_____________________' + '\\033[0m')\n",
    "    display(list_df.tail(10))\n",
    "    print('\\033[31m' + '_____________isna______________________' + '\\033[0m')\n",
    "    display(list_df.isna().sum().reset_index())\n",
    "    print('\\033[31m' + '_____________duplicated________________' + '\\033[0m')\n",
    "    display(list_df.duplicated().sum())\n",
    "    print('\\033[31m' + '__количество пропущенных значений по каждому из столбцов__' + '\\033[0m')\n",
    "    display(list_df.isnull().mean().reset_index())\n"
   ]
  },
  {
   "cell_type": "code",
   "execution_count": 6,
   "metadata": {},
   "outputs": [
    {
     "data": {
      "text/plain": [
       "Index(['Score', 'Text'], dtype='object')"
      ]
     },
     "execution_count": 6,
     "metadata": {},
     "output_type": "execute_result"
    }
   ],
   "source": [
    "data.columns"
   ]
  },
  {
   "attachments": {},
   "cell_type": "markdown",
   "metadata": {},
   "source": [
    "Переведем `Text` в нижний регистр"
   ]
  },
  {
   "cell_type": "code",
   "execution_count": 7,
   "metadata": {},
   "outputs": [],
   "source": [
    "data['Text'] = data['Text'].str.lower()"
   ]
  },
  {
   "cell_type": "code",
   "execution_count": 8,
   "metadata": {},
   "outputs": [],
   "source": [
    "data['Text']=data['Text'].apply(str)"
   ]
  },
  {
   "attachments": {},
   "cell_type": "markdown",
   "metadata": {},
   "source": [
    "Определим количество негативных и позитивных оценок"
   ]
  },
  {
   "cell_type": "code",
   "execution_count": 9,
   "metadata": {},
   "outputs": [
    {
     "data": {
      "text/html": [
       "<div>\n",
       "<style scoped>\n",
       "    .dataframe tbody tr th:only-of-type {\n",
       "        vertical-align: middle;\n",
       "    }\n",
       "\n",
       "    .dataframe tbody tr th {\n",
       "        vertical-align: top;\n",
       "    }\n",
       "\n",
       "    .dataframe thead th {\n",
       "        text-align: right;\n",
       "    }\n",
       "</style>\n",
       "<table border=\"1\" class=\"dataframe\">\n",
       "  <thead>\n",
       "    <tr style=\"text-align: right;\">\n",
       "      <th></th>\n",
       "      <th>Оценка</th>\n",
       "      <th>Количество</th>\n",
       "    </tr>\n",
       "  </thead>\n",
       "  <tbody>\n",
       "    <tr>\n",
       "      <th>0</th>\n",
       "      <td>Positive</td>\n",
       "      <td>7000</td>\n",
       "    </tr>\n",
       "    <tr>\n",
       "      <th>1</th>\n",
       "      <td>Negative</td>\n",
       "      <td>6999</td>\n",
       "    </tr>\n",
       "  </tbody>\n",
       "</table>\n",
       "</div>"
      ],
      "text/plain": [
       "     Оценка  Количество\n",
       "0  Positive        7000\n",
       "1  Negative        6999"
      ]
     },
     "execution_count": 9,
     "metadata": {},
     "output_type": "execute_result"
    }
   ],
   "source": [
    "count_score= data.groupby(['Score']).agg({'Text':'count'})\\\n",
    "                                    .sort_values(ascending=False, by='Score').reset_index()\n",
    "count_score.columns = ['Оценка', 'Количество']\n",
    "count_score\n",
    "\n"
   ]
  },
  {
   "attachments": {},
   "cell_type": "markdown",
   "metadata": {},
   "source": [
    "Выберем текст для токенизации"
   ]
  },
  {
   "cell_type": "code",
   "execution_count": 10,
   "metadata": {},
   "outputs": [],
   "source": [
    "text = data.iloc[0]['Text']"
   ]
  },
  {
   "cell_type": "code",
   "execution_count": 11,
   "metadata": {},
   "outputs": [
    {
     "data": {
      "text/plain": [
       "'в альфа-банке работает замечательная девушка - ильясова орна, вежливая, отзывчивая, действительно участвует в запросе клиента, я приходила к ней подряд ровно три дня, каждый день она помнила время моего прихода, помогла оформить кредит в размере 1млн рублей, когда я пришла с партнером (передавать ей полученный кредит за покупаемый мною авто), специалист ильясова орна помогла нам вывести всю сумму в один день (а это было непросто), так что сделка состоялась и все остались довольны! моя знакомая в конце всего добавила: теперь я \\xa0поняла, почему мы пришли в это отделение, к этой девушке..побольше бы таких замечательных специалистов! приобретать программу здоровье, и вообще все, что связано с альфа-банком, теперь буду только у нее!'"
      ]
     },
     "execution_count": 11,
     "metadata": {},
     "output_type": "execute_result"
    }
   ],
   "source": [
    "text"
   ]
  },
  {
   "cell_type": "code",
   "execution_count": 12,
   "metadata": {},
   "outputs": [],
   "source": [
    "#tokens = text.astype(str).apply(word_tokenize)"
   ]
  },
  {
   "cell_type": "code",
   "execution_count": 13,
   "metadata": {},
   "outputs": [],
   "source": [
    "tokens = word_tokenize(text)\n"
   ]
  },
  {
   "cell_type": "code",
   "execution_count": 14,
   "metadata": {},
   "outputs": [
    {
     "data": {
      "text/plain": [
       "['в',\n",
       " 'альфа-банке',\n",
       " 'работает',\n",
       " 'замечательная',\n",
       " 'девушка',\n",
       " '-',\n",
       " 'ильясова',\n",
       " 'орна',\n",
       " ',',\n",
       " 'вежливая']"
      ]
     },
     "execution_count": 14,
     "metadata": {},
     "output_type": "execute_result"
    }
   ],
   "source": [
    "tokens[:10]"
   ]
  },
  {
   "attachments": {},
   "cell_type": "markdown",
   "metadata": {},
   "source": [
    "Удалим знаки препинания"
   ]
  },
  {
   "cell_type": "code",
   "execution_count": 15,
   "metadata": {},
   "outputs": [],
   "source": [
    "#punctuation_marks = ['!', ',', '(', ')', ':', '-', '?', '.', '..', '...']\n",
    "punctuation_marks = ['!', ',', '(', ')', ':', '-', '?', '.', '..', '...', '«', '»', ';', '-', '--']\n"
   ]
  },
  {
   "cell_type": "code",
   "execution_count": 16,
   "metadata": {},
   "outputs": [],
   "source": [
    "only_words = []\n",
    "for token in tokens:\n",
    "    if token not in punctuation_marks:\n",
    "        only_words.append(token)"
   ]
  },
  {
   "cell_type": "code",
   "execution_count": 17,
   "metadata": {},
   "outputs": [
    {
     "data": {
      "text/plain": [
       "['в',\n",
       " 'альфа-банке',\n",
       " 'работает',\n",
       " 'замечательная',\n",
       " 'девушка',\n",
       " 'ильясова',\n",
       " 'орна',\n",
       " 'вежливая',\n",
       " 'отзывчивая',\n",
       " 'действительно']"
      ]
     },
     "execution_count": 17,
     "metadata": {},
     "output_type": "execute_result"
    }
   ],
   "source": [
    "only_words[:10]"
   ]
  },
  {
   "attachments": {},
   "cell_type": "markdown",
   "metadata": {},
   "source": [
    "Приводим слова к нормальной форме"
   ]
  },
  {
   "cell_type": "code",
   "execution_count": 18,
   "metadata": {},
   "outputs": [],
   "source": [
    "morph = pymorphy2.MorphAnalyzer()"
   ]
  },
  {
   "cell_type": "code",
   "execution_count": 19,
   "metadata": {},
   "outputs": [],
   "source": [
    "lemmas = []\n",
    "for token in only_words:\n",
    "    lemmas.append(morph.parse(token)[0].normal_form)"
   ]
  },
  {
   "cell_type": "code",
   "execution_count": 20,
   "metadata": {},
   "outputs": [
    {
     "data": {
      "text/plain": [
       "['в',\n",
       " 'альфа-банк',\n",
       " 'работать',\n",
       " 'замечательный',\n",
       " 'девушка',\n",
       " 'ильясова',\n",
       " 'орный',\n",
       " 'вежливый',\n",
       " 'отзывчивый',\n",
       " 'действительно']"
      ]
     },
     "execution_count": 20,
     "metadata": {},
     "output_type": "execute_result"
    }
   ],
   "source": [
    "lemmas[:10]"
   ]
  },
  {
   "attachments": {},
   "cell_type": "markdown",
   "metadata": {},
   "source": [
    "удалим стоп-слова"
   ]
  },
  {
   "cell_type": "code",
   "execution_count": 21,
   "metadata": {},
   "outputs": [
    {
     "name": "stderr",
     "output_type": "stream",
     "text": [
      "[nltk_data] Downloading package stopwords to /Users/sna/nltk_data...\n",
      "[nltk_data]   Package stopwords is already up-to-date!\n"
     ]
    },
    {
     "data": {
      "text/plain": [
       "True"
      ]
     },
     "execution_count": 21,
     "metadata": {},
     "output_type": "execute_result"
    }
   ],
   "source": [
    "nltk.download('stopwords')"
   ]
  },
  {
   "cell_type": "code",
   "execution_count": 22,
   "metadata": {},
   "outputs": [],
   "source": [
    "stop_words = stopwords.words('russian')"
   ]
  },
  {
   "cell_type": "code",
   "execution_count": 23,
   "metadata": {},
   "outputs": [
    {
     "data": {
      "text/plain": [
       "['и', 'в', 'во', 'не', 'что', 'он', 'на', 'я', 'с', 'со']"
      ]
     },
     "execution_count": 23,
     "metadata": {},
     "output_type": "execute_result"
    }
   ],
   "source": [
    "stop_words[:10]"
   ]
  },
  {
   "attachments": {},
   "cell_type": "markdown",
   "metadata": {},
   "source": [
    "Функция предварительной обработки"
   ]
  },
  {
   "cell_type": "code",
   "execution_count": 24,
   "metadata": {},
   "outputs": [],
   "source": [
    "def preprocess(text, stop_words, punctuation_marks, morph):\n",
    "    tokens = word_tokenize(text.lower())\n",
    "    preprocessed_text = []\n",
    "    for token in tokens:\n",
    "        if token not in punctuation_marks:\n",
    "            lemma = morph.parse(token)[0].normal_form\n",
    "            if lemma not in stop_words:\n",
    "                preprocessed_text.append(lemma)\n",
    "    return preprocessed_text"
   ]
  },
  {
   "cell_type": "code",
   "execution_count": 25,
   "metadata": {},
   "outputs": [],
   "source": [
    "#punctuation_marks = ['!', ',', '(', ')', ':', '-', '?', '.', '..', '...']\n",
    "punctuation_marks = ['!', ',', '(', ')', ':', '-', '?', '.', '..', '...', '«', '»', ';', '-', '--']\n",
    "stop_words = stopwords.words(\"russian\")\n",
    "morph = pymorphy2.MorphAnalyzer()"
   ]
  },
  {
   "cell_type": "code",
   "execution_count": 26,
   "metadata": {},
   "outputs": [],
   "source": [
    "#data[0:10].apply(lambda row: preprocess(row['Text'], punctuation_marks, stop_words, morph), axis=1)"
   ]
  },
  {
   "cell_type": "code",
   "execution_count": 27,
   "metadata": {},
   "outputs": [],
   "source": [
    "data['Preprocessed_texts'] = data.apply(lambda row: preprocess(row['Text'], punctuation_marks, stop_words, morph), axis=1)"
   ]
  },
  {
   "cell_type": "code",
   "execution_count": 28,
   "metadata": {},
   "outputs": [
    {
     "data": {
      "text/html": [
       "<div>\n",
       "<style scoped>\n",
       "    .dataframe tbody tr th:only-of-type {\n",
       "        vertical-align: middle;\n",
       "    }\n",
       "\n",
       "    .dataframe tbody tr th {\n",
       "        vertical-align: top;\n",
       "    }\n",
       "\n",
       "    .dataframe thead th {\n",
       "        text-align: right;\n",
       "    }\n",
       "</style>\n",
       "<table border=\"1\" class=\"dataframe\">\n",
       "  <thead>\n",
       "    <tr style=\"text-align: right;\">\n",
       "      <th></th>\n",
       "      <th>Score</th>\n",
       "      <th>Text</th>\n",
       "      <th>Preprocessed_texts</th>\n",
       "    </tr>\n",
       "    <tr>\n",
       "      <th>idx</th>\n",
       "      <th></th>\n",
       "      <th></th>\n",
       "      <th></th>\n",
       "    </tr>\n",
       "  </thead>\n",
       "  <tbody>\n",
       "    <tr>\n",
       "      <th>0</th>\n",
       "      <td>Positive</td>\n",
       "      <td>в альфа-банке работает замечательная девушка - ильясова орна, вежливая, отзывчивая, действительно участвует в запросе клиента, я приходила к ней подряд ровно три дня, каждый день она помнила время...</td>\n",
       "      <td>[альфа-банк, работать, замечательный, девушка, ильясова, орный, вежливый, отзывчивый, действительно, участвовать, запрос, клиент, приходить, подряд, ровно, день, каждый, день, помнить, время, мой,...</td>\n",
       "    </tr>\n",
       "    <tr>\n",
       "      <th>1</th>\n",
       "      <td>Negative</td>\n",
       "      <td>оформляя рассрочку в м. видео в меге тёплый стан. попросила менеджера, чтобы заявка была без страховки. в итоге, когда подписывала договор, в договоре оказались лишние почти 6 тысяч, когда менедже...</td>\n",
       "      <td>[оформлять, рассрочка, м., видео, мег, тёплый, стан, попросить, менеджер, заявка, страховка, итог, подписывать, договор, договор, оказаться, лишний, 6, тысяча, менеджер, стать, спрашивать, это, 6,...</td>\n",
       "    </tr>\n",
       "    <tr>\n",
       "      <th>2</th>\n",
       "      <td>Positive</td>\n",
       "      <td>очень порадовала оперативность работы в банке. заказал через интернет карту visa classic, потребовалось подойти в банк для подписания заявления. в тот же день мне открыли текущий счет с доступом ч...</td>\n",
       "      <td>[очень, порадовать, оперативность, работа, банк, заказать, интернет, карта, visa, classic, потребоваться, подойти, банк, подписание, заявление, день, открыть, текущий, счёт, доступ, интернет, услу...</td>\n",
       "    </tr>\n",
       "    <tr>\n",
       "      <th>3</th>\n",
       "      <td>Negative</td>\n",
       "      <td>имела неосторожность оформить потреб. кредит в альфа-банке - очень жалею. во-первых, карту при оформлении кредита мне не выдали (объяснили тем, что их сейчас нет в наличии). во-вторых, никакую инф...</td>\n",
       "      <td>[иметь, неосторожность, оформить, потреба, кредит, альфа-банк, очень, жалеть, во-первых, карта, оформление, кредит, выдать, объяснить, наличие, во-вторых, никакой, информация, телефон, предоставля...</td>\n",
       "    </tr>\n",
       "    <tr>\n",
       "      <th>4</th>\n",
       "      <td>Negative</td>\n",
       "      <td>небольшая предыстория: нашел на сайте mdm банка интересную ко-бренд карту «техносила – mdm банк», подал заявку на нее, и скоро позвонили с горячей линии. предложили кредитную карту, на что я в при...</td>\n",
       "      <td>[небольшой, предыстория, найти, сайт, mdm, банк, интересный, ко-бренд, карта, техносить, –, mdm, банк, подать, заявка, скоро, позвонить, горячий, линия, предложить, кредитный, карта, принцип, отве...</td>\n",
       "    </tr>\n",
       "  </tbody>\n",
       "</table>\n",
       "</div>"
      ],
      "text/plain": [
       "        Score                                                                                                                                                                                                     Text                                                                                                                                                                                       Preprocessed_texts\n",
       "idx                                                                                                                                                                                                                                                                                                                                                                                                                            \n",
       "0    Positive  в альфа-банке работает замечательная девушка - ильясова орна, вежливая, отзывчивая, действительно участвует в запросе клиента, я приходила к ней подряд ровно три дня, каждый день она помнила время...  [альфа-банк, работать, замечательный, девушка, ильясова, орный, вежливый, отзывчивый, действительно, участвовать, запрос, клиент, приходить, подряд, ровно, день, каждый, день, помнить, время, мой,...\n",
       "1    Negative  оформляя рассрочку в м. видео в меге тёплый стан. попросила менеджера, чтобы заявка была без страховки. в итоге, когда подписывала договор, в договоре оказались лишние почти 6 тысяч, когда менедже...  [оформлять, рассрочка, м., видео, мег, тёплый, стан, попросить, менеджер, заявка, страховка, итог, подписывать, договор, договор, оказаться, лишний, 6, тысяча, менеджер, стать, спрашивать, это, 6,...\n",
       "2    Positive  очень порадовала оперативность работы в банке. заказал через интернет карту visa classic, потребовалось подойти в банк для подписания заявления. в тот же день мне открыли текущий счет с доступом ч...  [очень, порадовать, оперативность, работа, банк, заказать, интернет, карта, visa, classic, потребоваться, подойти, банк, подписание, заявление, день, открыть, текущий, счёт, доступ, интернет, услу...\n",
       "3    Negative  имела неосторожность оформить потреб. кредит в альфа-банке - очень жалею. во-первых, карту при оформлении кредита мне не выдали (объяснили тем, что их сейчас нет в наличии). во-вторых, никакую инф...  [иметь, неосторожность, оформить, потреба, кредит, альфа-банк, очень, жалеть, во-первых, карта, оформление, кредит, выдать, объяснить, наличие, во-вторых, никакой, информация, телефон, предоставля...\n",
       "4    Negative  небольшая предыстория: нашел на сайте mdm банка интересную ко-бренд карту «техносила – mdm банк», подал заявку на нее, и скоро позвонили с горячей линии. предложили кредитную карту, на что я в при...  [небольшой, предыстория, найти, сайт, mdm, банк, интересный, ко-бренд, карта, техносить, –, mdm, банк, подать, заявка, скоро, позвонить, горячий, линия, предложить, кредитный, карта, принцип, отве..."
      ]
     },
     "execution_count": 28,
     "metadata": {},
     "output_type": "execute_result"
    }
   ],
   "source": [
    "data.head()"
   ]
  },
  {
   "cell_type": "code",
   "execution_count": 29,
   "metadata": {},
   "outputs": [
    {
     "data": {
      "text/plain": [
       "Index(['Score', 'Text', 'Preprocessed_texts'], dtype='object')"
      ]
     },
     "execution_count": 29,
     "metadata": {},
     "output_type": "execute_result"
    }
   ],
   "source": [
    "data.columns"
   ]
  },
  {
   "cell_type": "code",
   "execution_count": 30,
   "metadata": {},
   "outputs": [],
   "source": [
    "#1\n",
    "#prep_text = data['Preprocessed_texts']\n",
    "#prep_text.to_frame()"
   ]
  },
  {
   "attachments": {},
   "cell_type": "markdown",
   "metadata": {},
   "source": []
  },
  {
   "cell_type": "code",
   "execution_count": 31,
   "metadata": {},
   "outputs": [],
   "source": [
    "#1\n",
    "#clean_df = data[data['Preprocessed_texts'].str.len() >= 100]"
   ]
  },
  {
   "cell_type": "code",
   "execution_count": 32,
   "metadata": {},
   "outputs": [],
   "source": [
    "#1\n",
    "#clean_df.Preprocessed_texts.to_frame()"
   ]
  },
  {
   "attachments": {},
   "cell_type": "markdown",
   "metadata": {},
   "source": [
    "Определим тональность текста с помощью мешка слов"
   ]
  },
  {
   "attachments": {},
   "cell_type": "markdown",
   "metadata": {},
   "source": [
    "Считаем частоту слов во всех отзывых"
   ]
  },
  {
   "cell_type": "code",
   "execution_count": 33,
   "metadata": {},
   "outputs": [],
   "source": [
    "words = Counter()"
   ]
  },
  {
   "cell_type": "code",
   "execution_count": 34,
   "metadata": {},
   "outputs": [],
   "source": [
    "for txt in data['Preprocessed_texts']:\n",
    "    words.update(txt)\n"
   ]
  },
  {
   "attachments": {},
   "cell_type": "markdown",
   "metadata": {},
   "source": [
    "Создаем словарь, упорядоченный по частоте\n",
    "\n",
    "В словаре будем использовать 2 специальных кода:\n",
    "\n",
    " - Код заполнитель: 0\n",
    " - Неизвестное слово: 1\n",
    "\n",
    "Нумерация слов в словаре начинается с 2."
   ]
  },
  {
   "cell_type": "code",
   "execution_count": 35,
   "metadata": {},
   "outputs": [],
   "source": [
    "# Словарь, отображающий слова в коды\n",
    "word_to_index = dict()\n",
    "# Словарь, отображающий коды в слова\n",
    "index_to_word = dict()"
   ]
  },
  {
   "attachments": {},
   "cell_type": "markdown",
   "metadata": {},
   "source": [
    "Создаем словари"
   ]
  },
  {
   "cell_type": "code",
   "execution_count": 36,
   "metadata": {},
   "outputs": [],
   "source": [
    "for i, word in enumerate(words.most_common(max_words - 2)):\n",
    "    word_to_index[word[0]] = i + 2\n",
    "    index_to_word[i + 2] = word[0]"
   ]
  },
  {
   "attachments": {},
   "cell_type": "markdown",
   "metadata": {},
   "source": [
    "Функция для преобразования списка слов в список кодов"
   ]
  },
  {
   "cell_type": "code",
   "execution_count": 37,
   "metadata": {},
   "outputs": [],
   "source": [
    "def text_to_sequence(txt, word_to_index):\n",
    "    seq = []\n",
    "    for word in txt:\n",
    "        index = word_to_index.get(word, 1) # 1 означает неизвестное слово\n",
    "        # Неизвестные слова не добавляем в выходную последовательность\n",
    "        if index != 1:\n",
    "            seq.append(index)\n",
    "    return seq"
   ]
  },
  {
   "attachments": {},
   "cell_type": "markdown",
   "metadata": {},
   "source": [
    "Преобразуем все тексты в последовательность кодов слов"
   ]
  },
  {
   "cell_type": "code",
   "execution_count": 38,
   "metadata": {},
   "outputs": [],
   "source": [
    "data['Sequences'] = data.apply(lambda row: text_to_sequence(row['Preprocessed_texts'], word_to_index), axis=1)"
   ]
  },
  {
   "cell_type": "code",
   "execution_count": 39,
   "metadata": {},
   "outputs": [
    {
     "data": {
      "text/html": [
       "<div>\n",
       "<style scoped>\n",
       "    .dataframe tbody tr th:only-of-type {\n",
       "        vertical-align: middle;\n",
       "    }\n",
       "\n",
       "    .dataframe tbody tr th {\n",
       "        vertical-align: top;\n",
       "    }\n",
       "\n",
       "    .dataframe thead th {\n",
       "        text-align: right;\n",
       "    }\n",
       "</style>\n",
       "<table border=\"1\" class=\"dataframe\">\n",
       "  <thead>\n",
       "    <tr style=\"text-align: right;\">\n",
       "      <th></th>\n",
       "      <th>Score</th>\n",
       "      <th>Text</th>\n",
       "      <th>Preprocessed_texts</th>\n",
       "      <th>Sequences</th>\n",
       "    </tr>\n",
       "    <tr>\n",
       "      <th>idx</th>\n",
       "      <th></th>\n",
       "      <th></th>\n",
       "      <th></th>\n",
       "      <th></th>\n",
       "    </tr>\n",
       "  </thead>\n",
       "  <tbody>\n",
       "    <tr>\n",
       "      <th>0</th>\n",
       "      <td>Positive</td>\n",
       "      <td>в альфа-банке работает замечательная девушка - ильясова орна, вежливая, отзывчивая, действительно участвует в запросе клиента, я приходила к ней подряд ровно три дня, каждый день она помнила время...</td>\n",
       "      <td>[альфа-банк, работать, замечательный, девушка, ильясова, орный, вежливый, отзывчивый, действительно, участвовать, запрос, клиент, приходить, подряд, ровно, день, каждый, день, помнить, время, мой,...</td>\n",
       "      <td>[62, 43, 917, 78, 205, 358, 410, 13, 155, 5, 147, 5, 576, 19, 6, 162, 72, 9, 299, 54, 46, 23, 9, 954, 90, 101, 162, 186, 20, 5, 4, 271, 219, 300, 491, 214, 259, 103, 362, 4, 12, 78, 242, 25, 917, ...</td>\n",
       "    </tr>\n",
       "    <tr>\n",
       "      <th>1</th>\n",
       "      <td>Negative</td>\n",
       "      <td>оформляя рассрочку в м. видео в меге тёплый стан. попросила менеджера, чтобы заявка была без страховки. в итоге, когда подписывала договор, в договоре оказались лишние почти 6 тысяч, когда менедже...</td>\n",
       "      <td>[оформлять, рассрочка, м., видео, мег, тёплый, стан, попросить, менеджер, заявка, страховка, итог, подписывать, договор, договор, оказаться, лишний, 6, тысяча, менеджер, стать, спрашивать, это, 6,...</td>\n",
       "      <td>[268, 856, 172, 84, 63, 156, 136, 785, 28, 28, 146, 668, 461, 406, 84, 94, 427, 4, 461, 406, 94, 59, 160, 107, 802, 34, 424, 9, 665, 461, 406, 280, 276, 28, 240, 156, 285, 276, 386, 156, 136, 278,...</td>\n",
       "    </tr>\n",
       "    <tr>\n",
       "      <th>2</th>\n",
       "      <td>Positive</td>\n",
       "      <td>очень порадовала оперативность работы в банке. заказал через интернет карту visa classic, потребовалось подойти в банк для подписания заявления. в тот же день мне открыли текущий счет с доступом ч...</td>\n",
       "      <td>[очень, порадовать, оперативность, работа, банк, заказать, интернет, карта, visa, classic, потребоваться, подойти, банк, подписание, заявление, день, открыть, текущий, счёт, доступ, интернет, услу...</td>\n",
       "      <td>[18, 911, 29, 2, 476, 184, 3, 629, 417, 2, 862, 27, 5, 119, 416, 11, 793, 184, 44, 895, 107, 104, 73, 23, 3, 144, 537, 290, 3, 386, 46, 694, 137, 56, 121, 18, 92, 12, 146, 18, 64, 53, 8, 366, 44, ...</td>\n",
       "    </tr>\n",
       "    <tr>\n",
       "      <th>3</th>\n",
       "      <td>Negative</td>\n",
       "      <td>имела неосторожность оформить потреб. кредит в альфа-банке - очень жалею. во-первых, карту при оформлении кредита мне не выдали (объяснили тем, что их сейчас нет в наличии). во-вторых, никакую инф...</td>\n",
       "      <td>[иметь, неосторожность, оформить, потреба, кредит, альфа-банк, очень, жалеть, во-первых, карта, оформление, кредит, выдать, объяснить, наличие, во-вторых, никакой, информация, телефон, предоставля...</td>\n",
       "      <td>[118, 72, 9, 62, 18, 3, 168, 9, 137, 157, 652, 81, 70, 32, 812, 3, 139, 831, 2, 15, 140, 106, 441, 12, 2, 55, 395, 9, 141, 2, 313, 425, 40, 13, 126, 281, 9, 428, 126, 4, 2, 118, 61, 369, 268, 9, 8...</td>\n",
       "    </tr>\n",
       "    <tr>\n",
       "      <th>4</th>\n",
       "      <td>Negative</td>\n",
       "      <td>небольшая предыстория: нашел на сайте mdm банка интересную ко-бренд карту «техносила – mdm банк», подал заявку на нее, и скоро позвонили с горячей линии. предложили кредитную карту, на что я в при...</td>\n",
       "      <td>[небольшой, предыстория, найти, сайт, mdm, банк, интересный, ко-бренд, карта, техносить, –, mdm, банк, подать, заявка, скоро, позвонить, горячий, линия, предложить, кредитный, карта, принцип, отве...</td>\n",
       "      <td>[419, 276, 87, 2, 649, 3, 123, 2, 297, 63, 33, 165, 133, 131, 21, 3, 771, 110, 152, 216, 97, 220, 21, 451, 130, 21, 283, 15, 74, 12, 2, 390, 216, 3, 253, 92, 390, 2, 562, 185, 482, 192, 384, 12, 1...</td>\n",
       "    </tr>\n",
       "  </tbody>\n",
       "</table>\n",
       "</div>"
      ],
      "text/plain": [
       "        Score                                                                                                                                                                                                     Text                                                                                                                                                                                       Preprocessed_texts                                                                                                                                                                                                Sequences\n",
       "idx                                                                                                                                                                                                                                                                                                                                                                                                                                                                                                                                                                                                                                     \n",
       "0    Positive  в альфа-банке работает замечательная девушка - ильясова орна, вежливая, отзывчивая, действительно участвует в запросе клиента, я приходила к ней подряд ровно три дня, каждый день она помнила время...  [альфа-банк, работать, замечательный, девушка, ильясова, орный, вежливый, отзывчивый, действительно, участвовать, запрос, клиент, приходить, подряд, ровно, день, каждый, день, помнить, время, мой,...  [62, 43, 917, 78, 205, 358, 410, 13, 155, 5, 147, 5, 576, 19, 6, 162, 72, 9, 299, 54, 46, 23, 9, 954, 90, 101, 162, 186, 20, 5, 4, 271, 219, 300, 491, 214, 259, 103, 362, 4, 12, 78, 242, 25, 917, ...\n",
       "1    Negative  оформляя рассрочку в м. видео в меге тёплый стан. попросила менеджера, чтобы заявка была без страховки. в итоге, когда подписывала договор, в договоре оказались лишние почти 6 тысяч, когда менедже...  [оформлять, рассрочка, м., видео, мег, тёплый, стан, попросить, менеджер, заявка, страховка, итог, подписывать, договор, договор, оказаться, лишний, 6, тысяча, менеджер, стать, спрашивать, это, 6,...  [268, 856, 172, 84, 63, 156, 136, 785, 28, 28, 146, 668, 461, 406, 84, 94, 427, 4, 461, 406, 94, 59, 160, 107, 802, 34, 424, 9, 665, 461, 406, 280, 276, 28, 240, 156, 285, 276, 386, 156, 136, 278,...\n",
       "2    Positive  очень порадовала оперативность работы в банке. заказал через интернет карту visa classic, потребовалось подойти в банк для подписания заявления. в тот же день мне открыли текущий счет с доступом ч...  [очень, порадовать, оперативность, работа, банк, заказать, интернет, карта, visa, classic, потребоваться, подойти, банк, подписание, заявление, день, открыть, текущий, счёт, доступ, интернет, услу...  [18, 911, 29, 2, 476, 184, 3, 629, 417, 2, 862, 27, 5, 119, 416, 11, 793, 184, 44, 895, 107, 104, 73, 23, 3, 144, 537, 290, 3, 386, 46, 694, 137, 56, 121, 18, 92, 12, 146, 18, 64, 53, 8, 366, 44, ...\n",
       "3    Negative  имела неосторожность оформить потреб. кредит в альфа-банке - очень жалею. во-первых, карту при оформлении кредита мне не выдали (объяснили тем, что их сейчас нет в наличии). во-вторых, никакую инф...  [иметь, неосторожность, оформить, потреба, кредит, альфа-банк, очень, жалеть, во-первых, карта, оформление, кредит, выдать, объяснить, наличие, во-вторых, никакой, информация, телефон, предоставля...  [118, 72, 9, 62, 18, 3, 168, 9, 137, 157, 652, 81, 70, 32, 812, 3, 139, 831, 2, 15, 140, 106, 441, 12, 2, 55, 395, 9, 141, 2, 313, 425, 40, 13, 126, 281, 9, 428, 126, 4, 2, 118, 61, 369, 268, 9, 8...\n",
       "4    Negative  небольшая предыстория: нашел на сайте mdm банка интересную ко-бренд карту «техносила – mdm банк», подал заявку на нее, и скоро позвонили с горячей линии. предложили кредитную карту, на что я в при...  [небольшой, предыстория, найти, сайт, mdm, банк, интересный, ко-бренд, карта, техносить, –, mdm, банк, подать, заявка, скоро, позвонить, горячий, линия, предложить, кредитный, карта, принцип, отве...  [419, 276, 87, 2, 649, 3, 123, 2, 297, 63, 33, 165, 133, 131, 21, 3, 771, 110, 152, 216, 97, 220, 21, 451, 130, 21, 283, 15, 74, 12, 2, 390, 216, 3, 253, 92, 390, 2, 562, 185, 482, 192, 384, 12, 1..."
      ]
     },
     "execution_count": 39,
     "metadata": {},
     "output_type": "execute_result"
    }
   ],
   "source": [
    "data.head()"
   ]
  },
  {
   "attachments": {},
   "cell_type": "markdown",
   "metadata": {},
   "source": [
    "Готовим данные для обучения"
   ]
  },
  {
   "attachments": {},
   "cell_type": "markdown",
   "metadata": {},
   "source": [
    "Преобразуем текстовые метрики классов в числовые"
   ]
  },
  {
   "cell_type": "code",
   "execution_count": 40,
   "metadata": {},
   "outputs": [],
   "source": [
    "mapping = {'Negative': 0, 'Positive': 1}"
   ]
  },
  {
   "cell_type": "code",
   "execution_count": 41,
   "metadata": {},
   "outputs": [],
   "source": [
    "data.replace({'Score': mapping}, inplace=True)"
   ]
  },
  {
   "cell_type": "code",
   "execution_count": 42,
   "metadata": {},
   "outputs": [
    {
     "data": {
      "text/html": [
       "<div>\n",
       "<style scoped>\n",
       "    .dataframe tbody tr th:only-of-type {\n",
       "        vertical-align: middle;\n",
       "    }\n",
       "\n",
       "    .dataframe tbody tr th {\n",
       "        vertical-align: top;\n",
       "    }\n",
       "\n",
       "    .dataframe thead th {\n",
       "        text-align: right;\n",
       "    }\n",
       "</style>\n",
       "<table border=\"1\" class=\"dataframe\">\n",
       "  <thead>\n",
       "    <tr style=\"text-align: right;\">\n",
       "      <th></th>\n",
       "      <th>Score</th>\n",
       "      <th>Text</th>\n",
       "      <th>Preprocessed_texts</th>\n",
       "      <th>Sequences</th>\n",
       "    </tr>\n",
       "    <tr>\n",
       "      <th>idx</th>\n",
       "      <th></th>\n",
       "      <th></th>\n",
       "      <th></th>\n",
       "      <th></th>\n",
       "    </tr>\n",
       "  </thead>\n",
       "  <tbody>\n",
       "    <tr>\n",
       "      <th>0</th>\n",
       "      <td>1</td>\n",
       "      <td>в альфа-банке работает замечательная девушка - ильясова орна, вежливая, отзывчивая, действительно участвует в запросе клиента, я приходила к ней подряд ровно три дня, каждый день она помнила время...</td>\n",
       "      <td>[альфа-банк, работать, замечательный, девушка, ильясова, орный, вежливый, отзывчивый, действительно, участвовать, запрос, клиент, приходить, подряд, ровно, день, каждый, день, помнить, время, мой,...</td>\n",
       "      <td>[62, 43, 917, 78, 205, 358, 410, 13, 155, 5, 147, 5, 576, 19, 6, 162, 72, 9, 299, 54, 46, 23, 9, 954, 90, 101, 162, 186, 20, 5, 4, 271, 219, 300, 491, 214, 259, 103, 362, 4, 12, 78, 242, 25, 917, ...</td>\n",
       "    </tr>\n",
       "    <tr>\n",
       "      <th>1</th>\n",
       "      <td>0</td>\n",
       "      <td>оформляя рассрочку в м. видео в меге тёплый стан. попросила менеджера, чтобы заявка была без страховки. в итоге, когда подписывала договор, в договоре оказались лишние почти 6 тысяч, когда менедже...</td>\n",
       "      <td>[оформлять, рассрочка, м., видео, мег, тёплый, стан, попросить, менеджер, заявка, страховка, итог, подписывать, договор, договор, оказаться, лишний, 6, тысяча, менеджер, стать, спрашивать, это, 6,...</td>\n",
       "      <td>[268, 856, 172, 84, 63, 156, 136, 785, 28, 28, 146, 668, 461, 406, 84, 94, 427, 4, 461, 406, 94, 59, 160, 107, 802, 34, 424, 9, 665, 461, 406, 280, 276, 28, 240, 156, 285, 276, 386, 156, 136, 278,...</td>\n",
       "    </tr>\n",
       "    <tr>\n",
       "      <th>2</th>\n",
       "      <td>1</td>\n",
       "      <td>очень порадовала оперативность работы в банке. заказал через интернет карту visa classic, потребовалось подойти в банк для подписания заявления. в тот же день мне открыли текущий счет с доступом ч...</td>\n",
       "      <td>[очень, порадовать, оперативность, работа, банк, заказать, интернет, карта, visa, classic, потребоваться, подойти, банк, подписание, заявление, день, открыть, текущий, счёт, доступ, интернет, услу...</td>\n",
       "      <td>[18, 911, 29, 2, 476, 184, 3, 629, 417, 2, 862, 27, 5, 119, 416, 11, 793, 184, 44, 895, 107, 104, 73, 23, 3, 144, 537, 290, 3, 386, 46, 694, 137, 56, 121, 18, 92, 12, 146, 18, 64, 53, 8, 366, 44, ...</td>\n",
       "    </tr>\n",
       "    <tr>\n",
       "      <th>3</th>\n",
       "      <td>0</td>\n",
       "      <td>имела неосторожность оформить потреб. кредит в альфа-банке - очень жалею. во-первых, карту при оформлении кредита мне не выдали (объяснили тем, что их сейчас нет в наличии). во-вторых, никакую инф...</td>\n",
       "      <td>[иметь, неосторожность, оформить, потреба, кредит, альфа-банк, очень, жалеть, во-первых, карта, оформление, кредит, выдать, объяснить, наличие, во-вторых, никакой, информация, телефон, предоставля...</td>\n",
       "      <td>[118, 72, 9, 62, 18, 3, 168, 9, 137, 157, 652, 81, 70, 32, 812, 3, 139, 831, 2, 15, 140, 106, 441, 12, 2, 55, 395, 9, 141, 2, 313, 425, 40, 13, 126, 281, 9, 428, 126, 4, 2, 118, 61, 369, 268, 9, 8...</td>\n",
       "    </tr>\n",
       "    <tr>\n",
       "      <th>4</th>\n",
       "      <td>0</td>\n",
       "      <td>небольшая предыстория: нашел на сайте mdm банка интересную ко-бренд карту «техносила – mdm банк», подал заявку на нее, и скоро позвонили с горячей линии. предложили кредитную карту, на что я в при...</td>\n",
       "      <td>[небольшой, предыстория, найти, сайт, mdm, банк, интересный, ко-бренд, карта, техносить, –, mdm, банк, подать, заявка, скоро, позвонить, горячий, линия, предложить, кредитный, карта, принцип, отве...</td>\n",
       "      <td>[419, 276, 87, 2, 649, 3, 123, 2, 297, 63, 33, 165, 133, 131, 21, 3, 771, 110, 152, 216, 97, 220, 21, 451, 130, 21, 283, 15, 74, 12, 2, 390, 216, 3, 253, 92, 390, 2, 562, 185, 482, 192, 384, 12, 1...</td>\n",
       "    </tr>\n",
       "  </tbody>\n",
       "</table>\n",
       "</div>"
      ],
      "text/plain": [
       "     Score                                                                                                                                                                                                     Text                                                                                                                                                                                       Preprocessed_texts                                                                                                                                                                                                Sequences\n",
       "idx                                                                                                                                                                                                                                                                                                                                                                                                                                                                                                                                                                                                                                  \n",
       "0        1  в альфа-банке работает замечательная девушка - ильясова орна, вежливая, отзывчивая, действительно участвует в запросе клиента, я приходила к ней подряд ровно три дня, каждый день она помнила время...  [альфа-банк, работать, замечательный, девушка, ильясова, орный, вежливый, отзывчивый, действительно, участвовать, запрос, клиент, приходить, подряд, ровно, день, каждый, день, помнить, время, мой,...  [62, 43, 917, 78, 205, 358, 410, 13, 155, 5, 147, 5, 576, 19, 6, 162, 72, 9, 299, 54, 46, 23, 9, 954, 90, 101, 162, 186, 20, 5, 4, 271, 219, 300, 491, 214, 259, 103, 362, 4, 12, 78, 242, 25, 917, ...\n",
       "1        0  оформляя рассрочку в м. видео в меге тёплый стан. попросила менеджера, чтобы заявка была без страховки. в итоге, когда подписывала договор, в договоре оказались лишние почти 6 тысяч, когда менедже...  [оформлять, рассрочка, м., видео, мег, тёплый, стан, попросить, менеджер, заявка, страховка, итог, подписывать, договор, договор, оказаться, лишний, 6, тысяча, менеджер, стать, спрашивать, это, 6,...  [268, 856, 172, 84, 63, 156, 136, 785, 28, 28, 146, 668, 461, 406, 84, 94, 427, 4, 461, 406, 94, 59, 160, 107, 802, 34, 424, 9, 665, 461, 406, 280, 276, 28, 240, 156, 285, 276, 386, 156, 136, 278,...\n",
       "2        1  очень порадовала оперативность работы в банке. заказал через интернет карту visa classic, потребовалось подойти в банк для подписания заявления. в тот же день мне открыли текущий счет с доступом ч...  [очень, порадовать, оперативность, работа, банк, заказать, интернет, карта, visa, classic, потребоваться, подойти, банк, подписание, заявление, день, открыть, текущий, счёт, доступ, интернет, услу...  [18, 911, 29, 2, 476, 184, 3, 629, 417, 2, 862, 27, 5, 119, 416, 11, 793, 184, 44, 895, 107, 104, 73, 23, 3, 144, 537, 290, 3, 386, 46, 694, 137, 56, 121, 18, 92, 12, 146, 18, 64, 53, 8, 366, 44, ...\n",
       "3        0  имела неосторожность оформить потреб. кредит в альфа-банке - очень жалею. во-первых, карту при оформлении кредита мне не выдали (объяснили тем, что их сейчас нет в наличии). во-вторых, никакую инф...  [иметь, неосторожность, оформить, потреба, кредит, альфа-банк, очень, жалеть, во-первых, карта, оформление, кредит, выдать, объяснить, наличие, во-вторых, никакой, информация, телефон, предоставля...  [118, 72, 9, 62, 18, 3, 168, 9, 137, 157, 652, 81, 70, 32, 812, 3, 139, 831, 2, 15, 140, 106, 441, 12, 2, 55, 395, 9, 141, 2, 313, 425, 40, 13, 126, 281, 9, 428, 126, 4, 2, 118, 61, 369, 268, 9, 8...\n",
       "4        0  небольшая предыстория: нашел на сайте mdm банка интересную ко-бренд карту «техносила – mdm банк», подал заявку на нее, и скоро позвонили с горячей линии. предложили кредитную карту, на что я в при...  [небольшой, предыстория, найти, сайт, mdm, банк, интересный, ко-бренд, карта, техносить, –, mdm, банк, подать, заявка, скоро, позвонить, горячий, линия, предложить, кредитный, карта, принцип, отве...  [419, 276, 87, 2, 649, 3, 123, 2, 297, 63, 33, 165, 133, 131, 21, 3, 771, 110, 152, 216, 97, 220, 21, 451, 130, 21, 283, 15, 74, 12, 2, 390, 216, 3, 253, 92, 390, 2, 562, 185, 482, 192, 384, 12, 1..."
      ]
     },
     "execution_count": 42,
     "metadata": {},
     "output_type": "execute_result"
    }
   ],
   "source": [
    "data.head()"
   ]
  },
  {
   "attachments": {},
   "cell_type": "markdown",
   "metadata": {},
   "source": [
    "Выделяем данные для обучения и тестирования"
   ]
  },
  {
   "cell_type": "code",
   "execution_count": 43,
   "metadata": {},
   "outputs": [],
   "source": [
    "train, test = train_test_split(data, test_size=0.2)"
   ]
  },
  {
   "cell_type": "code",
   "execution_count": 44,
   "metadata": {},
   "outputs": [
    {
     "data": {
      "text/html": [
       "<div>\n",
       "<style scoped>\n",
       "    .dataframe tbody tr th:only-of-type {\n",
       "        vertical-align: middle;\n",
       "    }\n",
       "\n",
       "    .dataframe tbody tr th {\n",
       "        vertical-align: top;\n",
       "    }\n",
       "\n",
       "    .dataframe thead th {\n",
       "        text-align: right;\n",
       "    }\n",
       "</style>\n",
       "<table border=\"1\" class=\"dataframe\">\n",
       "  <thead>\n",
       "    <tr style=\"text-align: right;\">\n",
       "      <th></th>\n",
       "      <th>Score</th>\n",
       "      <th>Text</th>\n",
       "      <th>Preprocessed_texts</th>\n",
       "      <th>Sequences</th>\n",
       "    </tr>\n",
       "    <tr>\n",
       "      <th>idx</th>\n",
       "      <th></th>\n",
       "      <th></th>\n",
       "      <th></th>\n",
       "      <th></th>\n",
       "    </tr>\n",
       "  </thead>\n",
       "  <tbody>\n",
       "    <tr>\n",
       "      <th>5261</th>\n",
       "      <td>0</td>\n",
       "      <td>в полном расчете кредита на первичный рынок недвижимости не значились расходы на оценку квартиры (приложение к кредитному договору). в предварительном договоре о залоге (ипотеке) стороны договорил...</td>\n",
       "      <td>[полный, расчёт, кредит, первичный, рынок, недвижимость, значиться, расход, оценка, квартира, приложение, кредитный, договор, предварительный, договор, залог, ипотека, сторона, договориться, оцено...</td>\n",
       "      <td>[230, 814, 9, 400, 324, 764, 21, 28, 28, 454, 250, 723, 324, 299, 723, 474, 89, 596, 927, 2, 403, 400, 53, 391, 342, 820, 283, 484, 103, 91, 286, 796, 2, 222, 115, 5, 61, 99, 37, 214, 486, 548, 38...</td>\n",
       "    </tr>\n",
       "    <tr>\n",
       "      <th>765</th>\n",
       "      <td>1</td>\n",
       "      <td>вот собственно и я решил выразить мнение о банке. в жизненной суете чуть не забыл про него. итак, потребительский кредит оформлялся в санкт-петербурге в салоне сотовой связи, после отказа в хоумкр...</td>\n",
       "      <td>[собственно, решить, выразить, мнение, банк, жизненный, суета, забыть, итак, потребительский, кредит, оформляться, санкт-петербург, салон, сотовый, связь, отказ, хоумкредит, прийтись, обратиться, ...</td>\n",
       "      <td>[896, 38, 473, 732, 2, 494, 447, 9, 968, 213, 248, 164, 74, 698, 539, 214, 197, 5, 140, 67, 63, 9, 68, 484, 975, 85, 46, 248, 157, 425, 58, 669, 238, 770, 83, 463, 269, 702, 152, 70, 547, 68, 354,...</td>\n",
       "    </tr>\n",
       "    <tr>\n",
       "      <th>4</th>\n",
       "      <td>0</td>\n",
       "      <td>небольшая предыстория: нашел на сайте mdm банка интересную ко-бренд карту «техносила – mdm банк», подал заявку на нее, и скоро позвонили с горячей линии. предложили кредитную карту, на что я в при...</td>\n",
       "      <td>[небольшой, предыстория, найти, сайт, mdm, банк, интересный, ко-бренд, карта, техносить, –, mdm, банк, подать, заявка, скоро, позвонить, горячий, линия, предложить, кредитный, карта, принцип, отве...</td>\n",
       "      <td>[419, 276, 87, 2, 649, 3, 123, 2, 297, 63, 33, 165, 133, 131, 21, 3, 771, 110, 152, 216, 97, 220, 21, 451, 130, 21, 283, 15, 74, 12, 2, 390, 216, 3, 253, 92, 390, 2, 562, 185, 482, 192, 384, 12, 1...</td>\n",
       "    </tr>\n",
       "    <tr>\n",
       "      <th>2405</th>\n",
       "      <td>0</td>\n",
       "      <td>вчера вечером пыталась внести очередной платеж по ипотечному кредиту. пришла в отделение на курской в 19.20. передо мной в очереди оказалось 13 (!) человек. при этом в зале сидело 3 сотрудника, но...</td>\n",
       "      <td>[вчера, вечером, пытаться, внести, очередной, платёж, ипотечный, кредит, прийти, отделение, курский, 19.20., перед, я, очередь, оказаться, 13, человек, зал, сидеть, 3, сотрудник, лишь, 1, обслужив...</td>\n",
       "      <td>[524, 597, 280, 187, 338, 30, 548, 9, 46, 12, 90, 66, 146, 55, 962, 549, 122, 7, 530, 176, 625, 13, 508, 264, 56, 172, 383, 294, 497, 774, 87, 757, 383, 709, 45, 2, 408, 51, 93, 87, 2, 4, 57, 66, ...</td>\n",
       "    </tr>\n",
       "    <tr>\n",
       "      <th>7163</th>\n",
       "      <td>0</td>\n",
       "      <td>много лет я являюсь вкладчиком мдм-банка, всегда была очень довольна обслуживанием. сегодня, 29.12.2016г. у меня закончился срок вклада.«великолепная семерка» в долларах сша и я обратилась в отдел...</td>\n",
       "      <td>[год, являться, вкладчик, мдм-банк, очень, довольный, обслуживание, сегодня, 29.12.2016г, закончиться, срок, вклада., великолепный, семёрка, доллар, сша, обратиться, отделение, правопреемник, мдм-...</td>\n",
       "      <td>[14, 86, 934, 18, 300, 40, 109, 617, 65, 618, 74, 12, 123, 246, 178, 127, 198, 347, 273, 316, 455, 10, 350, 455, 119, 47, 71, 68, 450, 287, 174, 711, 389, 66, 298, 7, 2, 98, 47, 333, 304, 119, 54,...</td>\n",
       "    </tr>\n",
       "  </tbody>\n",
       "</table>\n",
       "</div>"
      ],
      "text/plain": [
       "      Score                                                                                                                                                                                                     Text                                                                                                                                                                                       Preprocessed_texts                                                                                                                                                                                                Sequences\n",
       "idx                                                                                                                                                                                                                                                                                                                                                                                                                                                                                                                                                                                                                                   \n",
       "5261      0  в полном расчете кредита на первичный рынок недвижимости не значились расходы на оценку квартиры (приложение к кредитному договору). в предварительном договоре о залоге (ипотеке) стороны договорил...  [полный, расчёт, кредит, первичный, рынок, недвижимость, значиться, расход, оценка, квартира, приложение, кредитный, договор, предварительный, договор, залог, ипотека, сторона, договориться, оцено...  [230, 814, 9, 400, 324, 764, 21, 28, 28, 454, 250, 723, 324, 299, 723, 474, 89, 596, 927, 2, 403, 400, 53, 391, 342, 820, 283, 484, 103, 91, 286, 796, 2, 222, 115, 5, 61, 99, 37, 214, 486, 548, 38...\n",
       "765       1  вот собственно и я решил выразить мнение о банке. в жизненной суете чуть не забыл про него. итак, потребительский кредит оформлялся в санкт-петербурге в салоне сотовой связи, после отказа в хоумкр...  [собственно, решить, выразить, мнение, банк, жизненный, суета, забыть, итак, потребительский, кредит, оформляться, санкт-петербург, салон, сотовый, связь, отказ, хоумкредит, прийтись, обратиться, ...  [896, 38, 473, 732, 2, 494, 447, 9, 968, 213, 248, 164, 74, 698, 539, 214, 197, 5, 140, 67, 63, 9, 68, 484, 975, 85, 46, 248, 157, 425, 58, 669, 238, 770, 83, 463, 269, 702, 152, 70, 547, 68, 354,...\n",
       "4         0  небольшая предыстория: нашел на сайте mdm банка интересную ко-бренд карту «техносила – mdm банк», подал заявку на нее, и скоро позвонили с горячей линии. предложили кредитную карту, на что я в при...  [небольшой, предыстория, найти, сайт, mdm, банк, интересный, ко-бренд, карта, техносить, –, mdm, банк, подать, заявка, скоро, позвонить, горячий, линия, предложить, кредитный, карта, принцип, отве...  [419, 276, 87, 2, 649, 3, 123, 2, 297, 63, 33, 165, 133, 131, 21, 3, 771, 110, 152, 216, 97, 220, 21, 451, 130, 21, 283, 15, 74, 12, 2, 390, 216, 3, 253, 92, 390, 2, 562, 185, 482, 192, 384, 12, 1...\n",
       "2405      0  вчера вечером пыталась внести очередной платеж по ипотечному кредиту. пришла в отделение на курской в 19.20. передо мной в очереди оказалось 13 (!) человек. при этом в зале сидело 3 сотрудника, но...  [вчера, вечером, пытаться, внести, очередной, платёж, ипотечный, кредит, прийти, отделение, курский, 19.20., перед, я, очередь, оказаться, 13, человек, зал, сидеть, 3, сотрудник, лишь, 1, обслужив...  [524, 597, 280, 187, 338, 30, 548, 9, 46, 12, 90, 66, 146, 55, 962, 549, 122, 7, 530, 176, 625, 13, 508, 264, 56, 172, 383, 294, 497, 774, 87, 757, 383, 709, 45, 2, 408, 51, 93, 87, 2, 4, 57, 66, ...\n",
       "7163      0  много лет я являюсь вкладчиком мдм-банка, всегда была очень довольна обслуживанием. сегодня, 29.12.2016г. у меня закончился срок вклада.«великолепная семерка» в долларах сша и я обратилась в отдел...  [год, являться, вкладчик, мдм-банк, очень, довольный, обслуживание, сегодня, 29.12.2016г, закончиться, срок, вклада., великолепный, семёрка, доллар, сша, обратиться, отделение, правопреемник, мдм-...  [14, 86, 934, 18, 300, 40, 109, 617, 65, 618, 74, 12, 123, 246, 178, 127, 198, 347, 273, 316, 455, 10, 350, 455, 119, 47, 71, 68, 450, 287, 174, 711, 389, 66, 298, 7, 2, 98, 47, 333, 304, 119, 54,..."
      ]
     },
     "execution_count": 44,
     "metadata": {},
     "output_type": "execute_result"
    }
   ],
   "source": [
    "#80% данных для обучения\n",
    "train.head()"
   ]
  },
  {
   "cell_type": "code",
   "execution_count": 45,
   "metadata": {},
   "outputs": [
    {
     "data": {
      "text/html": [
       "<div>\n",
       "<style scoped>\n",
       "    .dataframe tbody tr th:only-of-type {\n",
       "        vertical-align: middle;\n",
       "    }\n",
       "\n",
       "    .dataframe tbody tr th {\n",
       "        vertical-align: top;\n",
       "    }\n",
       "\n",
       "    .dataframe thead th {\n",
       "        text-align: right;\n",
       "    }\n",
       "</style>\n",
       "<table border=\"1\" class=\"dataframe\">\n",
       "  <thead>\n",
       "    <tr style=\"text-align: right;\">\n",
       "      <th></th>\n",
       "      <th>Score</th>\n",
       "      <th>Text</th>\n",
       "      <th>Preprocessed_texts</th>\n",
       "      <th>Sequences</th>\n",
       "    </tr>\n",
       "    <tr>\n",
       "      <th>idx</th>\n",
       "      <th></th>\n",
       "      <th></th>\n",
       "      <th></th>\n",
       "      <th></th>\n",
       "    </tr>\n",
       "  </thead>\n",
       "  <tbody>\n",
       "    <tr>\n",
       "      <th>8973</th>\n",
       "      <td>1</td>\n",
       "      <td>обслуживаюсь в офисе шуваловский в москве.стоит отметить, что я являюсь требовательным клиентом. не пользуюсь банковскими продуктами если не понимаю как они работают и без колебаний расстаюсь с ба...</td>\n",
       "      <td>[обслуживаться, офис, шуваловский, москве.стоять, отметить, являться, требовательный, клиент, пользоваться, банковский, продукт, понимать, работать, колебание, расставаться, банк, считать, плохо, ...</td>\n",
       "      <td>[363, 24, 321, 86, 13, 77, 223, 243, 232, 43, 2, 260, 17, 2, 210, 332, 22, 677, 115, 24, 448, 29, 13, 4, 397, 40, 71, 243, 929, 7, 24, 232, 399, 13, 328, 249, 7, 8, 436, 17, 29, 140, 124, 18, 480,...</td>\n",
       "    </tr>\n",
       "    <tr>\n",
       "      <th>13379</th>\n",
       "      <td>0</td>\n",
       "      <td>наша компания является корпоративным клиентом альфа банка, следовательно и зарплатный проект у нас там же. к сожалению, сотрудники не могут выбрать банк для себя. у нас сотрудники постоянно жалова...</td>\n",
       "      <td>[наш, компания, являться, корпоративный, клиент, альфа, банк, следовательно, зарплатный, проект, сожаление, сотрудник, мочь, выбрать, банк, сотрудник, постоянно, жаловаться, альфа, банк, верить, п...</td>\n",
       "      <td>[134, 342, 86, 13, 167, 2, 344, 990, 394, 7, 22, 384, 2, 7, 506, 167, 2, 154, 875, 77, 31, 167, 2, 3, 266, 31, 3, 567, 14, 5, 38, 3, 15, 2, 408, 88, 6, 3, 364, 158, 597, 560, 31, 167, 2, 3, 829, 1...</td>\n",
       "    </tr>\n",
       "    <tr>\n",
       "      <th>6634</th>\n",
       "      <td>0</td>\n",
       "      <td>добрый день. с 2006 года являюсь клиентом альфа банка. до настоящего времени была абсолютна довольна и банком и обслуживанием. но январе 2015 года столкнулась с ужасным обслуживанием в отделении г...</td>\n",
       "      <td>[добрый, день, 2006, год, являться, клиент, альфа, банк, настоящий, время, абсолютный, довольный, банк, обслуживание, январь, 2015, год, столкнуться, ужасный, обслуживание, отделение, грибоедовски...</td>\n",
       "      <td>[182, 5, 14, 86, 13, 167, 2, 790, 19, 300, 2, 40, 435, 718, 14, 875, 40, 12, 178, 968, 414, 809, 435, 718, 14, 74, 79, 12, 541, 9, 213, 915, 319, 636, 14, 7, 12, 488, 576, 143, 35, 9, 91, 9, 15, 9...</td>\n",
       "    </tr>\n",
       "    <tr>\n",
       "      <th>4130</th>\n",
       "      <td>0</td>\n",
       "      <td>я ещё не встречала такого некомпетентного банка как ваш. грош цена всем вашим обещаниям и извинениям. больше месяца назад (08.12.14) вы принесли извинения и пообещали, что больше мой номер телефон...</td>\n",
       "      <td>[ещё, встречать, такой, некомпетентный, банк, ваш, грош, цена, весь, ваш, обещание, извинение, месяц, назад, 08.12.14, принести, извинение, пообещать, номер, телефон, ваш, база, данные, фигурирова...</td>\n",
       "      <td>[231, 974, 25, 2, 42, 64, 42, 834, 34, 211, 852, 834, 50, 32, 42, 650, 286, 325, 109, 195, 17, 50, 42, 2, 78, 124, 49, 317, 4, 502, 295, 622, 383, 48, 376, 186, 741, 426]</td>\n",
       "    </tr>\n",
       "    <tr>\n",
       "      <th>10192</th>\n",
       "      <td>0</td>\n",
       "      <td>22.11.2016 обратилась в отделение бинбанка, чтобы сделать карточку для получения з/п. сотрудник г-т а. а. сообщил, что через 2-3 дня должны позвонить и сообщить о том, что карточка готова. но чере...</td>\n",
       "      <td>[22.11.2016, обратиться, отделение, бинбанка, сделать, карточка, получение, з/п, сотрудник, г-т, а., а., сообщить, 2-3, день, должный, позвонить, сообщить, карточка, готовый, 1,5, неделя, никто, п...</td>\n",
       "      <td>[74, 12, 246, 57, 227, 161, 7, 98, 5, 73, 33, 98, 227, 291, 104, 163, 33, 2, 227, 146, 291, 161, 26, 365, 146, 7, 722, 6, 36, 5, 6, 117, 53, 115, 5, 253, 38, 26, 564, 12, 515, 78, 8, 869, 90, 6, 1...</td>\n",
       "    </tr>\n",
       "  </tbody>\n",
       "</table>\n",
       "</div>"
      ],
      "text/plain": [
       "       Score                                                                                                                                                                                                     Text                                                                                                                                                                                       Preprocessed_texts                                                                                                                                                                                                Sequences\n",
       "idx                                                                                                                                                                                                                                                                                                                                                                                                                                                                                                                                                                                                                                    \n",
       "8973       1  обслуживаюсь в офисе шуваловский в москве.стоит отметить, что я являюсь требовательным клиентом. не пользуюсь банковскими продуктами если не понимаю как они работают и без колебаний расстаюсь с ба...  [обслуживаться, офис, шуваловский, москве.стоять, отметить, являться, требовательный, клиент, пользоваться, банковский, продукт, понимать, работать, колебание, расставаться, банк, считать, плохо, ...  [363, 24, 321, 86, 13, 77, 223, 243, 232, 43, 2, 260, 17, 2, 210, 332, 22, 677, 115, 24, 448, 29, 13, 4, 397, 40, 71, 243, 929, 7, 24, 232, 399, 13, 328, 249, 7, 8, 436, 17, 29, 140, 124, 18, 480,...\n",
       "13379      0  наша компания является корпоративным клиентом альфа банка, следовательно и зарплатный проект у нас там же. к сожалению, сотрудники не могут выбрать банк для себя. у нас сотрудники постоянно жалова...  [наш, компания, являться, корпоративный, клиент, альфа, банк, следовательно, зарплатный, проект, сожаление, сотрудник, мочь, выбрать, банк, сотрудник, постоянно, жаловаться, альфа, банк, верить, п...  [134, 342, 86, 13, 167, 2, 344, 990, 394, 7, 22, 384, 2, 7, 506, 167, 2, 154, 875, 77, 31, 167, 2, 3, 266, 31, 3, 567, 14, 5, 38, 3, 15, 2, 408, 88, 6, 3, 364, 158, 597, 560, 31, 167, 2, 3, 829, 1...\n",
       "6634       0  добрый день. с 2006 года являюсь клиентом альфа банка. до настоящего времени была абсолютна довольна и банком и обслуживанием. но январе 2015 года столкнулась с ужасным обслуживанием в отделении г...  [добрый, день, 2006, год, являться, клиент, альфа, банк, настоящий, время, абсолютный, довольный, банк, обслуживание, январь, 2015, год, столкнуться, ужасный, обслуживание, отделение, грибоедовски...  [182, 5, 14, 86, 13, 167, 2, 790, 19, 300, 2, 40, 435, 718, 14, 875, 40, 12, 178, 968, 414, 809, 435, 718, 14, 74, 79, 12, 541, 9, 213, 915, 319, 636, 14, 7, 12, 488, 576, 143, 35, 9, 91, 9, 15, 9...\n",
       "4130       0  я ещё не встречала такого некомпетентного банка как ваш. грош цена всем вашим обещаниям и извинениям. больше месяца назад (08.12.14) вы принесли извинения и пообещали, что больше мой номер телефон...  [ещё, встречать, такой, некомпетентный, банк, ваш, грош, цена, весь, ваш, обещание, извинение, месяц, назад, 08.12.14, принести, извинение, пообещать, номер, телефон, ваш, база, данные, фигурирова...                               [231, 974, 25, 2, 42, 64, 42, 834, 34, 211, 852, 834, 50, 32, 42, 650, 286, 325, 109, 195, 17, 50, 42, 2, 78, 124, 49, 317, 4, 502, 295, 622, 383, 48, 376, 186, 741, 426]\n",
       "10192      0  22.11.2016 обратилась в отделение бинбанка, чтобы сделать карточку для получения з/п. сотрудник г-т а. а. сообщил, что через 2-3 дня должны позвонить и сообщить о том, что карточка готова. но чере...  [22.11.2016, обратиться, отделение, бинбанка, сделать, карточка, получение, з/п, сотрудник, г-т, а., а., сообщить, 2-3, день, должный, позвонить, сообщить, карточка, готовый, 1,5, неделя, никто, п...  [74, 12, 246, 57, 227, 161, 7, 98, 5, 73, 33, 98, 227, 291, 104, 163, 33, 2, 227, 146, 291, 161, 26, 365, 146, 7, 722, 6, 36, 5, 6, 117, 53, 115, 5, 253, 38, 26, 564, 12, 515, 78, 8, 869, 90, 6, 1..."
      ]
     },
     "execution_count": 45,
     "metadata": {},
     "output_type": "execute_result"
    }
   ],
   "source": [
    "#данные для тестирования 20%\n",
    "test.head()"
   ]
  },
  {
   "attachments": {},
   "cell_type": "markdown",
   "metadata": {},
   "source": [
    "Разделяем метки классов и данные для обучения"
   ]
  },
  {
   "cell_type": "markdown",
   "metadata": {},
   "source": [
    "Данные для обучения"
   ]
  },
  {
   "cell_type": "code",
   "execution_count": 46,
   "metadata": {},
   "outputs": [],
   "source": [
    "x_train_seq = train['Sequences']#данные для обучения\n",
    "y_train = train['Score']#метки(ответы)"
   ]
  },
  {
   "cell_type": "code",
   "execution_count": 47,
   "metadata": {},
   "outputs": [
    {
     "data": {
      "text/html": [
       "<div>\n",
       "<style scoped>\n",
       "    .dataframe tbody tr th:only-of-type {\n",
       "        vertical-align: middle;\n",
       "    }\n",
       "\n",
       "    .dataframe tbody tr th {\n",
       "        vertical-align: top;\n",
       "    }\n",
       "\n",
       "    .dataframe thead th {\n",
       "        text-align: right;\n",
       "    }\n",
       "</style>\n",
       "<table border=\"1\" class=\"dataframe\">\n",
       "  <thead>\n",
       "    <tr style=\"text-align: right;\">\n",
       "      <th></th>\n",
       "      <th>Sequences</th>\n",
       "    </tr>\n",
       "    <tr>\n",
       "      <th>idx</th>\n",
       "      <th></th>\n",
       "    </tr>\n",
       "  </thead>\n",
       "  <tbody>\n",
       "    <tr>\n",
       "      <th>5261</th>\n",
       "      <td>[230, 814, 9, 400, 324, 764, 21, 28, 28, 454, 250, 723, 324, 299, 723, 474, 89, 596, 927, 2, 403, 400, 53, 391, 342, 820, 283, 484, 103, 91, 286, 796, 2, 222, 115, 5, 61, 99, 37, 214, 486, 548, 38...</td>\n",
       "    </tr>\n",
       "    <tr>\n",
       "      <th>765</th>\n",
       "      <td>[896, 38, 473, 732, 2, 494, 447, 9, 968, 213, 248, 164, 74, 698, 539, 214, 197, 5, 140, 67, 63, 9, 68, 484, 975, 85, 46, 248, 157, 425, 58, 669, 238, 770, 83, 463, 269, 702, 152, 70, 547, 68, 354,...</td>\n",
       "    </tr>\n",
       "    <tr>\n",
       "      <th>4</th>\n",
       "      <td>[419, 276, 87, 2, 649, 3, 123, 2, 297, 63, 33, 165, 133, 131, 21, 3, 771, 110, 152, 216, 97, 220, 21, 451, 130, 21, 283, 15, 74, 12, 2, 390, 216, 3, 253, 92, 390, 2, 562, 185, 482, 192, 384, 12, 1...</td>\n",
       "    </tr>\n",
       "    <tr>\n",
       "      <th>2405</th>\n",
       "      <td>[524, 597, 280, 187, 338, 30, 548, 9, 46, 12, 90, 66, 146, 55, 962, 549, 122, 7, 530, 176, 625, 13, 508, 264, 56, 172, 383, 294, 497, 774, 87, 757, 383, 709, 45, 2, 408, 51, 93, 87, 2, 4, 57, 66, ...</td>\n",
       "    </tr>\n",
       "    <tr>\n",
       "      <th>7163</th>\n",
       "      <td>[14, 86, 934, 18, 300, 40, 109, 617, 65, 618, 74, 12, 123, 246, 178, 127, 198, 347, 273, 316, 455, 10, 350, 455, 119, 47, 71, 68, 450, 287, 174, 711, 389, 66, 298, 7, 2, 98, 47, 333, 304, 119, 54,...</td>\n",
       "    </tr>\n",
       "  </tbody>\n",
       "</table>\n",
       "</div>"
      ],
      "text/plain": [
       "                                                                                                                                                                                                    Sequences\n",
       "idx                                                                                                                                                                                                          \n",
       "5261  [230, 814, 9, 400, 324, 764, 21, 28, 28, 454, 250, 723, 324, 299, 723, 474, 89, 596, 927, 2, 403, 400, 53, 391, 342, 820, 283, 484, 103, 91, 286, 796, 2, 222, 115, 5, 61, 99, 37, 214, 486, 548, 38...\n",
       "765   [896, 38, 473, 732, 2, 494, 447, 9, 968, 213, 248, 164, 74, 698, 539, 214, 197, 5, 140, 67, 63, 9, 68, 484, 975, 85, 46, 248, 157, 425, 58, 669, 238, 770, 83, 463, 269, 702, 152, 70, 547, 68, 354,...\n",
       "4     [419, 276, 87, 2, 649, 3, 123, 2, 297, 63, 33, 165, 133, 131, 21, 3, 771, 110, 152, 216, 97, 220, 21, 451, 130, 21, 283, 15, 74, 12, 2, 390, 216, 3, 253, 92, 390, 2, 562, 185, 482, 192, 384, 12, 1...\n",
       "2405  [524, 597, 280, 187, 338, 30, 548, 9, 46, 12, 90, 66, 146, 55, 962, 549, 122, 7, 530, 176, 625, 13, 508, 264, 56, 172, 383, 294, 497, 774, 87, 757, 383, 709, 45, 2, 408, 51, 93, 87, 2, 4, 57, 66, ...\n",
       "7163  [14, 86, 934, 18, 300, 40, 109, 617, 65, 618, 74, 12, 123, 246, 178, 127, 198, 347, 273, 316, 455, 10, 350, 455, 119, 47, 71, 68, 450, 287, 174, 711, 389, 66, 298, 7, 2, 98, 47, 333, 304, 119, 54,..."
      ]
     },
     "execution_count": 47,
     "metadata": {},
     "output_type": "execute_result"
    }
   ],
   "source": [
    "x_train_seq.to_frame().head()#данные для обучения"
   ]
  },
  {
   "cell_type": "code",
   "execution_count": 48,
   "metadata": {},
   "outputs": [
    {
     "data": {
      "text/html": [
       "<div>\n",
       "<style scoped>\n",
       "    .dataframe tbody tr th:only-of-type {\n",
       "        vertical-align: middle;\n",
       "    }\n",
       "\n",
       "    .dataframe tbody tr th {\n",
       "        vertical-align: top;\n",
       "    }\n",
       "\n",
       "    .dataframe thead th {\n",
       "        text-align: right;\n",
       "    }\n",
       "</style>\n",
       "<table border=\"1\" class=\"dataframe\">\n",
       "  <thead>\n",
       "    <tr style=\"text-align: right;\">\n",
       "      <th></th>\n",
       "      <th>Score</th>\n",
       "    </tr>\n",
       "    <tr>\n",
       "      <th>idx</th>\n",
       "      <th></th>\n",
       "    </tr>\n",
       "  </thead>\n",
       "  <tbody>\n",
       "    <tr>\n",
       "      <th>5261</th>\n",
       "      <td>0</td>\n",
       "    </tr>\n",
       "    <tr>\n",
       "      <th>765</th>\n",
       "      <td>1</td>\n",
       "    </tr>\n",
       "    <tr>\n",
       "      <th>4</th>\n",
       "      <td>0</td>\n",
       "    </tr>\n",
       "    <tr>\n",
       "      <th>2405</th>\n",
       "      <td>0</td>\n",
       "    </tr>\n",
       "    <tr>\n",
       "      <th>7163</th>\n",
       "      <td>0</td>\n",
       "    </tr>\n",
       "    <tr>\n",
       "      <th>9877</th>\n",
       "      <td>1</td>\n",
       "    </tr>\n",
       "    <tr>\n",
       "      <th>2533</th>\n",
       "      <td>1</td>\n",
       "    </tr>\n",
       "    <tr>\n",
       "      <th>7360</th>\n",
       "      <td>0</td>\n",
       "    </tr>\n",
       "    <tr>\n",
       "      <th>3377</th>\n",
       "      <td>1</td>\n",
       "    </tr>\n",
       "    <tr>\n",
       "      <th>5932</th>\n",
       "      <td>0</td>\n",
       "    </tr>\n",
       "  </tbody>\n",
       "</table>\n",
       "</div>"
      ],
      "text/plain": [
       "      Score\n",
       "idx        \n",
       "5261      0\n",
       "765       1\n",
       "4         0\n",
       "2405      0\n",
       "7163      0\n",
       "9877      1\n",
       "2533      1\n",
       "7360      0\n",
       "3377      1\n",
       "5932      0"
      ]
     },
     "execution_count": 48,
     "metadata": {},
     "output_type": "execute_result"
    }
   ],
   "source": [
    "y_train.to_frame().head(10)"
   ]
  },
  {
   "attachments": {},
   "cell_type": "markdown",
   "metadata": {},
   "source": [
    "Данные для тестирования"
   ]
  },
  {
   "cell_type": "code",
   "execution_count": 49,
   "metadata": {},
   "outputs": [],
   "source": [
    "x_test_seq = test['Sequences']#данные для обучения\n",
    "y_test = test['Score']#метки(ответы)"
   ]
  },
  {
   "cell_type": "code",
   "execution_count": 50,
   "metadata": {},
   "outputs": [
    {
     "data": {
      "text/html": [
       "<div>\n",
       "<style scoped>\n",
       "    .dataframe tbody tr th:only-of-type {\n",
       "        vertical-align: middle;\n",
       "    }\n",
       "\n",
       "    .dataframe tbody tr th {\n",
       "        vertical-align: top;\n",
       "    }\n",
       "\n",
       "    .dataframe thead th {\n",
       "        text-align: right;\n",
       "    }\n",
       "</style>\n",
       "<table border=\"1\" class=\"dataframe\">\n",
       "  <thead>\n",
       "    <tr style=\"text-align: right;\">\n",
       "      <th></th>\n",
       "      <th>Sequences</th>\n",
       "    </tr>\n",
       "    <tr>\n",
       "      <th>idx</th>\n",
       "      <th></th>\n",
       "    </tr>\n",
       "  </thead>\n",
       "  <tbody>\n",
       "    <tr>\n",
       "      <th>8973</th>\n",
       "      <td>[363, 24, 321, 86, 13, 77, 223, 243, 232, 43, 2, 260, 17, 2, 210, 332, 22, 677, 115, 24, 448, 29, 13, 4, 397, 40, 71, 243, 929, 7, 24, 232, 399, 13, 328, 249, 7, 8, 436, 17, 29, 140, 124, 18, 480,...</td>\n",
       "    </tr>\n",
       "    <tr>\n",
       "      <th>13379</th>\n",
       "      <td>[134, 342, 86, 13, 167, 2, 344, 990, 394, 7, 22, 384, 2, 7, 506, 167, 2, 154, 875, 77, 31, 167, 2, 3, 266, 31, 3, 567, 14, 5, 38, 3, 15, 2, 408, 88, 6, 3, 364, 158, 597, 560, 31, 167, 2, 3, 829, 1...</td>\n",
       "    </tr>\n",
       "    <tr>\n",
       "      <th>6634</th>\n",
       "      <td>[182, 5, 14, 86, 13, 167, 2, 790, 19, 300, 2, 40, 435, 718, 14, 875, 40, 12, 178, 968, 414, 809, 435, 718, 14, 74, 79, 12, 541, 9, 213, 915, 319, 636, 14, 7, 12, 488, 576, 143, 35, 9, 91, 9, 15, 9...</td>\n",
       "    </tr>\n",
       "    <tr>\n",
       "      <th>4130</th>\n",
       "      <td>[231, 974, 25, 2, 42, 64, 42, 834, 34, 211, 852, 834, 50, 32, 42, 650, 286, 325, 109, 195, 17, 50, 42, 2, 78, 124, 49, 317, 4, 502, 295, 622, 383, 48, 376, 186, 741, 426]</td>\n",
       "    </tr>\n",
       "    <tr>\n",
       "      <th>10192</th>\n",
       "      <td>[74, 12, 246, 57, 227, 161, 7, 98, 5, 73, 33, 98, 227, 291, 104, 163, 33, 2, 227, 146, 291, 161, 26, 365, 146, 7, 722, 6, 36, 5, 6, 117, 53, 115, 5, 253, 38, 26, 564, 12, 515, 78, 8, 869, 90, 6, 1...</td>\n",
       "    </tr>\n",
       "  </tbody>\n",
       "</table>\n",
       "</div>"
      ],
      "text/plain": [
       "                                                                                                                                                                                                     Sequences\n",
       "idx                                                                                                                                                                                                           \n",
       "8973   [363, 24, 321, 86, 13, 77, 223, 243, 232, 43, 2, 260, 17, 2, 210, 332, 22, 677, 115, 24, 448, 29, 13, 4, 397, 40, 71, 243, 929, 7, 24, 232, 399, 13, 328, 249, 7, 8, 436, 17, 29, 140, 124, 18, 480,...\n",
       "13379  [134, 342, 86, 13, 167, 2, 344, 990, 394, 7, 22, 384, 2, 7, 506, 167, 2, 154, 875, 77, 31, 167, 2, 3, 266, 31, 3, 567, 14, 5, 38, 3, 15, 2, 408, 88, 6, 3, 364, 158, 597, 560, 31, 167, 2, 3, 829, 1...\n",
       "6634   [182, 5, 14, 86, 13, 167, 2, 790, 19, 300, 2, 40, 435, 718, 14, 875, 40, 12, 178, 968, 414, 809, 435, 718, 14, 74, 79, 12, 541, 9, 213, 915, 319, 636, 14, 7, 12, 488, 576, 143, 35, 9, 91, 9, 15, 9...\n",
       "4130                                [231, 974, 25, 2, 42, 64, 42, 834, 34, 211, 852, 834, 50, 32, 42, 650, 286, 325, 109, 195, 17, 50, 42, 2, 78, 124, 49, 317, 4, 502, 295, 622, 383, 48, 376, 186, 741, 426]\n",
       "10192  [74, 12, 246, 57, 227, 161, 7, 98, 5, 73, 33, 98, 227, 291, 104, 163, 33, 2, 227, 146, 291, 161, 26, 365, 146, 7, 722, 6, 36, 5, 6, 117, 53, 115, 5, 253, 38, 26, 564, 12, 515, 78, 8, 869, 90, 6, 1..."
      ]
     },
     "execution_count": 50,
     "metadata": {},
     "output_type": "execute_result"
    }
   ],
   "source": [
    "x_test_seq.to_frame().head()#данные для обучения"
   ]
  },
  {
   "cell_type": "code",
   "execution_count": 51,
   "metadata": {},
   "outputs": [
    {
     "data": {
      "text/html": [
       "<div>\n",
       "<style scoped>\n",
       "    .dataframe tbody tr th:only-of-type {\n",
       "        vertical-align: middle;\n",
       "    }\n",
       "\n",
       "    .dataframe tbody tr th {\n",
       "        vertical-align: top;\n",
       "    }\n",
       "\n",
       "    .dataframe thead th {\n",
       "        text-align: right;\n",
       "    }\n",
       "</style>\n",
       "<table border=\"1\" class=\"dataframe\">\n",
       "  <thead>\n",
       "    <tr style=\"text-align: right;\">\n",
       "      <th></th>\n",
       "      <th>Score</th>\n",
       "    </tr>\n",
       "    <tr>\n",
       "      <th>idx</th>\n",
       "      <th></th>\n",
       "    </tr>\n",
       "  </thead>\n",
       "  <tbody>\n",
       "    <tr>\n",
       "      <th>8973</th>\n",
       "      <td>1</td>\n",
       "    </tr>\n",
       "    <tr>\n",
       "      <th>13379</th>\n",
       "      <td>0</td>\n",
       "    </tr>\n",
       "    <tr>\n",
       "      <th>6634</th>\n",
       "      <td>0</td>\n",
       "    </tr>\n",
       "    <tr>\n",
       "      <th>4130</th>\n",
       "      <td>0</td>\n",
       "    </tr>\n",
       "    <tr>\n",
       "      <th>10192</th>\n",
       "      <td>0</td>\n",
       "    </tr>\n",
       "    <tr>\n",
       "      <th>8783</th>\n",
       "      <td>0</td>\n",
       "    </tr>\n",
       "    <tr>\n",
       "      <th>1385</th>\n",
       "      <td>0</td>\n",
       "    </tr>\n",
       "    <tr>\n",
       "      <th>7265</th>\n",
       "      <td>0</td>\n",
       "    </tr>\n",
       "    <tr>\n",
       "      <th>13780</th>\n",
       "      <td>1</td>\n",
       "    </tr>\n",
       "    <tr>\n",
       "      <th>10561</th>\n",
       "      <td>0</td>\n",
       "    </tr>\n",
       "  </tbody>\n",
       "</table>\n",
       "</div>"
      ],
      "text/plain": [
       "       Score\n",
       "idx         \n",
       "8973       1\n",
       "13379      0\n",
       "6634       0\n",
       "4130       0\n",
       "10192      0\n",
       "8783       0\n",
       "1385       0\n",
       "7265       0\n",
       "13780      1\n",
       "10561      0"
      ]
     },
     "execution_count": 51,
     "metadata": {},
     "output_type": "execute_result"
    }
   ],
   "source": [
    "y_test.to_frame().head(10)"
   ]
  },
  {
   "attachments": {},
   "cell_type": "markdown",
   "metadata": {},
   "source": [
    "Создаем мешок слов"
   ]
  },
  {
   "cell_type": "code",
   "execution_count": 52,
   "metadata": {},
   "outputs": [],
   "source": [
    "def vectorize_sequences(sequences, dimension=10000):\n",
    "    results = np.zeros((len(sequences), dimension))\n",
    "    for i, sequence in enumerate(sequences):\n",
    "        for index in sequence:\n",
    "            results[i, index] += 1.\n",
    "    return results"
   ]
  },
  {
   "cell_type": "code",
   "execution_count": 53,
   "metadata": {},
   "outputs": [],
   "source": [
    "x_train = vectorize_sequences(x_train_seq, max_words)"
   ]
  },
  {
   "cell_type": "code",
   "execution_count": 54,
   "metadata": {},
   "outputs": [],
   "source": [
    "x_test = vectorize_sequences(x_test_seq, max_words)"
   ]
  },
  {
   "cell_type": "code",
   "execution_count": 55,
   "metadata": {},
   "outputs": [
    {
     "data": {
      "text/plain": [
       "array([ 0.,  0., 13.,  0.,  1.,  2.,  0.,  1.,  1.,  1.,  0.,  0.,  0.,\n",
       "        0.,  1.,  1.,  2.,  1.,  0.,  1.,  0.,  4.,  0.,  0.,  0.,  0.,\n",
       "        0.,  0.,  7.,  0.,  0.,  0.,  0.,  1.,  0.,  0.,  2.,  4.,  0.,\n",
       "        3.,  0.,  0.,  0.,  0.,  0.,  0.,  0.,  0.,  0.,  0.,  0.,  1.,\n",
       "        0.,  3.,  0.,  0.,  0.,  0.,  0.,  0.,  0.,  1.,  0.,  0.,  0.,\n",
       "        1.,  0.,  2.,  0.,  0.,  0.,  0.,  0.,  0.,  0.,  0.,  0.,  0.,\n",
       "        0.,  1.,  0.,  0.,  0.,  0.,  0.,  0.,  0.,  1.,  0.,  4.,  0.,\n",
       "        1.,  0.,  0.,  0.,  0.,  0.,  0.,  1.,  1.])"
      ]
     },
     "execution_count": 55,
     "metadata": {},
     "output_type": "execute_result"
    }
   ],
   "source": [
    "x_train[0][:100]"
   ]
  },
  {
   "cell_type": "code",
   "execution_count": 56,
   "metadata": {},
   "outputs": [
    {
     "data": {
      "text/plain": [
       "1000"
      ]
     },
     "execution_count": 56,
     "metadata": {},
     "output_type": "execute_result"
    }
   ],
   "source": [
    "len(x_train[0])"
   ]
  },
  {
   "attachments": {},
   "cell_type": "markdown",
   "metadata": {},
   "source": [
    "Создаем модель машинного обучения"
   ]
  },
  {
   "cell_type": "code",
   "execution_count": 57,
   "metadata": {},
   "outputs": [],
   "source": [
    "lr = LogisticRegression(random_state=random_state, max_iter=500)"
   ]
  },
  {
   "attachments": {},
   "cell_type": "markdown",
   "metadata": {},
   "source": [
    "Обучаем модель машинного обучения"
   ]
  },
  {
   "cell_type": "code",
   "execution_count": 58,
   "metadata": {},
   "outputs": [
    {
     "data": {
      "text/html": [
       "<style>#sk-container-id-1 {color: black;background-color: white;}#sk-container-id-1 pre{padding: 0;}#sk-container-id-1 div.sk-toggleable {background-color: white;}#sk-container-id-1 label.sk-toggleable__label {cursor: pointer;display: block;width: 100%;margin-bottom: 0;padding: 0.3em;box-sizing: border-box;text-align: center;}#sk-container-id-1 label.sk-toggleable__label-arrow:before {content: \"▸\";float: left;margin-right: 0.25em;color: #696969;}#sk-container-id-1 label.sk-toggleable__label-arrow:hover:before {color: black;}#sk-container-id-1 div.sk-estimator:hover label.sk-toggleable__label-arrow:before {color: black;}#sk-container-id-1 div.sk-toggleable__content {max-height: 0;max-width: 0;overflow: hidden;text-align: left;background-color: #f0f8ff;}#sk-container-id-1 div.sk-toggleable__content pre {margin: 0.2em;color: black;border-radius: 0.25em;background-color: #f0f8ff;}#sk-container-id-1 input.sk-toggleable__control:checked~div.sk-toggleable__content {max-height: 200px;max-width: 100%;overflow: auto;}#sk-container-id-1 input.sk-toggleable__control:checked~label.sk-toggleable__label-arrow:before {content: \"▾\";}#sk-container-id-1 div.sk-estimator input.sk-toggleable__control:checked~label.sk-toggleable__label {background-color: #d4ebff;}#sk-container-id-1 div.sk-label input.sk-toggleable__control:checked~label.sk-toggleable__label {background-color: #d4ebff;}#sk-container-id-1 input.sk-hidden--visually {border: 0;clip: rect(1px 1px 1px 1px);clip: rect(1px, 1px, 1px, 1px);height: 1px;margin: -1px;overflow: hidden;padding: 0;position: absolute;width: 1px;}#sk-container-id-1 div.sk-estimator {font-family: monospace;background-color: #f0f8ff;border: 1px dotted black;border-radius: 0.25em;box-sizing: border-box;margin-bottom: 0.5em;}#sk-container-id-1 div.sk-estimator:hover {background-color: #d4ebff;}#sk-container-id-1 div.sk-parallel-item::after {content: \"\";width: 100%;border-bottom: 1px solid gray;flex-grow: 1;}#sk-container-id-1 div.sk-label:hover label.sk-toggleable__label {background-color: #d4ebff;}#sk-container-id-1 div.sk-serial::before {content: \"\";position: absolute;border-left: 1px solid gray;box-sizing: border-box;top: 0;bottom: 0;left: 50%;z-index: 0;}#sk-container-id-1 div.sk-serial {display: flex;flex-direction: column;align-items: center;background-color: white;padding-right: 0.2em;padding-left: 0.2em;position: relative;}#sk-container-id-1 div.sk-item {position: relative;z-index: 1;}#sk-container-id-1 div.sk-parallel {display: flex;align-items: stretch;justify-content: center;background-color: white;position: relative;}#sk-container-id-1 div.sk-item::before, #sk-container-id-1 div.sk-parallel-item::before {content: \"\";position: absolute;border-left: 1px solid gray;box-sizing: border-box;top: 0;bottom: 0;left: 50%;z-index: -1;}#sk-container-id-1 div.sk-parallel-item {display: flex;flex-direction: column;z-index: 1;position: relative;background-color: white;}#sk-container-id-1 div.sk-parallel-item:first-child::after {align-self: flex-end;width: 50%;}#sk-container-id-1 div.sk-parallel-item:last-child::after {align-self: flex-start;width: 50%;}#sk-container-id-1 div.sk-parallel-item:only-child::after {width: 0;}#sk-container-id-1 div.sk-dashed-wrapped {border: 1px dashed gray;margin: 0 0.4em 0.5em 0.4em;box-sizing: border-box;padding-bottom: 0.4em;background-color: white;}#sk-container-id-1 div.sk-label label {font-family: monospace;font-weight: bold;display: inline-block;line-height: 1.2em;}#sk-container-id-1 div.sk-label-container {text-align: center;}#sk-container-id-1 div.sk-container {/* jupyter's `normalize.less` sets `[hidden] { display: none; }` but bootstrap.min.css set `[hidden] { display: none !important; }` so we also need the `!important` here to be able to override the default hidden behavior on the sphinx rendered scikit-learn.org. See: https://github.com/scikit-learn/scikit-learn/issues/21755 */display: inline-block !important;position: relative;}#sk-container-id-1 div.sk-text-repr-fallback {display: none;}</style><div id=\"sk-container-id-1\" class=\"sk-top-container\"><div class=\"sk-text-repr-fallback\"><pre>LogisticRegression(max_iter=500, random_state=42)</pre><b>In a Jupyter environment, please rerun this cell to show the HTML representation or trust the notebook. <br />On GitHub, the HTML representation is unable to render, please try loading this page with nbviewer.org.</b></div><div class=\"sk-container\" hidden><div class=\"sk-item\"><div class=\"sk-estimator sk-toggleable\"><input class=\"sk-toggleable__control sk-hidden--visually\" id=\"sk-estimator-id-1\" type=\"checkbox\" checked><label for=\"sk-estimator-id-1\" class=\"sk-toggleable__label sk-toggleable__label-arrow\">LogisticRegression</label><div class=\"sk-toggleable__content\"><pre>LogisticRegression(max_iter=500, random_state=42)</pre></div></div></div></div></div>"
      ],
      "text/plain": [
       "LogisticRegression(max_iter=500, random_state=42)"
      ]
     },
     "execution_count": 58,
     "metadata": {},
     "output_type": "execute_result"
    }
   ],
   "source": [
    "lr.fit(x_train, y_train)"
   ]
  },
  {
   "attachments": {},
   "cell_type": "markdown",
   "metadata": {},
   "source": [
    "Оцениваем качество обучения на тестовом наборе данных"
   ]
  },
  {
   "attachments": {},
   "cell_type": "markdown",
   "metadata": {},
   "source": [
    "Определяем долю правильных ответов (accuracy) на тестовом наборе данных"
   ]
  },
  {
   "cell_type": "code",
   "execution_count": 59,
   "metadata": {},
   "outputs": [
    {
     "data": {
      "text/plain": [
       "0.9228571428571428"
      ]
     },
     "execution_count": 59,
     "metadata": {},
     "output_type": "execute_result"
    }
   ],
   "source": [
    "lr.score(x_test, y_test)"
   ]
  },
  {
   "attachments": {},
   "cell_type": "markdown",
   "metadata": {},
   "source": [
    "Применяем модель для определения тональности отзыва на банк"
   ]
  },
  {
   "attachments": {},
   "cell_type": "markdown",
   "metadata": {},
   "source": [
    "Позитивный отзыв"
   ]
  },
  {
   "cell_type": "code",
   "execution_count": 60,
   "metadata": {},
   "outputs": [],
   "source": [
    "positive_text = \"\"\"Брал кредит в Мегабанке на автомобиль. Выдали за один день. Никаких скрытых комиссий и переплат. \n",
    "У банка удобное мобильное приложение, через которое можно быстро отправить ежемесячный платеж. \n",
    "Досрочное гасить начал через три месяца. Я доволен оперативностью и удобством. Огромное спасибо!\n",
    "\"\"\""
   ]
  },
  {
   "attachments": {},
   "cell_type": "markdown",
   "metadata": {},
   "source": [
    "Подготовка текста к обработке"
   ]
  },
  {
   "cell_type": "code",
   "execution_count": 61,
   "metadata": {},
   "outputs": [],
   "source": [
    "positive_preprocessed_text = preprocess(positive_text, stop_words, punctuation_marks, morph)"
   ]
  },
  {
   "cell_type": "code",
   "execution_count": 62,
   "metadata": {},
   "outputs": [
    {
     "data": {
      "text/plain": [
       "['брать',\n",
       " 'кредит',\n",
       " 'мегабанк',\n",
       " 'автомобиль',\n",
       " 'выдать',\n",
       " 'день',\n",
       " 'никакой',\n",
       " 'скрытый',\n",
       " 'комиссия',\n",
       " 'переплата',\n",
       " 'банк',\n",
       " 'удобный',\n",
       " 'мобильный',\n",
       " 'приложение',\n",
       " 'который',\n",
       " 'быстро',\n",
       " 'отправить',\n",
       " 'ежемесячный',\n",
       " 'платёж',\n",
       " 'досрочный',\n",
       " 'гасить',\n",
       " 'начать',\n",
       " 'месяц',\n",
       " 'довольный',\n",
       " 'оперативность',\n",
       " 'удобство',\n",
       " 'огромный',\n",
       " 'спасибо']"
      ]
     },
     "execution_count": 62,
     "metadata": {},
     "output_type": "execute_result"
    }
   ],
   "source": [
    "positive_preprocessed_text"
   ]
  },
  {
   "cell_type": "code",
   "execution_count": 63,
   "metadata": {},
   "outputs": [],
   "source": [
    "positive_seq = text_to_sequence(positive_preprocessed_text, word_to_index)"
   ]
  },
  {
   "cell_type": "code",
   "execution_count": 64,
   "metadata": {},
   "outputs": [
    {
     "data": {
      "text/plain": [
       "[171,\n",
       " 9,\n",
       " 964,\n",
       " 137,\n",
       " 5,\n",
       " 81,\n",
       " 80,\n",
       " 2,\n",
       " 288,\n",
       " 306,\n",
       " 764,\n",
       " 8,\n",
       " 129,\n",
       " 206,\n",
       " 490,\n",
       " 30,\n",
       " 359,\n",
       " 279,\n",
       " 34,\n",
       " 300,\n",
       " 911,\n",
       " 313,\n",
       " 75]"
      ]
     },
     "execution_count": 64,
     "metadata": {},
     "output_type": "execute_result"
    }
   ],
   "source": [
    "positive_seq"
   ]
  },
  {
   "cell_type": "code",
   "execution_count": 65,
   "metadata": {},
   "outputs": [],
   "source": [
    "positive_bow = vectorize_sequences([positive_seq], max_words)"
   ]
  },
  {
   "cell_type": "code",
   "execution_count": 66,
   "metadata": {},
   "outputs": [
    {
     "data": {
      "text/plain": [
       "array([0., 0., 1., 0., 0., 1., 0., 0., 1., 1., 0., 0., 0., 0., 0., 0., 0.,\n",
       "       0., 0., 0., 0., 0., 0., 0., 0., 0., 0., 0., 0., 0., 1., 0., 0., 0.,\n",
       "       1., 0., 0., 0., 0., 0., 0., 0., 0., 0., 0., 0., 0., 0., 0., 0., 0.,\n",
       "       0., 0., 0., 0., 0., 0., 0., 0., 0., 0., 0., 0., 0., 0., 0., 0., 0.,\n",
       "       0., 0., 0., 0., 0., 0., 0., 1., 0., 0., 0., 0., 1., 1., 0., 0., 0.,\n",
       "       0., 0., 0., 0., 0., 0., 0., 0., 0., 0., 0., 0., 0., 0., 0.])"
      ]
     },
     "execution_count": 66,
     "metadata": {},
     "output_type": "execute_result"
    }
   ],
   "source": [
    "positive_bow[0][0:100]"
   ]
  },
  {
   "attachments": {},
   "cell_type": "markdown",
   "metadata": {},
   "source": [
    "Выполняем распознавание"
   ]
  },
  {
   "cell_type": "code",
   "execution_count": 67,
   "metadata": {},
   "outputs": [],
   "source": [
    "result = lr.predict(positive_bow)"
   ]
  },
  {
   "cell_type": "code",
   "execution_count": 68,
   "metadata": {},
   "outputs": [
    {
     "data": {
      "text/plain": [
       "array([1])"
      ]
     },
     "execution_count": 68,
     "metadata": {},
     "output_type": "execute_result"
    }
   ],
   "source": [
    "result"
   ]
  },
  {
   "attachments": {},
   "cell_type": "markdown",
   "metadata": {},
   "source": [
    "Негативный отзыв"
   ]
  },
  {
   "cell_type": "code",
   "execution_count": 69,
   "metadata": {},
   "outputs": [],
   "source": [
    "negative_text = \"\"\"Взял кредит в ТакСебеБанке на автомобиль. В договор включили обязательный контракт\n",
    "на помощь на дороге, который мне не нужен. Узнал об этом только во время подписания договора, иначе бы отказался.\n",
    "Альтернативы была страхование жизни, но мне это даже не предложили. Скорее всего, менеджер продвигает\n",
    "продажи услуг этой компании в ущерб интересов клиента. Как минимум, непорядочно и непрофессионально.\n",
    "У банка ужасное мобильное приложение, из-за которого с меня взяли штраф 10 тыс.руб. По требованиям \n",
    "банка после покупки автомобиля в приложении нужно загрузить ПТС. Я загрузил и проверил, что ПТС в приложении есть.\n",
    "Но через некоторое время ПТС из приложения пропал и с меня взяли штраф. Никому не рекомендую связываться с ТакСебеБанком.\n",
    "\"\"\""
   ]
  },
  {
   "cell_type": "code",
   "execution_count": 70,
   "metadata": {},
   "outputs": [],
   "source": [
    "negative_preprocessed_text = preprocess(negative_text, stop_words, punctuation_marks, morph)\n",
    "negative_seq = text_to_sequence(negative_preprocessed_text, word_to_index)\n",
    "negative_bow = vectorize_sequences([negative_seq], max_words)"
   ]
  },
  {
   "cell_type": "code",
   "execution_count": 71,
   "metadata": {},
   "outputs": [],
   "source": [
    "result = lr.predict(negative_bow)"
   ]
  },
  {
   "cell_type": "code",
   "execution_count": 72,
   "metadata": {},
   "outputs": [
    {
     "data": {
      "text/plain": [
       "array([1])"
      ]
     },
     "execution_count": 72,
     "metadata": {},
     "output_type": "execute_result"
    }
   ],
   "source": [
    "result"
   ]
  },
  {
   "cell_type": "code",
   "execution_count": 73,
   "metadata": {},
   "outputs": [],
   "source": [
    "result = lr.predict_proba(negative_bow)"
   ]
  },
  {
   "cell_type": "code",
   "execution_count": 74,
   "metadata": {},
   "outputs": [
    {
     "data": {
      "text/plain": [
       "array([[0.17866721, 0.82133279]])"
      ]
     },
     "execution_count": 74,
     "metadata": {},
     "output_type": "execute_result"
    }
   ],
   "source": [
    "result"
   ]
  },
  {
   "cell_type": "code",
   "execution_count": null,
   "metadata": {},
   "outputs": [],
   "source": []
  },
  {
   "cell_type": "code",
   "execution_count": null,
   "metadata": {},
   "outputs": [],
   "source": []
  },
  {
   "cell_type": "code",
   "execution_count": null,
   "metadata": {},
   "outputs": [],
   "source": []
  }
 ],
 "metadata": {
  "kernelspec": {
   "display_name": "base",
   "language": "python",
   "name": "python3"
  },
  "language_info": {
   "codemirror_mode": {
    "name": "ipython",
    "version": 3
   },
   "file_extension": ".py",
   "mimetype": "text/x-python",
   "name": "python",
   "nbconvert_exporter": "python",
   "pygments_lexer": "ipython3",
   "version": "3.9.12"
  },
  "orig_nbformat": 4,
  "vscode": {
   "interpreter": {
    "hash": "93b519a33c7b9c18f394fb9ccbe51984c6623684928c4d9fd53b2a8ee8911f5e"
   }
  }
 },
 "nbformat": 4,
 "nbformat_minor": 2
}
